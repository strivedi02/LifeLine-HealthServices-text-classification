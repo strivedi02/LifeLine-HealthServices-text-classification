{
  "nbformat": 4,
  "nbformat_minor": 0,
  "metadata": {
    "colab": {
      "name": "Cute_4-Copy1 (2).ipynb",
      "version": "0.3.2",
      "provenance": [],
      "collapsed_sections": [],
      "toc_visible": true
    },
    "kernelspec": {
      "name": "python3",
      "display_name": "Python 3"
    },
    "accelerator": "GPU"
  },
  "cells": [
    {
      "cell_type": "code",
      "metadata": {
        "id": "lwbfgf-BfMlO",
        "colab_type": "code",
        "outputId": "4c8dc2e4-8048-4c37-f2b1-48d1f4741511",
        "colab": {
          "base_uri": "https://localhost:8080/",
          "height": 139
        }
      },
      "source": [
        "import os\n",
        "PATH = os.getcwd()\n",
        "\n",
        "print(PATH)\n",
        "\n",
        "from google.colab import drive\n",
        "drive.mount('/content/gdrive')\n",
        "\n",
        "os.chdir(\"/content/gdrive/My Drive/Cute04\")"
      ],
      "execution_count": 0,
      "outputs": [
        {
          "output_type": "stream",
          "text": [
            "/content\n",
            "Go to this URL in a browser: https://accounts.google.com/o/oauth2/auth?client_id=947318989803-6bn6qk8qdgf4n4g3pfee6491hc0brc4i.apps.googleusercontent.com&redirect_uri=urn%3Aietf%3Awg%3Aoauth%3A2.0%3Aoob&scope=email%20https%3A%2F%2Fwww.googleapis.com%2Fauth%2Fdocs.test%20https%3A%2F%2Fwww.googleapis.com%2Fauth%2Fdrive%20https%3A%2F%2Fwww.googleapis.com%2Fauth%2Fdrive.photos.readonly%20https%3A%2F%2Fwww.googleapis.com%2Fauth%2Fpeopleapi.readonly&response_type=code\n",
            "\n",
            "Enter your authorization code:\n",
            "··········\n",
            "Mounted at /content/gdrive\n"
          ],
          "name": "stdout"
        }
      ]
    },
    {
      "cell_type": "code",
      "metadata": {
        "id": "Um8K1pfvfa4E",
        "colab_type": "code",
        "outputId": "3642b729-7dd3-46f0-b3c1-0fed38edf35e",
        "colab": {
          "base_uri": "https://localhost:8080/",
          "height": 34
        }
      },
      "source": [
        "import tensorflow as tf\n",
        "device_name = tf.test.gpu_device_name()\n",
        "if device_name != '/device:GPU:0':\n",
        "  raise SystemError('GPU device not found')\n",
        "print('Found GPU at: {}'.format(device_name))"
      ],
      "execution_count": 0,
      "outputs": [
        {
          "output_type": "stream",
          "text": [
            "Found GPU at: /device:GPU:0\n"
          ],
          "name": "stdout"
        }
      ]
    },
    {
      "cell_type": "code",
      "metadata": {
        "id": "QllGvRc0fJH2",
        "colab_type": "code",
        "outputId": "3236924f-f389-4176-942b-05f90cff35a2",
        "colab": {
          "base_uri": "https://localhost:8080/",
          "height": 34
        }
      },
      "source": [
        "import os\n",
        "\n",
        "from keras.preprocessing.text import Tokenizer,text_to_word_sequence\n",
        "from keras.preprocessing import sequence\n",
        "from keras.models import Sequential\n",
        "from keras import layers\n",
        "from keras.layers import Activation, Conv1D, Dense, Embedding, Flatten, Input, MaxPooling1D\n",
        "\n",
        "from sklearn.preprocessing import OneHotEncoder\n",
        "from sklearn.preprocessing import LabelEncoder\n",
        "\n",
        "\n",
        "%matplotlib inline\n",
        "import matplotlib.pyplot as plt\n",
        "\n",
        "import re\n",
        "import pandas as pd\n",
        "import random\n",
        "from nltk.classify.scikitlearn import SklearnClassifier\n",
        "from sklearn.feature_extraction.text import CountVectorizer\n",
        "from sklearn.metrics import confusion_matrix\n",
        "import seaborn as sns\n",
        "import matplotlib.pyplot as plt\n",
        "sns.set(color_codes=True)\n",
        "\n",
        "import numpy as np"
      ],
      "execution_count": 0,
      "outputs": [
        {
          "output_type": "stream",
          "text": [
            "Using TensorFlow backend.\n"
          ],
          "name": "stderr"
        }
      ]
    },
    {
      "cell_type": "markdown",
      "metadata": {
        "id": "U7LPQKLPfJH7",
        "colab_type": "text"
      },
      "source": [
        "# Import of train and test data"
      ]
    },
    {
      "cell_type": "code",
      "metadata": {
        "id": "TX0ZGEvbfJH8",
        "colab_type": "code",
        "outputId": "0dc18cad-80df-4aa2-b673-2774b966b764",
        "colab": {
          "base_uri": "https://localhost:8080/",
          "height": 85
        }
      },
      "source": [
        "train_rawdata = pd.read_csv(\"train-1546603042473.csv\")\n",
        "test_rawdata = pd.read_csv(\"test3.csv\")\n",
        "print(train_rawdata.shape)\n",
        "print(type(train_rawdata))\n",
        "print(test_rawdata.shape)\n",
        "print(type(test_rawdata))"
      ],
      "execution_count": 0,
      "outputs": [
        {
          "output_type": "stream",
          "text": [
            "(48699, 2)\n",
            "<class 'pandas.core.frame.DataFrame'>\n",
            "(8581, 2)\n",
            "<class 'pandas.core.frame.DataFrame'>\n"
          ],
          "name": "stdout"
        }
      ]
    },
    {
      "cell_type": "markdown",
      "metadata": {
        "id": "BRWr0rhffJID",
        "colab_type": "text"
      },
      "source": [
        "# Data Exploration\n"
      ]
    },
    {
      "cell_type": "code",
      "metadata": {
        "id": "bQ3ShD9zfJIE",
        "colab_type": "code",
        "outputId": "78ccac71-4e71-4cb1-c0c4-a59842783e89",
        "colab": {
          "base_uri": "https://localhost:8080/",
          "height": 204
        }
      },
      "source": [
        "train_rawdata.head()"
      ],
      "execution_count": 0,
      "outputs": [
        {
          "output_type": "execute_result",
          "data": {
            "text/html": [
              "<div>\n",
              "<style scoped>\n",
              "    .dataframe tbody tr th:only-of-type {\n",
              "        vertical-align: middle;\n",
              "    }\n",
              "\n",
              "    .dataframe tbody tr th {\n",
              "        vertical-align: top;\n",
              "    }\n",
              "\n",
              "    .dataframe thead th {\n",
              "        text-align: right;\n",
              "    }\n",
              "</style>\n",
              "<table border=\"1\" class=\"dataframe\">\n",
              "  <thead>\n",
              "    <tr style=\"text-align: right;\">\n",
              "      <th></th>\n",
              "      <th>categories</th>\n",
              "      <th>converse</th>\n",
              "    </tr>\n",
              "  </thead>\n",
              "  <tbody>\n",
              "    <tr>\n",
              "      <th>0</th>\n",
              "      <td>QUERIES FROM PHARMACY</td>\n",
              "      <td>please to verify instructions for drugname pat...</td>\n",
              "    </tr>\n",
              "    <tr>\n",
              "      <th>1</th>\n",
              "      <td>NEW APPOINTMENT</td>\n",
              "      <td>lmovm for patients mother to and schd rov trac...</td>\n",
              "    </tr>\n",
              "    <tr>\n",
              "      <th>2</th>\n",
              "      <td>OTHERS</td>\n",
              "      <td>labtype and insurance approval other incoming ...</td>\n",
              "    </tr>\n",
              "    <tr>\n",
              "      <th>3</th>\n",
              "      <td>OTHERS</td>\n",
              "      <td>clinical list changes medfusion secure electro...</td>\n",
              "    </tr>\n",
              "    <tr>\n",
              "      <th>4</th>\n",
              "      <td>MEDICATION RELATED</td>\n",
              "      <td>wants to wean off medication work phone name d...</td>\n",
              "    </tr>\n",
              "  </tbody>\n",
              "</table>\n",
              "</div>"
            ],
            "text/plain": [
              "              categories                                           converse\n",
              "0  QUERIES FROM PHARMACY  please to verify instructions for drugname pat...\n",
              "1        NEW APPOINTMENT  lmovm for patients mother to and schd rov trac...\n",
              "2                 OTHERS  labtype and insurance approval other incoming ...\n",
              "3                 OTHERS  clinical list changes medfusion secure electro...\n",
              "4     MEDICATION RELATED  wants to wean off medication work phone name d..."
            ]
          },
          "metadata": {
            "tags": []
          },
          "execution_count": 4
        }
      ]
    },
    {
      "cell_type": "markdown",
      "metadata": {
        "id": "cDhcWsZvfJII",
        "colab_type": "text"
      },
      "source": [
        "## To check the frequency of different class of target variable"
      ]
    },
    {
      "cell_type": "code",
      "metadata": {
        "id": "Q6c0n0RFfJIJ",
        "colab_type": "code",
        "outputId": "a73a106c-6d68-4fcb-d14e-f49d7a99cee1",
        "colab": {
          "base_uri": "https://localhost:8080/",
          "height": 391
        }
      },
      "source": [
        "train_rawdata.categories.value_counts()"
      ],
      "execution_count": 0,
      "outputs": [
        {
          "output_type": "execute_result",
          "data": {
            "text/plain": [
              "MEDICATION RELATED                               9010\n",
              "NEW APPOINTMENT                                  8907\n",
              "REFILL                                           8347\n",
              "OTHERS                                           6253\n",
              "SHARING OF HEALTH RECORDS (FAX, E-MAIL, ETC.)    3018\n",
              "LAB RESULTS                                      2253\n",
              "PROVIDER                                         1677\n",
              "QUERIES FROM PHARMACY                            1464\n",
              "RESCHEDULING                                     1383\n",
              "SHARING OF LAB RECORDS (FAX, E-MAIL, ETC.)       1212\n",
              "PRIOR AUTHORIZATION                              1043\n",
              "SYMPTOMS                                         1021\n",
              "CHANGE OF PROVIDER                                811\n",
              "RUNNING LATE TO APPOINTMENT                       590\n",
              "CANCELLATION                                      564\n",
              "QUERY ON CURRENT APPOINTMENT                      559\n",
              "FOLLOW UP ON PREVIOUS REQUEST                     304\n",
              "CHANGE OF HOSPITAL                                127\n",
              "QUERIES FROM INSURANCE FIRM                        91\n",
              "CHANGE OF PHARMACY                                 47\n",
              "JUNK                                               18\n",
              "Name: categories, dtype: int64"
            ]
          },
          "metadata": {
            "tags": []
          },
          "execution_count": 5
        }
      ]
    },
    {
      "cell_type": "markdown",
      "metadata": {
        "id": "ZyiDqxXefJIO",
        "colab_type": "text"
      },
      "source": [
        "# To remove the missing data from train data"
      ]
    },
    {
      "cell_type": "code",
      "metadata": {
        "id": "DDdmYgBWfJIP",
        "colab_type": "code",
        "colab": {}
      },
      "source": [
        "train_rawdata1=train_rawdata[pd.notnull(train_rawdata['converse'])]"
      ],
      "execution_count": 0,
      "outputs": []
    },
    {
      "cell_type": "markdown",
      "metadata": {
        "id": "0K4cyPz_fJIR",
        "colab_type": "text"
      },
      "source": [
        "# To check the null value after deleting the missing rows"
      ]
    },
    {
      "cell_type": "code",
      "metadata": {
        "id": "kdDrIc1dfJIT",
        "colab_type": "code",
        "outputId": "5c6e0d3e-cd75-4c2e-be83-71943de79e75",
        "colab": {
          "base_uri": "https://localhost:8080/",
          "height": 68
        }
      },
      "source": [
        "train_rawdata1.isnull().sum()"
      ],
      "execution_count": 0,
      "outputs": [
        {
          "output_type": "execute_result",
          "data": {
            "text/plain": [
              "categories    0\n",
              "converse      0\n",
              "dtype: int64"
            ]
          },
          "metadata": {
            "tags": []
          },
          "execution_count": 7
        }
      ]
    },
    {
      "cell_type": "code",
      "metadata": {
        "id": "uEhcY3HBfJIX",
        "colab_type": "code",
        "colab": {}
      },
      "source": [
        "target=train_rawdata1[\"categories\"]\n"
      ],
      "execution_count": 0,
      "outputs": []
    },
    {
      "cell_type": "code",
      "metadata": {
        "id": "J5UZLQy4fJIb",
        "colab_type": "code",
        "colab": {}
      },
      "source": [
        "#target=target.map({'MEDICATION RELATED':0,'NEW APPOINTMENT':1,'REFILL':2,'OTHERS':3,'SHARING OF HEALTH RECORDS (FAX, E-MAIL, ETC.)':4,'LAB RESULTS':5,'PROVIDER':6,'QUERIES FROM PHARMACY':7,'RESCHEDULING':8,'SHARING OF LAB RECORDS (FAX, E-MAIL, ETC.)':9,'PRIOR AUTHORIZATION':10,'SYMPTOMS':11,'CHANGE OF PROVIDER':12,'RUNNING LATE TO APPOINTMENT':13,'CANCELLATION':14,'QUERY ON CURRENT APPOINTMENT':15,'FOLLOW UP ON PREVIOUS REQUEST':16,'CHANGE OF HOSPITAL':17,'QUERIES FROM INSURANCE FIRM':18,'CHANGE OF PHARMACY':19,'JUNK':20})"
      ],
      "execution_count": 0,
      "outputs": []
    },
    {
      "cell_type": "code",
      "metadata": {
        "id": "mhROQbNMfJIe",
        "colab_type": "code",
        "outputId": "57f36b3e-c2d3-44df-fcfa-77d5b896906d",
        "colab": {
          "base_uri": "https://localhost:8080/",
          "height": 1000
        }
      },
      "source": [
        "target"
      ],
      "execution_count": 0,
      "outputs": [
        {
          "output_type": "execute_result",
          "data": {
            "text/plain": [
              "0                                QUERIES FROM PHARMACY\n",
              "1                                      NEW APPOINTMENT\n",
              "2                                               OTHERS\n",
              "3                                               OTHERS\n",
              "4                                   MEDICATION RELATED\n",
              "5                                   MEDICATION RELATED\n",
              "6                                   MEDICATION RELATED\n",
              "7        SHARING OF HEALTH RECORDS (FAX, E-MAIL, ETC.)\n",
              "8                                   MEDICATION RELATED\n",
              "9                                               REFILL\n",
              "10       SHARING OF HEALTH RECORDS (FAX, E-MAIL, ETC.)\n",
              "11                                 PRIOR AUTHORIZATION\n",
              "12                                              OTHERS\n",
              "13       SHARING OF HEALTH RECORDS (FAX, E-MAIL, ETC.)\n",
              "14                                              OTHERS\n",
              "15                                     NEW APPOINTMENT\n",
              "16                                        RESCHEDULING\n",
              "17                                              OTHERS\n",
              "18                                            SYMPTOMS\n",
              "19                                         LAB RESULTS\n",
              "20                                     NEW APPOINTMENT\n",
              "21                       FOLLOW UP ON PREVIOUS REQUEST\n",
              "22                                         LAB RESULTS\n",
              "23                                            PROVIDER\n",
              "24                                  MEDICATION RELATED\n",
              "25                                              OTHERS\n",
              "26                                     NEW APPOINTMENT\n",
              "27       SHARING OF HEALTH RECORDS (FAX, E-MAIL, ETC.)\n",
              "28                                              REFILL\n",
              "29                                  MEDICATION RELATED\n",
              "                             ...                      \n",
              "48669                                         PROVIDER\n",
              "48670                               MEDICATION RELATED\n",
              "48671                                         PROVIDER\n",
              "48672                                  NEW APPOINTMENT\n",
              "48673                                           REFILL\n",
              "48674                            QUERIES FROM PHARMACY\n",
              "48675                                     CANCELLATION\n",
              "48676                                  NEW APPOINTMENT\n",
              "48677                                           OTHERS\n",
              "48678                                           REFILL\n",
              "48679                               MEDICATION RELATED\n",
              "48680                                           REFILL\n",
              "48681                                  NEW APPOINTMENT\n",
              "48682                                      LAB RESULTS\n",
              "48683       SHARING OF LAB RECORDS (FAX, E-MAIL, ETC.)\n",
              "48684                                           REFILL\n",
              "48685                                  NEW APPOINTMENT\n",
              "48686                                           REFILL\n",
              "48687                               MEDICATION RELATED\n",
              "48688    SHARING OF HEALTH RECORDS (FAX, E-MAIL, ETC.)\n",
              "48689                               MEDICATION RELATED\n",
              "48690                                  NEW APPOINTMENT\n",
              "48691    SHARING OF HEALTH RECORDS (FAX, E-MAIL, ETC.)\n",
              "48692                                         PROVIDER\n",
              "48693                                           OTHERS\n",
              "48694                                           OTHERS\n",
              "48695                                           REFILL\n",
              "48696                                           REFILL\n",
              "48697                                  NEW APPOINTMENT\n",
              "48698                               MEDICATION RELATED\n",
              "Name: categories, Length: 48667, dtype: object"
            ]
          },
          "metadata": {
            "tags": []
          },
          "execution_count": 10
        }
      ]
    },
    {
      "cell_type": "markdown",
      "metadata": {
        "id": "pxUGoeBmfJIi",
        "colab_type": "text"
      },
      "source": [
        "# To change the target varible from object into categorical"
      ]
    },
    {
      "cell_type": "code",
      "metadata": {
        "id": "ovTAwFZtfJIi",
        "colab_type": "code",
        "colab": {}
      },
      "source": [
        "target=target.astype('category')"
      ],
      "execution_count": 0,
      "outputs": []
    },
    {
      "cell_type": "markdown",
      "metadata": {
        "id": "vLJp5ujKfJIm",
        "colab_type": "text"
      },
      "source": [
        "# To check the shape of target variable"
      ]
    },
    {
      "cell_type": "code",
      "metadata": {
        "id": "U9WswLVLfJIn",
        "colab_type": "code",
        "outputId": "1ce57beb-6df6-4c15-985a-d8ec52232673",
        "colab": {
          "base_uri": "https://localhost:8080/",
          "height": 34
        }
      },
      "source": [
        "target.shape"
      ],
      "execution_count": 0,
      "outputs": [
        {
          "output_type": "execute_result",
          "data": {
            "text/plain": [
              "(48667,)"
            ]
          },
          "metadata": {
            "tags": []
          },
          "execution_count": 12
        }
      ]
    },
    {
      "cell_type": "code",
      "metadata": {
        "id": "FXsKQVemfJIs",
        "colab_type": "code",
        "colab": {}
      },
      "source": [
        "texts=train_rawdata1[\"converse\"]\n",
        "test_texts=test_rawdata[\"converse\"]"
      ],
      "execution_count": 0,
      "outputs": []
    },
    {
      "cell_type": "markdown",
      "metadata": {
        "id": "KQZr-2aefJIu",
        "colab_type": "text"
      },
      "source": [
        "# To change text into categorical"
      ]
    },
    {
      "cell_type": "code",
      "metadata": {
        "id": "tPjpEpoufJIv",
        "colab_type": "code",
        "colab": {}
      },
      "source": [
        "new_texts=texts.append(test_texts).astype('str')"
      ],
      "execution_count": 0,
      "outputs": []
    },
    {
      "cell_type": "code",
      "metadata": {
        "id": "NZorAIVSfJI0",
        "colab_type": "code",
        "outputId": "d728e982-0911-4786-82a4-59654255577f",
        "colab": {
          "base_uri": "https://localhost:8080/",
          "height": 1000
        }
      },
      "source": [
        "print(new_texts)"
      ],
      "execution_count": 0,
      "outputs": [
        {
          "output_type": "stream",
          "text": [
            "0       please to verify instructions for drugname pat...\n",
            "1       lmovm for patients mother to and schd rov trac...\n",
            "2       labtype and insurance approval other incoming ...\n",
            "3       clinical list changes medfusion secure electro...\n",
            "4       wants to wean off medication work phone name d...\n",
            "5       patient declining following up name patient ap...\n",
            "6       patients clld to speak with the rn about injec...\n",
            "7       need signature athena lab form patient appoint...\n",
            "8       increase in has and neck pain given to patient...\n",
            "9       Rx refill drugname xr name grandparent for pre...\n",
            "10      order for cognitive testing sent to wake medic...\n",
            "11      drugname xr not covered methylphenidate Rx pre...\n",
            "12      medfusion secure electronic message subject ra...\n",
            "13      checking on form that was faxed for patients t...\n",
            "14      with mom jcg pm jacqueline gower pm rachel ric...\n",
            "15      scheduled appointments next appointment am new...\n",
            "16      waiting back md switch phone patient other pat...\n",
            "17      medfusion secure electronic message subject re...\n",
            "18      md patients having difficulty sleeping triage ...\n",
            "19      labtype result ed on for sz dose change labtyp...\n",
            "20      add on am established patientp raleigh doctype...\n",
            "21      mom for status of Rx for fioricet walgreens pl...\n",
            "22      please with lab results labtype results bloodw...\n",
            "23      labtype and after injection appointment am sar...\n",
            "24      pain going down left leg both feet feel like t...\n",
            "25      hipaa breach other patients prescription on wa...\n",
            "26      pm tpi rna deese anp stacy pm tpi rna deese an...\n",
            "27      drayer patients for referral order from other ...\n",
            "28      dilaudidopana rxs fill at rna patient prescrip...\n",
            "29      can patients have perm patient other patients ...\n",
            "                              ...                        \n",
            "8551    patient cold request copy labtype report patie...\n",
            "8552    lvmtcb new path appointment trace center patie...\n",
            "8553    please review dr request brain labtype result ...\n",
            "8554    row holly pm patient schedule appointment pati...\n",
            "8555    gin maudlin prior authorization put next avail...\n",
            "8556      lvmtcb confirm appointment clinical list change\n",
            "8557    per johnny get auto visit johnny real confirm ...\n",
            "8558    kill carry pm dense jones pm ripley follow ord...\n",
            "8559    duke eye center future appointment update rhod...\n",
            "8560    mon want schedule patient hit head name appoin...\n",
            "8561    drugname refill request prescription refill dr...\n",
            "8562    appointment patient appointment patient reques...\n",
            "8563    labtype schelling mon labtype result labtype d...\n",
            "8564    pm row durham office lay iii ftp bc harry appo...\n",
            "8565    row schedule patient appointment patient want ...\n",
            "8566    patient cold speak come labtype patient appoin...\n",
            "8567    behind steinmetz pm land hall pm land hall pat...\n",
            "8568                      iv timephrase pm doctor shafter\n",
            "8569    print medicine record fat ran durham office ni...\n",
            "8570    seizure description name patient nurse trade a...\n",
            "8571    prior authorization approval clinical list cha...\n",
            "8572    waken ultrasound order clinic name waken reaso...\n",
            "8573    sign patient prescription refill drugname tabe...\n",
            "8574    renew smith yes ill md pad get touch phone wou...\n",
            "8575    w state report labtype brain report relax part...\n",
            "8576    drop next row please earlier need patient pati...\n",
            "8577    patient mon c schedule row jug md follow order...\n",
            "8578    ha injection rather patient patient patient wo...\n",
            "8579    fix wm neurosych fix demographic insurance car...\n",
            "8580    patient appointment name mon need patient mon ...\n",
            "Name: converse, Length: 57248, dtype: object\n"
          ],
          "name": "stdout"
        }
      ]
    },
    {
      "cell_type": "code",
      "metadata": {
        "id": "JgGyITmrfJI5",
        "colab_type": "code",
        "outputId": "9fbac8a3-28ec-4005-a989-961e3a94e474",
        "colab": {
          "base_uri": "https://localhost:8080/",
          "height": 34
        }
      },
      "source": [
        "new_texts.shape"
      ],
      "execution_count": 0,
      "outputs": [
        {
          "output_type": "execute_result",
          "data": {
            "text/plain": [
              "(57248,)"
            ]
          },
          "metadata": {
            "tags": []
          },
          "execution_count": 16
        }
      ]
    },
    {
      "cell_type": "markdown",
      "metadata": {
        "id": "01wU6l3tfJJC",
        "colab_type": "text"
      },
      "source": [
        "# Data Preprocessing\n",
        "### To convert text into token\n",
        "### To create word index "
      ]
    },
    {
      "cell_type": "code",
      "metadata": {
        "id": "Wy0gYln2fJJD",
        "colab_type": "code",
        "colab": {}
      },
      "source": [
        "from keras.preprocessing import sequence\n",
        "\n",
        "tok = Tokenizer()\n",
        "tok.fit_on_texts(new_texts)\n",
        "\n",
        "word_Index = tok.word_index\n"
      ],
      "execution_count": 0,
      "outputs": []
    },
    {
      "cell_type": "markdown",
      "metadata": {
        "id": "6rTH4UqqfJJG",
        "colab_type": "text"
      },
      "source": [
        "### To calculate the vocab size using word index "
      ]
    },
    {
      "cell_type": "code",
      "metadata": {
        "id": "UeKtf-Y8fJJH",
        "colab_type": "code",
        "outputId": "64687e15-8ce0-483f-c6f9-b2eaf1a8d35c",
        "colab": {
          "base_uri": "https://localhost:8080/",
          "height": 34
        }
      },
      "source": [
        "vocab_Size = len(word_Index) + 1\n",
        "print('Found %s unique tokens.' % vocab_Size)"
      ],
      "execution_count": 0,
      "outputs": [
        {
          "output_type": "stream",
          "text": [
            "Found 38194 unique tokens.\n"
          ],
          "name": "stdout"
        }
      ]
    },
    {
      "cell_type": "markdown",
      "metadata": {
        "id": "gJxZ73tTfJJK",
        "colab_type": "text"
      },
      "source": [
        "### To fit the token on dataset \n",
        "### To create sequence from word index"
      ]
    },
    {
      "cell_type": "code",
      "metadata": {
        "id": "CMNIPiA7fJJL",
        "colab_type": "code",
        "colab": {}
      },
      "source": [
        "tokn = Tokenizer(num_words=vocab_Size)\n",
        "tokn.fit_on_texts(new_texts)\n",
        "\n",
        "sequences = tokn.texts_to_sequences(new_texts)\n",
        "#sequences_matrix = sequence.pad_sequences(sequences,maxlen=max_len)"
      ],
      "execution_count": 0,
      "outputs": []
    },
    {
      "cell_type": "code",
      "metadata": {
        "id": "_24_E99EfJJO",
        "colab_type": "code",
        "outputId": "25a12fb6-1ecc-407d-a69d-564fbd03badf",
        "colab": {
          "base_uri": "https://localhost:8080/",
          "height": 68
        }
      },
      "source": [
        "print (len(sequences))\n",
        "print (len(sequences[0]))\n",
        "print (sequences[1])"
      ],
      "execution_count": 0,
      "outputs": [
        {
          "output_type": "stream",
          "text": [
            "57248\n",
            "35\n",
            "[735, 6, 2, 506, 1, 3, 660, 114, 773, 812, 29, 426, 471, 23, 442, 2734]\n"
          ],
          "name": "stdout"
        }
      ]
    },
    {
      "cell_type": "code",
      "metadata": {
        "id": "gtCKpnEmfJJT",
        "colab_type": "code",
        "outputId": "9ee081b4-7bb2-45a3-9258-6a548d87ca71",
        "colab": {
          "base_uri": "https://localhost:8080/",
          "height": 54
        }
      },
      "source": [
        "print(texts[0], sequences[0])\n"
      ],
      "execution_count": 0,
      "outputs": [
        {
          "output_type": "stream",
          "text": [
            "please to verify instructions for drugname patients wi from pharmacy target reason for call details please to verify instructions for drugname patients will be picking up Rx timephrase clarified Rx with pharmacy lisa gilligan rn [16, 1, 783, 141, 6, 10, 2, 2207, 39, 53, 1140, 122, 6, 119, 111, 16, 1, 783, 141, 6, 10, 2, 36, 46, 3213, 82, 25, 7, 2171, 25, 17, 53, 138, 418, 15]\n"
          ],
          "name": "stdout"
        }
      ]
    },
    {
      "cell_type": "markdown",
      "metadata": {
        "id": "XJtd6itgfJJX",
        "colab_type": "text"
      },
      "source": [
        "# sequences_matrix "
      ]
    },
    {
      "cell_type": "code",
      "metadata": {
        "id": "39FVfrcQfJJZ",
        "colab_type": "code",
        "outputId": "c2899caa-0532-4951-a774-c00563cca8ae",
        "colab": {
          "base_uri": "https://localhost:8080/",
          "height": 54
        }
      },
      "source": [
        "# Create inverse index mapping numbers to words\n",
        "inv_index = {v: k for k, v in tokn.word_index.items()}\n",
        "\n",
        "# Print out text again\n",
        "for w in sequences[48666]:\n",
        "    x = inv_index.get(w)\n",
        "    print(x,end = ' ')"
      ],
      "execution_count": 0,
      "outputs": [
        {
          "output_type": "stream",
          "text": [
            "sudden aphasia and trouble walking significant other other rcvd from patients partner jeffrey not on hipaa received verbal permission from patients to discuss patients health information w jeffrey he reports that patients is suffering from severe aphasia she is having trouble getting words out and having trouble spelling he also states that her neuropathy is bad and shes using a cane to get around patients sxs started timephrase when she woke up and are worsening patients has never had these sxs before rn advised patients to go to the er especially w the sudden aphasia jeffrey reports patients went to unc er timephrase they sent her home in a couple hours and stated all her problems were psychosomatic denies medicines changes in the past month patients last ofv was and has a scheduled visit on rn readvised for patients to go to the er if sxs worsened jefferey voiced understanding timephrase pm rna follow see msg regarding patients sx bjr out of office this timephrase so sending to sc for advisement ok to move up patients appt provider notified tisha walker rn timephrase pm i agree she should be evaluated in the ed please schedule at next available appointment any available nppa stacey carroll anp timephrase "
          ],
          "name": "stdout"
        }
      ]
    },
    {
      "cell_type": "code",
      "metadata": {
        "id": "uJbinK0KfJJd",
        "colab_type": "code",
        "outputId": "d5f82d91-0e4b-499d-cecf-79543445a387",
        "colab": {
          "base_uri": "https://localhost:8080/",
          "height": 34
        }
      },
      "source": [
        "avg = sum(map(len, sequences)) / len(sequences)\n",
        "\n",
        "# Get the standard deviation of the sequence length\n",
        "std = np.sqrt(sum(map(lambda x: (len(x) - avg)**2, sequences)) / len(sequences))\n",
        "\n",
        "avg,std"
      ],
      "execution_count": 0,
      "outputs": [
        {
          "output_type": "execute_result",
          "data": {
            "text/plain": [
              "(77.37555897149245, 51.05148390165794)"
            ]
          },
          "metadata": {
            "tags": []
          },
          "execution_count": 23
        }
      ]
    },
    {
      "cell_type": "code",
      "metadata": {
        "id": "f9L_0_e6fJJf",
        "colab_type": "code",
        "outputId": "9115fe7b-af3b-4d37-ce95-a018a0785fd8",
        "colab": {
          "base_uri": "https://localhost:8080/",
          "height": 563
        }
      },
      "source": [
        "%matplotlib inline\n",
        "import matplotlib.pyplot as plt\n",
        "\n",
        "seq_lens = [len(s) for s in sequences]\n",
        "plt.hist([l for l in seq_lens if l < 300], bins=50)"
      ],
      "execution_count": 0,
      "outputs": [
        {
          "output_type": "execute_result",
          "data": {
            "text/plain": [
              "(array([1.778e+03, 1.911e+03, 2.372e+03, 2.647e+03, 2.949e+03, 2.907e+03,\n",
              "        2.957e+03, 2.959e+03, 2.664e+03, 2.464e+03, 2.387e+03, 2.128e+03,\n",
              "        2.106e+03, 2.161e+03, 2.077e+03, 1.959e+03, 2.188e+03, 1.640e+03,\n",
              "        1.522e+03, 1.463e+03, 1.394e+03, 1.285e+03, 1.205e+03, 1.095e+03,\n",
              "        8.730e+02, 9.920e+02, 8.930e+02, 7.930e+02, 6.840e+02, 6.410e+02,\n",
              "        4.990e+02, 4.010e+02, 3.230e+02, 2.410e+02, 2.120e+02, 1.380e+02,\n",
              "        1.020e+02, 7.000e+01, 5.000e+01, 3.100e+01, 2.300e+01, 1.700e+01,\n",
              "        4.000e+00, 1.100e+01, 4.000e+00, 1.000e+00, 3.000e+00, 3.000e+00,\n",
              "        2.000e+00, 3.000e+00]),\n",
              " array([  1.  ,   6.96,  12.92,  18.88,  24.84,  30.8 ,  36.76,  42.72,\n",
              "         48.68,  54.64,  60.6 ,  66.56,  72.52,  78.48,  84.44,  90.4 ,\n",
              "         96.36, 102.32, 108.28, 114.24, 120.2 , 126.16, 132.12, 138.08,\n",
              "        144.04, 150.  , 155.96, 161.92, 167.88, 173.84, 179.8 , 185.76,\n",
              "        191.72, 197.68, 203.64, 209.6 , 215.56, 221.52, 227.48, 233.44,\n",
              "        239.4 , 245.36, 251.32, 257.28, 263.24, 269.2 , 275.16, 281.12,\n",
              "        287.08, 293.04, 299.  ]),\n",
              " <a list of 50 Patch objects>)"
            ]
          },
          "metadata": {
            "tags": []
          },
          "execution_count": 24
        },
        {
          "output_type": "display_data",
          "data": {
            "image/png": "[encoded data removed]",
            "text/plain": [
              "<Figure size 432x288 with 1 Axes>"
            ]
          },
          "metadata": {
            "tags": []
          }
        }
      ]
    },
    {
      "cell_type": "markdown",
      "metadata": {
        "id": "yFgNlj_RfJJk",
        "colab_type": "text"
      },
      "source": [
        "### Padding the vectorized data to bring all the rows into equal length"
      ]
    },
    {
      "cell_type": "code",
      "metadata": {
        "id": "R0ME-IELfJJl",
        "colab_type": "code",
        "colab": {}
      },
      "source": [
        "max_length = 200\n",
        "data1 = sequence.pad_sequences(sequences,padding='post', maxlen=max_length)"
      ],
      "execution_count": 0,
      "outputs": []
    },
    {
      "cell_type": "code",
      "metadata": {
        "id": "nvwvc3nyfJJo",
        "colab_type": "code",
        "outputId": "5993642f-042b-4d77-b9fc-672e47ca2c8b",
        "colab": {
          "base_uri": "https://localhost:8080/",
          "height": 34
        }
      },
      "source": [
        "print(len(data1[8]))"
      ],
      "execution_count": 0,
      "outputs": [
        {
          "output_type": "stream",
          "text": [
            "200\n"
          ],
          "name": "stdout"
        }
      ]
    },
    {
      "cell_type": "markdown",
      "metadata": {
        "id": "vopP7ESBfJJs",
        "colab_type": "text"
      },
      "source": [
        "### To dummify the target variable"
      ]
    },
    {
      "cell_type": "code",
      "metadata": {
        "id": "VC8BvqkSfJJt",
        "colab_type": "code",
        "colab": {}
      },
      "source": [
        "from sklearn.preprocessing import OneHotEncoder"
      ],
      "execution_count": 0,
      "outputs": []
    },
    {
      "cell_type": "code",
      "metadata": {
        "id": "-HxzCe3RfJJv",
        "colab_type": "code",
        "outputId": "875aa097-756c-4066-ab32-ac78ea3181e6",
        "colab": {
          "base_uri": "https://localhost:8080/",
          "height": 34
        }
      },
      "source": [
        "from sklearn.preprocessing import LabelEncoder\n",
        "\n",
        "encoder1 = LabelEncoder()\n",
        "target1 = encoder1.fit_transform(target)\n",
        "target1"
      ],
      "execution_count": 0,
      "outputs": [
        {
          "output_type": "execute_result",
          "data": {
            "text/plain": [
              "array([13,  8,  9, ..., 15,  8,  7])"
            ]
          },
          "metadata": {
            "tags": []
          },
          "execution_count": 28
        }
      ]
    },
    {
      "cell_type": "code",
      "metadata": {
        "id": "-Xyha0z7fJJy",
        "colab_type": "code",
        "outputId": "bd717069-1462-4f05-cd1b-26a2a79964bf",
        "colab": {
          "base_uri": "https://localhost:8080/",
          "height": 105
        }
      },
      "source": [
        "encoder = OneHotEncoder(sparse=False)\n",
        "target2 = target1.reshape((48667,1))\n",
        "target3=encoder.fit_transform(target2)"
      ],
      "execution_count": 0,
      "outputs": [
        {
          "output_type": "stream",
          "text": [
            "/usr/local/lib/python3.6/dist-packages/sklearn/preprocessing/_encoders.py:415: FutureWarning: The handling of integer data will change in version 0.22. Currently, the categories are determined based on the range [0, max(values)], while in the future they will be determined based on the unique values.\n",
            "If you want the future behaviour and silence this warning, you can specify \"categories='auto'\".\n",
            "In case you used a LabelEncoder before this OneHotEncoder to convert the categories to integers, then you can now use the OneHotEncoder directly.\n",
            "  warnings.warn(msg, FutureWarning)\n"
          ],
          "name": "stderr"
        }
      ]
    },
    {
      "cell_type": "code",
      "metadata": {
        "id": "Xpx9jkzOfJJ2",
        "colab_type": "code",
        "outputId": "54eeaf46-3800-4f08-d3d4-0638a4d2e721",
        "colab": {
          "base_uri": "https://localhost:8080/",
          "height": 34
        }
      },
      "source": [
        "target3.shape"
      ],
      "execution_count": 0,
      "outputs": [
        {
          "output_type": "execute_result",
          "data": {
            "text/plain": [
              "(48667, 21)"
            ]
          },
          "metadata": {
            "tags": []
          },
          "execution_count": 30
        }
      ]
    },
    {
      "cell_type": "markdown",
      "metadata": {
        "id": "MP0ZwlndfJJ5",
        "colab_type": "text"
      },
      "source": [
        "### To split data into train, validation and test"
      ]
    },
    {
      "cell_type": "code",
      "metadata": {
        "id": "fsPBY551fJJ5",
        "colab_type": "code",
        "colab": {}
      },
      "source": [
        "#MEDICATION RELATED,NEW APPOINTMENT,REFILL,OTHERS,SHARING OF HEALTH RECORDS (FAX, E-MAIL, ETC.),LAB RESULTS,PROVIDER,QUERIES FROM PHARMACY,RESCHEDULING,SHARING OF LAB RECORDS (FAX, E-MAIL, ETC.),PRIOR AUTHORIZATION,SYMPTOMS,CHANGE OF PROVIDER,RUNNING LATE TO APPOINTMENT,CANCELLATION,QUERY ON CURRENT APPOINTMENT,FOLLOW UP ON PREVIOUS REQUEST,CHANGE OF HOSPITAL,QUERIES FROM INSURANCE FIRM,CHANGE OF PHARMACY,JUNK"
      ],
      "execution_count": 0,
      "outputs": []
    },
    {
      "cell_type": "code",
      "metadata": {
        "id": "cBH01uWffJJ8",
        "colab_type": "code",
        "colab": {}
      },
      "source": [
        "x_train=data1[0:38932]\n",
        "x_val=data1[38932:48667]\n",
        "x_test=data1[48667:]\n",
        "\n",
        "y_train=target3[0:38932]\n",
        "y_val=target3[38932:]"
      ],
      "execution_count": 0,
      "outputs": []
    },
    {
      "cell_type": "code",
      "metadata": {
        "id": "dHJLvOSgfJJ-",
        "colab_type": "code",
        "outputId": "fa259ece-3761-4bb0-eb55-fbbe5108251e",
        "colab": {
          "base_uri": "https://localhost:8080/",
          "height": 102
        }
      },
      "source": [
        "print('Shape of labels:', x_train.shape)\n",
        "print('Shape of labels:', x_val.shape)\n",
        "print('Shape of labels:', x_test.shape)\n",
        "print('Shape of labels:', y_train.shape)\n",
        "print('Shape of labels:', y_val.shape)\n"
      ],
      "execution_count": 0,
      "outputs": [
        {
          "output_type": "stream",
          "text": [
            "Shape of labels: (38932, 200)\n",
            "Shape of labels: (9735, 200)\n",
            "Shape of labels: (8581, 200)\n",
            "Shape of labels: (38932, 21)\n",
            "Shape of labels: (9735, 21)\n"
          ],
          "name": "stdout"
        }
      ]
    },
    {
      "cell_type": "code",
      "metadata": {
        "id": "QIrr7KwDfJKF",
        "colab_type": "code",
        "outputId": "6594589d-d2a1-46fb-c07b-293e3984a696",
        "colab": {
          "base_uri": "https://localhost:8080/",
          "height": 54
        }
      },
      "source": [
        "inv_index = {v: k for k, v in tokn.word_index.items()}\n",
        "\n",
        "# Print out text again\n",
        "for w in x_test[0]:\n",
        "    x = inv_index.get(w)\n",
        "    print(x,end = ' ')"
      ],
      "execution_count": 0,
      "outputs": [
        {
          "output_type": "stream",
          "text": [
            "request speak give patient refuse give patient appointment go see doctype recommend anti inflammatory help foot pain daughter concerned think pain inflammation thanks nerve pain want know doctor patient take drugname night day make sleepy sleep great night recommend anti inflammatory different meditation cannon woman use antiinflammatories nerve pain well ok trial help great try something else virginia jephro prior authorization daughter told finger response go ahead pick anti inflammatory get start follow north week see cannon woman None None None None None None None None None None None None None None None None None None None None None None None None None None None None None None None None None None None None None None None None None None None None None None None None None None None None None None None None None None None None None None None None None None None None None None None None None None None None None None None None None None None None None None None None None None None None None None None None None None None None None None None None None None None None None None None None None None None None None None None None None None "
          ],
          "name": "stdout"
        }
      ]
    },
    {
      "cell_type": "code",
      "metadata": {
        "id": "F_wzbZS0fJKI",
        "colab_type": "code",
        "colab": {}
      },
      "source": [
        "#plotting result\n",
        "\n",
        "plt.style.use('ggplot')\n",
        "\n",
        "def plot_history(history):\n",
        "    acc = history.history['acc']\n",
        "    val_acc = history.history['val_acc']\n",
        "    loss = history.history['loss']\n",
        "    val_loss = history.history['val_loss']\n",
        "    x = range(1, len(acc) + 1)\n",
        "\n",
        "    plt.figure(figsize=(12, 5))\n",
        "    plt.subplot(1, 2, 1)\n",
        "    plt.plot(x, acc, 'b', label='Training acc')\n",
        "    plt.plot(x, val_acc, 'r', label='Validation acc')\n",
        "    plt.title('Training and validation accuracy')\n",
        "    plt.legend()\n",
        "    plt.subplot(1, 2, 2)\n",
        "    plt.plot(x, loss, 'b', label='Training loss')\n",
        "    plt.plot(x, val_loss, 'r', label='Validation loss')\n",
        "    plt.title('Training and validation loss')\n",
        "    plt.legend()"
      ],
      "execution_count": 0,
      "outputs": []
    },
    {
      "cell_type": "markdown",
      "metadata": {
        "id": "xa_F014YfJKK",
        "colab_type": "text"
      },
      "source": [
        "# Model1: DNN using keras embedding"
      ]
    },
    {
      "cell_type": "code",
      "metadata": {
        "id": "SXGYloEPfJKM",
        "colab_type": "code",
        "outputId": "e6fdadca-05e4-4c02-e8c2-fd693f9aa9e4",
        "colab": {
          "base_uri": "https://localhost:8080/",
          "height": 479
        }
      },
      "source": [
        "from keras.models import Sequential\n",
        "from keras import layers\n",
        "from keras.layers import Activation, Conv1D, Dense, Embedding, Flatten, Input, MaxPooling1D\n",
        "\n",
        "embedding_dim = 32\n",
        "\n",
        "model1 = Sequential()\n",
        "model1.add(layers.Embedding(input_dim=vocab_Size, \n",
        "                           output_dim=embedding_dim, \n",
        "                           input_length=max_length))\n",
        "model1.add(layers.Flatten())\n",
        "model1.add(layers.Dense(50, activation='relu'))\n",
        "model1.add(layers.Dense(21, activation='softmax'))\n",
        "model1.compile(optimizer='adam',\n",
        "              loss='categorical_crossentropy',\n",
        "              metrics=['accuracy'])\n",
        "model1.summary()\n"
      ],
      "execution_count": 0,
      "outputs": [
        {
          "output_type": "stream",
          "text": [
            "WARNING: Logging before flag parsing goes to stderr.\n",
            "W0808 12:25:38.237622 140702196950912 deprecation_wrapper.py:119] From /usr/local/lib/python3.6/dist-packages/keras/backend/tensorflow_backend.py:74: The name tf.get_default_graph is deprecated. Please use tf.compat.v1.get_default_graph instead.\n",
            "\n",
            "W0808 12:25:38.276288 140702196950912 deprecation_wrapper.py:119] From /usr/local/lib/python3.6/dist-packages/keras/backend/tensorflow_backend.py:517: The name tf.placeholder is deprecated. Please use tf.compat.v1.placeholder instead.\n",
            "\n",
            "W0808 12:25:38.283312 140702196950912 deprecation_wrapper.py:119] From /usr/local/lib/python3.6/dist-packages/keras/backend/tensorflow_backend.py:4138: The name tf.random_uniform is deprecated. Please use tf.random.uniform instead.\n",
            "\n",
            "W0808 12:25:38.330658 140702196950912 deprecation_wrapper.py:119] From /usr/local/lib/python3.6/dist-packages/keras/optimizers.py:790: The name tf.train.Optimizer is deprecated. Please use tf.compat.v1.train.Optimizer instead.\n",
            "\n",
            "W0808 12:25:38.352186 140702196950912 deprecation_wrapper.py:119] From /usr/local/lib/python3.6/dist-packages/keras/backend/tensorflow_backend.py:3295: The name tf.log is deprecated. Please use tf.math.log instead.\n",
            "\n"
          ],
          "name": "stderr"
        },
        {
          "output_type": "stream",
          "text": [
            "_________________________________________________________________\n",
            "Layer (type)                 Output Shape              Param #   \n",
            "=================================================================\n",
            "embedding_1 (Embedding)      (None, 200, 32)           1222208   \n",
            "_________________________________________________________________\n",
            "flatten_1 (Flatten)          (None, 6400)              0         \n",
            "_________________________________________________________________\n",
            "dense_1 (Dense)              (None, 50)                320050    \n",
            "_________________________________________________________________\n",
            "dense_2 (Dense)              (None, 21)                1071      \n",
            "=================================================================\n",
            "Total params: 1,543,329\n",
            "Trainable params: 1,543,329\n",
            "Non-trainable params: 0\n",
            "_________________________________________________________________\n"
          ],
          "name": "stdout"
        }
      ]
    },
    {
      "cell_type": "code",
      "metadata": {
        "id": "yHccpeWffJKO",
        "colab_type": "code",
        "outputId": "b9cf72b3-ba84-474f-e81e-28d9a34a5273",
        "colab": {
          "base_uri": "https://localhost:8080/",
          "height": 513
        }
      },
      "source": [
        "history = model1.fit(x_train, y_train,\n",
        "                    epochs=10,\n",
        "                    verbose=1,\n",
        "                    validation_data=(x_val, y_val),\n",
        "                    batch_size=128)\n",
        "loss, accuracy = model1.evaluate(x_train, y_train, verbose=False)\n",
        "print(\"Training Accuracy: {:.4f}\".format(accuracy))\n",
        "loss, accuracy = model1.evaluate(x_val, y_val, verbose=False)\n",
        "print(\"Validation Accuracy:  {:.4f}\".format(accuracy))\n"
      ],
      "execution_count": 0,
      "outputs": [
        {
          "output_type": "stream",
          "text": [
            "W0808 12:25:45.215166 140702196950912 deprecation.py:323] From /usr/local/lib/python3.6/dist-packages/tensorflow/python/ops/math_grad.py:1250: add_dispatch_support.<locals>.wrapper (from tensorflow.python.ops.array_ops) is deprecated and will be removed in a future version.\n",
            "Instructions for updating:\n",
            "Use tf.where in 2.0, which has the same broadcast rule as np.where\n",
            "W0808 12:25:45.277740 140702196950912 deprecation_wrapper.py:119] From /usr/local/lib/python3.6/dist-packages/keras/backend/tensorflow_backend.py:986: The name tf.assign_add is deprecated. Please use tf.compat.v1.assign_add instead.\n",
            "\n"
          ],
          "name": "stderr"
        },
        {
          "output_type": "stream",
          "text": [
            "Train on 38932 samples, validate on 9735 samples\n",
            "Epoch 1/10\n",
            "38932/38932 [==============================] - 5s 136us/step - loss: 1.5204 - acc: 0.5523 - val_loss: 1.0473 - val_acc: 0.6851\n",
            "Epoch 2/10\n",
            "38932/38932 [==============================] - 1s 34us/step - loss: 0.8420 - acc: 0.7379 - val_loss: 0.9055 - val_acc: 0.7180\n",
            "Epoch 3/10\n",
            "38932/38932 [==============================] - 1s 33us/step - loss: 0.5977 - acc: 0.8140 - val_loss: 0.9053 - val_acc: 0.7162\n",
            "Epoch 4/10\n",
            "38932/38932 [==============================] - 1s 33us/step - loss: 0.4078 - acc: 0.8774 - val_loss: 0.9467 - val_acc: 0.7121\n",
            "Epoch 5/10\n",
            "38932/38932 [==============================] - 1s 33us/step - loss: 0.2692 - acc: 0.9251 - val_loss: 1.0296 - val_acc: 0.7049\n",
            "Epoch 6/10\n",
            "38932/38932 [==============================] - 1s 33us/step - loss: 0.1758 - acc: 0.9533 - val_loss: 1.1238 - val_acc: 0.7025\n",
            "Epoch 7/10\n",
            "38932/38932 [==============================] - 1s 33us/step - loss: 0.1150 - acc: 0.9726 - val_loss: 1.2425 - val_acc: 0.6997\n",
            "Epoch 8/10\n",
            "38932/38932 [==============================] - 1s 33us/step - loss: 0.0779 - acc: 0.9830 - val_loss: 1.3266 - val_acc: 0.6934\n",
            "Epoch 9/10\n",
            "38932/38932 [==============================] - 1s 33us/step - loss: 0.0528 - acc: 0.9898 - val_loss: 1.4261 - val_acc: 0.6923\n",
            "Epoch 10/10\n",
            "38932/38932 [==============================] - 1s 34us/step - loss: 0.0380 - acc: 0.9928 - val_loss: 1.5118 - val_acc: 0.6867\n",
            "Training Accuracy: 0.9957\n",
            "Validation Accuracy:  0.6867\n"
          ],
          "name": "stdout"
        }
      ]
    },
    {
      "cell_type": "markdown",
      "metadata": {
        "id": "GN-MX6ttfJKS",
        "colab_type": "text"
      },
      "source": [
        "## Train accuracy: 99% ## Validation accuracy: 69%\n",
        "### Overfitting"
      ]
    },
    {
      "cell_type": "code",
      "metadata": {
        "id": "VBSQAMvqMcMO",
        "colab_type": "code",
        "outputId": "45b5fb79-a63d-4333-c4b1-79019b8dc581",
        "colab": {
          "base_uri": "https://localhost:8080/",
          "height": 339
        }
      },
      "source": [
        "# take epoch between the range of 2-3\n",
        "plot_history(history)"
      ],
      "execution_count": 0,
      "outputs": [
        {
          "output_type": "display_data",
          "data": {
            "image/png": "[encoded data removed]",
            "text/plain": [
              "<Figure size 864x360 with 2 Axes>"
            ]
          },
          "metadata": {
            "tags": []
          }
        }
      ]
    },
    {
      "cell_type": "markdown",
      "metadata": {
        "id": "-cTHAx1RfJKT",
        "colab_type": "text"
      },
      "source": [
        "## Model2: using GlobalMaxPool 1D \n",
        "### Accuracy is less"
      ]
    },
    {
      "cell_type": "code",
      "metadata": {
        "id": "jm-HhBxAfJKU",
        "colab_type": "code",
        "outputId": "2a9febd0-5df3-4ab0-e3af-f6fcd79f2add",
        "colab": {
          "base_uri": "https://localhost:8080/",
          "height": 272
        }
      },
      "source": [
        "embedding_dim = 32\n",
        "\n",
        "model2 = Sequential()\n",
        "model2.add(layers.Embedding(input_dim=vocab_Size, \n",
        "                           output_dim=embedding_dim, \n",
        "                           input_length=max_length))\n",
        "model2.add(layers.GlobalMaxPool1D())\n",
        "#model2.add(Dropout(0.5))\n",
        "model2.add(layers.Dense(50, activation='relu'))\n",
        "model2.add(layers.Dense(21, activation='softmax'))\n",
        "model2.compile(optimizer='adam',\n",
        "              loss='categorical_crossentropy',\n",
        "              metrics=['accuracy'])\n",
        "model2.summary()"
      ],
      "execution_count": 0,
      "outputs": [
        {
          "output_type": "stream",
          "text": [
            "_________________________________________________________________\n",
            "Layer (type)                 Output Shape              Param #   \n",
            "=================================================================\n",
            "embedding_2 (Embedding)      (None, 200, 32)           1222208   \n",
            "_________________________________________________________________\n",
            "global_max_pooling1d_1 (Glob (None, 32)                0         \n",
            "_________________________________________________________________\n",
            "dense_3 (Dense)              (None, 50)                1650      \n",
            "_________________________________________________________________\n",
            "dense_4 (Dense)              (None, 21)                1071      \n",
            "=================================================================\n",
            "Total params: 1,224,929\n",
            "Trainable params: 1,224,929\n",
            "Non-trainable params: 0\n",
            "_________________________________________________________________\n"
          ],
          "name": "stdout"
        }
      ]
    },
    {
      "cell_type": "code",
      "metadata": {
        "id": "a34p_E_AfJKa",
        "colab_type": "code",
        "outputId": "d6ce7b31-79ab-49fb-a2bb-80b7a854f648",
        "colab": {
          "base_uri": "https://localhost:8080/",
          "height": 408
        }
      },
      "source": [
        "history2 = model2.fit(x_train, y_train,\n",
        "                    epochs=10,\n",
        "                    verbose=1,\n",
        "                    validation_data=(x_val, y_val),\n",
        "                    batch_size=128)\n",
        "loss, accuracy = model2.evaluate(x_train, y_train, verbose=False)\n",
        "print(\"Training Accuracy: {:.4f}\".format(accuracy))\n",
        "loss, accuracy = model2.evaluate(x_val, y_val, verbose=False)\n",
        "print(\"Testing Accuracy:  {:.4f}\".format(accuracy))"
      ],
      "execution_count": 0,
      "outputs": [
        {
          "output_type": "stream",
          "text": [
            "Train on 38932 samples, validate on 9735 samples\n",
            "Epoch 1/10\n",
            "38932/38932 [==============================] - 2s 43us/step - loss: 2.2087 - acc: 0.3514 - val_loss: 1.6435 - val_acc: 0.5096\n",
            "Epoch 2/10\n",
            "38932/38932 [==============================] - 1s 35us/step - loss: 1.3957 - acc: 0.5830 - val_loss: 1.2380 - val_acc: 0.6197\n",
            "Epoch 3/10\n",
            "38932/38932 [==============================] - 1s 33us/step - loss: 1.1102 - acc: 0.6576 - val_loss: 1.0961 - val_acc: 0.6639\n",
            "Epoch 4/10\n",
            "38932/38932 [==============================] - 1s 34us/step - loss: 0.9695 - acc: 0.6913 - val_loss: 1.0272 - val_acc: 0.6763\n",
            "Epoch 5/10\n",
            "38932/38932 [==============================] - 1s 34us/step - loss: 0.8845 - acc: 0.7142 - val_loss: 0.9936 - val_acc: 0.6837\n",
            "Epoch 6/10\n",
            "38932/38932 [==============================] - 1s 33us/step - loss: 0.8243 - acc: 0.7318 - val_loss: 0.9823 - val_acc: 0.6868\n",
            "Epoch 7/10\n",
            "38932/38932 [==============================] - 1s 33us/step - loss: 0.7746 - acc: 0.7488 - val_loss: 0.9809 - val_acc: 0.6884\n",
            "Epoch 8/10\n",
            "38932/38932 [==============================] - 1s 33us/step - loss: 0.7292 - acc: 0.7633 - val_loss: 0.9820 - val_acc: 0.6879\n",
            "Epoch 9/10\n",
            "38932/38932 [==============================] - 1s 34us/step - loss: 0.6873 - acc: 0.7775 - val_loss: 0.9864 - val_acc: 0.6873\n",
            "Epoch 10/10\n",
            "38932/38932 [==============================] - 1s 34us/step - loss: 0.6469 - acc: 0.7920 - val_loss: 1.0007 - val_acc: 0.6847\n",
            "Training Accuracy: 0.8090\n",
            "Testing Accuracy:  0.6847\n"
          ],
          "name": "stdout"
        }
      ]
    },
    {
      "cell_type": "markdown",
      "metadata": {
        "id": "9VFhNxP2fJKc",
        "colab_type": "text"
      },
      "source": [
        "# Train accu: 80.90% Validation acc: 68.47%"
      ]
    },
    {
      "cell_type": "code",
      "metadata": {
        "id": "TEQ1-Mb6fJKg",
        "colab_type": "code",
        "outputId": "8e379f05-90db-4be0-f7e8-d6a7db324c8c",
        "colab": {
          "base_uri": "https://localhost:8080/",
          "height": 339
        }
      },
      "source": [
        "# take epoch between the range of 6-8\n",
        "plot_history(history2)"
      ],
      "execution_count": 0,
      "outputs": [
        {
          "output_type": "display_data",
          "data": {
            "image/png": "[encoded data removed]",
            "text/plain": [
              "<Figure size 864x360 with 2 Axes>"
            ]
          },
          "metadata": {
            "tags": []
          }
        }
      ]
    },
    {
      "cell_type": "markdown",
      "metadata": {
        "id": "gZgUlQYRfJKj",
        "colab_type": "text"
      },
      "source": [
        "# Embedding with word to vec"
      ]
    },
    {
      "cell_type": "code",
      "metadata": {
        "id": "gQjmMPqofJKk",
        "colab_type": "code",
        "outputId": "a4411c66-f059-4775-b4fd-76a85520a5eb",
        "colab": {
          "base_uri": "https://localhost:8080/",
          "height": 34
        }
      },
      "source": [
        "embeddings_index = {}\n",
        "f = open('glove.6B.100d.txt', encoding=\"utf8\")\n",
        "for line in f:\n",
        "    values = line.split()\n",
        "    word = values[0]\n",
        "    coefs = np.asarray(values[1:], dtype='float32')\n",
        "    embeddings_index[word] = coefs\n",
        "f.close()\n",
        "\n",
        "print('Found %s word vectors.' % len(embeddings_index))"
      ],
      "execution_count": 0,
      "outputs": [
        {
          "output_type": "stream",
          "text": [
            "Found 400000 word vectors.\n"
          ],
          "name": "stdout"
        }
      ]
    },
    {
      "cell_type": "code",
      "metadata": {
        "id": "ko2QkJBXfJKm",
        "colab_type": "code",
        "outputId": "38c763f4-5be5-4b10-b689-67adf418069e",
        "colab": {
          "base_uri": "https://localhost:8080/",
          "height": 34
        }
      },
      "source": [
        "embedding_Matrix = np.zeros((vocab_Size, 100))\n",
        "for word, i in word_Index.items():\n",
        "    embedding_Vector = embeddings_index.get(word)\n",
        "    if embedding_Vector is not None:\n",
        "        # words not found in embedding index will be all-zeros.\n",
        "        embedding_Matrix[i] = embedding_Vector\n",
        "\n",
        "print (embedding_Matrix.shape)"
      ],
      "execution_count": 0,
      "outputs": [
        {
          "output_type": "stream",
          "text": [
            "(38194, 100)\n"
          ],
          "name": "stdout"
        }
      ]
    },
    {
      "cell_type": "markdown",
      "metadata": {
        "id": "-KiyMYLZfJKq",
        "colab_type": "text"
      },
      "source": [
        "## Model3: Using word to vec embedding(trainable = false) and LSTM"
      ]
    },
    {
      "cell_type": "code",
      "metadata": {
        "id": "2IuayqdUfJKr",
        "colab_type": "code",
        "outputId": "11cb0c55-9fa8-404e-c7d1-0d2d70f657c4",
        "colab": {
          "base_uri": "https://localhost:8080/",
          "height": 343
        }
      },
      "source": [
        "from keras.layers import LSTM, Dense, Activation, Embedding\n",
        "model3 = Sequential()\n",
        "model3.add(Embedding(vocab_Size,\n",
        "                            100,\n",
        "                            weights=[embedding_Matrix],\n",
        "                            input_length=max_length,\n",
        "                            trainable=False))\n",
        "model3.add(LSTM(128,dropout=0.5, recurrent_dropout=0.5))\n",
        "model3.add(Dense(128, activation='relu'))\n",
        "model3.add(Dense(21, activation='softmax'))\n",
        "model3.summary()\n",
        "\n",
        "model3.compile(optimizer='adam',\n",
        "              loss='categorical_crossentropy',\n",
        "              metrics=['accuracy'])"
      ],
      "execution_count": 0,
      "outputs": [
        {
          "output_type": "stream",
          "text": [
            "W0808 12:38:13.731578 140702196950912 deprecation.py:506] From /usr/local/lib/python3.6/dist-packages/keras/backend/tensorflow_backend.py:3445: calling dropout (from tensorflow.python.ops.nn_ops) with keep_prob is deprecated and will be removed in a future version.\n",
            "Instructions for updating:\n",
            "Please use `rate` instead of `keep_prob`. Rate should be set to `rate = 1 - keep_prob`.\n"
          ],
          "name": "stderr"
        },
        {
          "output_type": "stream",
          "text": [
            "_________________________________________________________________\n",
            "Layer (type)                 Output Shape              Param #   \n",
            "=================================================================\n",
            "embedding_3 (Embedding)      (None, 200, 100)          3819400   \n",
            "_________________________________________________________________\n",
            "lstm_1 (LSTM)                (None, 128)               117248    \n",
            "_________________________________________________________________\n",
            "dense_5 (Dense)              (None, 128)               16512     \n",
            "_________________________________________________________________\n",
            "dense_6 (Dense)              (None, 21)                2709      \n",
            "=================================================================\n",
            "Total params: 3,955,869\n",
            "Trainable params: 136,469\n",
            "Non-trainable params: 3,819,400\n",
            "_________________________________________________________________\n"
          ],
          "name": "stdout"
        }
      ]
    },
    {
      "cell_type": "code",
      "metadata": {
        "id": "LXbZ288JfJKx",
        "colab_type": "code",
        "outputId": "fd0c7548-f3af-4974-d28f-0c03e0a2b15e",
        "colab": {
          "base_uri": "https://localhost:8080/",
          "height": 1000
        }
      },
      "source": [
        "# with tf.device('/gpu:0'): \n",
        "history3 = model3.fit(x_train, y_train,\n",
        "                    epochs=28,\n",
        "                    verbose=1,\n",
        "                    validation_data=(x_val, y_val),\n",
        "                    batch_size=128)\n",
        "loss, accuracy = model3.evaluate(x_train, y_train, verbose=False)\n",
        "print(\"Training Accuracy: {:.4f}\".format(accuracy))\n",
        "loss, accuracy = model3.evaluate(x_val, y_val, verbose=False)\n",
        "print(\"Testing Accuracy:  {:.4f}\".format(accuracy))\n",
        "# sess = tf.Session(config=config)\n",
        "# sess.run(history3)"
      ],
      "execution_count": 0,
      "outputs": [
        {
          "output_type": "stream",
          "text": [
            "Train on 38932 samples, validate on 9735 samples\n",
            "Epoch 1/28\n",
            "38932/38932 [==============================] - 99s 3ms/step - loss: 2.3383 - acc: 0.2506 - val_loss: 2.1860 - val_acc: 0.3263\n",
            "Epoch 2/28\n",
            "38932/38932 [==============================] - 97s 3ms/step - loss: 2.0801 - acc: 0.3550 - val_loss: 1.8582 - val_acc: 0.4159\n",
            "Epoch 3/28\n",
            "38932/38932 [==============================] - 98s 3ms/step - loss: 1.8515 - acc: 0.4285 - val_loss: 1.7040 - val_acc: 0.4884\n",
            "Epoch 4/28\n",
            "38932/38932 [==============================] - 98s 3ms/step - loss: 1.7444 - acc: 0.4679 - val_loss: 1.6143 - val_acc: 0.5047\n",
            "Epoch 5/28\n",
            "38932/38932 [==============================] - 97s 3ms/step - loss: 1.6573 - acc: 0.4917 - val_loss: 1.5104 - val_acc: 0.5324\n",
            "Epoch 6/28\n",
            "38932/38932 [==============================] - 98s 3ms/step - loss: 1.5527 - acc: 0.5197 - val_loss: 1.3672 - val_acc: 0.5752\n",
            "Epoch 7/28\n",
            "38932/38932 [==============================] - 98s 3ms/step - loss: 1.4252 - acc: 0.5582 - val_loss: 1.2846 - val_acc: 0.6022\n",
            "Epoch 8/28\n",
            "38932/38932 [==============================] - 98s 3ms/step - loss: 1.3413 - acc: 0.5770 - val_loss: 1.1876 - val_acc: 0.6251\n",
            "Epoch 9/28\n",
            "38932/38932 [==============================] - 98s 3ms/step - loss: 1.2507 - acc: 0.6032 - val_loss: 1.1144 - val_acc: 0.6536\n",
            "Epoch 10/28\n",
            "38932/38932 [==============================] - 98s 3ms/step - loss: 1.1856 - acc: 0.6276 - val_loss: 1.0491 - val_acc: 0.6705\n",
            "Epoch 11/28\n",
            "38932/38932 [==============================] - 98s 3ms/step - loss: 1.1363 - acc: 0.6416 - val_loss: 1.0281 - val_acc: 0.6759\n",
            "Epoch 12/28\n",
            "38932/38932 [==============================] - 97s 3ms/step - loss: 1.1038 - acc: 0.6505 - val_loss: 0.9942 - val_acc: 0.6865\n",
            "Epoch 13/28\n",
            "38932/38932 [==============================] - 98s 3ms/step - loss: 1.0694 - acc: 0.6615 - val_loss: 0.9706 - val_acc: 0.6883\n",
            "Epoch 14/28\n",
            "38932/38932 [==============================] - 98s 3ms/step - loss: 1.0406 - acc: 0.6695 - val_loss: 0.9441 - val_acc: 0.6956\n",
            "Epoch 15/28\n",
            "38932/38932 [==============================] - 97s 3ms/step - loss: 1.0117 - acc: 0.6768 - val_loss: 0.9229 - val_acc: 0.7009\n",
            "Epoch 16/28\n",
            "38932/38932 [==============================] - 98s 3ms/step - loss: 0.9921 - acc: 0.6836 - val_loss: 0.9154 - val_acc: 0.7055\n",
            "Epoch 17/28\n",
            "38932/38932 [==============================] - 98s 3ms/step - loss: 0.9723 - acc: 0.6895 - val_loss: 0.8880 - val_acc: 0.7131\n",
            "Epoch 18/28\n",
            "38932/38932 [==============================] - 97s 3ms/step - loss: 0.9506 - acc: 0.6916 - val_loss: 0.8798 - val_acc: 0.7136\n",
            "Epoch 19/28\n",
            "38932/38932 [==============================] - 98s 3ms/step - loss: 0.9344 - acc: 0.6997 - val_loss: 0.8748 - val_acc: 0.7132\n",
            "Epoch 20/28\n",
            "38932/38932 [==============================] - 99s 3ms/step - loss: 0.9264 - acc: 0.7003 - val_loss: 0.8708 - val_acc: 0.7143\n",
            "Epoch 21/28\n",
            "38932/38932 [==============================] - 98s 3ms/step - loss: 0.9140 - acc: 0.7043 - val_loss: 0.8498 - val_acc: 0.7212\n",
            "Epoch 22/28\n",
            "38932/38932 [==============================] - 98s 3ms/step - loss: 0.9103 - acc: 0.7025 - val_loss: 0.8466 - val_acc: 0.7234\n",
            "Epoch 23/28\n",
            "38932/38932 [==============================] - 98s 3ms/step - loss: 0.9028 - acc: 0.7067 - val_loss: 0.8489 - val_acc: 0.7196\n",
            "Epoch 24/28\n",
            "38932/38932 [==============================] - 98s 3ms/step - loss: 0.8881 - acc: 0.7089 - val_loss: 0.8399 - val_acc: 0.7223\n",
            "Epoch 25/28\n",
            "38932/38932 [==============================] - 99s 3ms/step - loss: 0.8853 - acc: 0.7105 - val_loss: 0.8419 - val_acc: 0.7188\n",
            "Epoch 26/28\n",
            "38932/38932 [==============================] - 98s 3ms/step - loss: 0.8795 - acc: 0.7121 - val_loss: 0.8339 - val_acc: 0.7270\n",
            "Epoch 27/28\n",
            "38932/38932 [==============================] - 98s 3ms/step - loss: 0.8691 - acc: 0.7135 - val_loss: 0.8293 - val_acc: 0.7269\n",
            "Epoch 28/28\n",
            "38932/38932 [==============================] - 98s 3ms/step - loss: 0.8725 - acc: 0.7126 - val_loss: 0.8298 - val_acc: 0.7237\n",
            "Training Accuracy: 0.7383\n",
            "Testing Accuracy:  0.7237\n"
          ],
          "name": "stdout"
        }
      ]
    },
    {
      "cell_type": "markdown",
      "metadata": {
        "id": "eMJjMiTKfJK0",
        "colab_type": "text"
      },
      "source": [
        "# Train acc: 73.83% validation accu: 72.37%"
      ]
    },
    {
      "cell_type": "code",
      "metadata": {
        "id": "VJLYCHqifJK0",
        "colab_type": "code",
        "outputId": "fdecd7a1-fe77-4923-abc9-939eb6a44cb8",
        "colab": {
          "base_uri": "https://localhost:8080/",
          "height": 339
        }
      },
      "source": [
        "#probably still the model is underfit\n",
        "plot_history(history3)"
      ],
      "execution_count": 0,
      "outputs": [
        {
          "output_type": "display_data",
          "data": {
            "image/png": "[encoded data removed]",
            "text/plain": [
              "<Figure size 864x360 with 2 Axes>"
            ]
          },
          "metadata": {
            "tags": []
          }
        }
      ]
    },
    {
      "cell_type": "markdown",
      "metadata": {
        "id": "KzRNwHYFajMp",
        "colab_type": "text"
      },
      "source": [
        "# **Using word to vec embedding(trainable = false) and BiDirectional LSTM**"
      ]
    },
    {
      "cell_type": "code",
      "metadata": {
        "id": "KbVm0zyoVJfi",
        "colab_type": "code",
        "outputId": "65e0e7e6-a6e1-40f7-a8fb-db5aa29a75c0",
        "colab": {
          "base_uri": "https://localhost:8080/",
          "height": 306
        }
      },
      "source": [
        "from keras.layers import Bidirectional\n",
        "from keras.layers import Dropout, BatchNormalization\n",
        "from keras.layers.advanced_activations import LeakyReLU, PReLU\n",
        "\n",
        "bi_dir_model = Sequential()\n",
        "bi_dir_model.add(Embedding(vocab_Size,\n",
        "                            100,\n",
        "                            weights=[embedding_Matrix],\n",
        "                            input_length=max_length,\n",
        "                            trainable=False))\n",
        "bi_dir_model.add(Bidirectional(LSTM(128,dropout=0.5,recurrent_dropout=0.5)))\n",
        "bi_dir_model.add(BatchNormalization())\n",
        "bi_dir_model.add(Dense(128, activation='relu'))\n",
        "bi_dir_model.add(Dense(21, activation='softmax'))\n",
        "bi_dir_model.summary()\n",
        "\n",
        "bi_dir_model.compile(optimizer='adam',\n",
        "              loss='categorical_crossentropy',\n",
        "              metrics=['accuracy'])"
      ],
      "execution_count": 0,
      "outputs": [
        {
          "output_type": "stream",
          "text": [
            "_________________________________________________________________\n",
            "Layer (type)                 Output Shape              Param #   \n",
            "=================================================================\n",
            "embedding_4 (Embedding)      (None, 200, 100)          3819400   \n",
            "_________________________________________________________________\n",
            "bidirectional_1 (Bidirection (None, 256)               234496    \n",
            "_________________________________________________________________\n",
            "batch_normalization_1 (Batch (None, 256)               1024      \n",
            "_________________________________________________________________\n",
            "dense_7 (Dense)              (None, 128)               32896     \n",
            "_________________________________________________________________\n",
            "dense_8 (Dense)              (None, 21)                2709      \n",
            "=================================================================\n",
            "Total params: 4,090,525\n",
            "Trainable params: 270,613\n",
            "Non-trainable params: 3,819,912\n",
            "_________________________________________________________________\n"
          ],
          "name": "stdout"
        }
      ]
    },
    {
      "cell_type": "code",
      "metadata": {
        "id": "VCGpczhobzto",
        "colab_type": "code",
        "colab": {}
      },
      "source": [
        "import tensorflow as tf"
      ],
      "execution_count": 0,
      "outputs": []
    },
    {
      "cell_type": "code",
      "metadata": {
        "id": "QDDpndiJWVY_",
        "colab_type": "code",
        "outputId": "7fcd2374-3b3f-4b25-8a76-b2b52b80b7a4",
        "colab": {
          "base_uri": "https://localhost:8080/",
          "height": 1000
        }
      },
      "source": [
        "with tf.device('/gpu:0'): \n",
        "  bi_dir_history = bi_dir_model.fit(x_train, y_train,\n",
        "                      epochs=28,\n",
        "                      verbose=1,\n",
        "                      validation_data=(x_val, y_val),\n",
        "                      batch_size=128)\n",
        "  loss, accuracy = bi_dir_history.evaluate(x_train, y_train, verbose=False)\n",
        "  print(\"Training Accuracy: {:.4f}\".format(accuracy))\n",
        "  loss, accuracy = bi_dir_history.evaluate(x_val, y_val, verbose=False)\n",
        "  print(\"Validation Accuracy:  {:.4f}\".format(accuracy))\n",
        "sess = tf.Session(config=config)\n",
        "sess.run(bi_dir_history)"
      ],
      "execution_count": 51,
      "outputs": [
        {
          "output_type": "stream",
          "text": [
            "Train on 38932 samples, validate on 9735 samples\n",
            "Epoch 1/28\n",
            "38932/38932 [==============================] - 214s 5ms/step - loss: 1.6563 - acc: 0.5077 - val_loss: 1.1395 - val_acc: 0.6563\n",
            "Epoch 2/28\n",
            "38932/38932 [==============================] - 213s 5ms/step - loss: 1.1682 - acc: 0.6371 - val_loss: 0.9816 - val_acc: 0.6956\n",
            "Epoch 3/28\n",
            "38932/38932 [==============================] - 214s 6ms/step - loss: 1.0285 - acc: 0.6740 - val_loss: 0.9095 - val_acc: 0.7098\n",
            "Epoch 4/28\n",
            "38932/38932 [==============================] - 212s 5ms/step - loss: 0.9520 - acc: 0.6921 - val_loss: 0.8806 - val_acc: 0.7205\n",
            "Epoch 5/28\n",
            "38932/38932 [==============================] - 213s 5ms/step - loss: 0.9085 - acc: 0.7044 - val_loss: 0.8526 - val_acc: 0.7219\n",
            "Epoch 6/28\n",
            "38932/38932 [==============================] - 214s 5ms/step - loss: 0.8784 - acc: 0.7100 - val_loss: 0.8230 - val_acc: 0.7288\n",
            "Epoch 7/28\n",
            "38932/38932 [==============================] - 214s 5ms/step - loss: 0.8476 - acc: 0.7187 - val_loss: 0.8194 - val_acc: 0.7310\n",
            "Epoch 8/28\n",
            "38932/38932 [==============================] - 213s 5ms/step - loss: 0.8251 - acc: 0.7225 - val_loss: 0.8147 - val_acc: 0.7309\n",
            "Epoch 9/28\n",
            "38932/38932 [==============================] - 213s 5ms/step - loss: 0.8115 - acc: 0.7275 - val_loss: 0.8028 - val_acc: 0.7337\n",
            "Epoch 10/28\n",
            "38932/38932 [==============================] - 212s 5ms/step - loss: 0.7965 - acc: 0.7301 - val_loss: 0.7963 - val_acc: 0.7337\n",
            "Epoch 11/28\n",
            "38932/38932 [==============================] - 212s 5ms/step - loss: 0.7817 - acc: 0.7360 - val_loss: 0.7999 - val_acc: 0.7310\n",
            "Epoch 12/28\n",
            "38932/38932 [==============================] - 213s 5ms/step - loss: 0.7788 - acc: 0.7327 - val_loss: 0.7862 - val_acc: 0.7411\n",
            "Epoch 13/28\n",
            "38932/38932 [==============================] - 212s 5ms/step - loss: 0.7658 - acc: 0.7388 - val_loss: 0.7942 - val_acc: 0.7367\n",
            "Epoch 14/28\n",
            "38932/38932 [==============================] - 212s 5ms/step - loss: 0.7522 - acc: 0.7446 - val_loss: 0.7951 - val_acc: 0.7291\n",
            "Epoch 15/28\n",
            "38932/38932 [==============================] - 211s 5ms/step - loss: 0.7479 - acc: 0.7460 - val_loss: 0.7824 - val_acc: 0.7338\n",
            "Epoch 16/28\n",
            "38932/38932 [==============================] - 209s 5ms/step - loss: 0.7376 - acc: 0.7465 - val_loss: 0.7808 - val_acc: 0.7391\n",
            "Epoch 17/28\n",
            "38932/38932 [==============================] - 210s 5ms/step - loss: 0.7261 - acc: 0.7500 - val_loss: 0.7950 - val_acc: 0.7329\n",
            "Epoch 18/28\n",
            "38932/38932 [==============================] - 210s 5ms/step - loss: 0.7242 - acc: 0.7484 - val_loss: 0.7876 - val_acc: 0.7371\n",
            "Epoch 19/28\n",
            "38932/38932 [==============================] - 209s 5ms/step - loss: 0.7153 - acc: 0.7516 - val_loss: 0.7873 - val_acc: 0.7382\n",
            "Epoch 20/28\n",
            "38932/38932 [==============================] - 213s 5ms/step - loss: 0.7108 - acc: 0.7520 - val_loss: 0.7856 - val_acc: 0.7403\n",
            "Epoch 21/28\n",
            "38932/38932 [==============================] - 212s 5ms/step - loss: 0.7029 - acc: 0.7551 - val_loss: 0.7920 - val_acc: 0.7388\n",
            "Epoch 22/28\n",
            "38932/38932 [==============================] - 211s 5ms/step - loss: 0.7020 - acc: 0.7557 - val_loss: 0.7939 - val_acc: 0.7367\n",
            "Epoch 23/28\n",
            "38932/38932 [==============================] - 210s 5ms/step - loss: 0.6979 - acc: 0.7553 - val_loss: 0.7934 - val_acc: 0.7372\n",
            "Epoch 24/28\n",
            "38932/38932 [==============================] - 212s 5ms/step - loss: 0.6927 - acc: 0.7561 - val_loss: 0.7930 - val_acc: 0.7355\n",
            "Epoch 25/28\n",
            "38932/38932 [==============================] - 211s 5ms/step - loss: 0.6831 - acc: 0.7591 - val_loss: 0.7976 - val_acc: 0.7361\n",
            "Epoch 26/28\n",
            "38932/38932 [==============================] - 211s 5ms/step - loss: 0.6804 - acc: 0.7595 - val_loss: 0.7918 - val_acc: 0.7361\n",
            "Epoch 27/28\n",
            "38932/38932 [==============================] - 211s 5ms/step - loss: 0.6764 - acc: 0.7608 - val_loss: 0.7980 - val_acc: 0.7403\n",
            "Epoch 28/28\n",
            "38932/38932 [==============================] - 212s 5ms/step - loss: 0.6739 - acc: 0.7602 - val_loss: 0.7905 - val_acc: 0.7386\n"
          ],
          "name": "stdout"
        },
        {
          "output_type": "error",
          "ename": "AttributeError",
          "evalue": "ignored",
          "traceback": [
            "\u001b[0;31m---------------------------------------------------------------------------\u001b[0m",
            "\u001b[0;31mAttributeError\u001b[0m                            Traceback (most recent call last)",
            "\u001b[0;32m<ipython-input-51-9d4f668ee46f>\u001b[0m in \u001b[0;36m<module>\u001b[0;34m()\u001b[0m\n\u001b[1;32m      5\u001b[0m                       \u001b[0mvalidation_data\u001b[0m\u001b[0;34m=\u001b[0m\u001b[0;34m(\u001b[0m\u001b[0mx_val\u001b[0m\u001b[0;34m,\u001b[0m \u001b[0my_val\u001b[0m\u001b[0;34m)\u001b[0m\u001b[0;34m,\u001b[0m\u001b[0;34m\u001b[0m\u001b[0;34m\u001b[0m\u001b[0m\n\u001b[1;32m      6\u001b[0m                       batch_size=128)\n\u001b[0;32m----> 7\u001b[0;31m   \u001b[0mloss\u001b[0m\u001b[0;34m,\u001b[0m \u001b[0maccuracy\u001b[0m \u001b[0;34m=\u001b[0m \u001b[0mbi_dir_history\u001b[0m\u001b[0;34m.\u001b[0m\u001b[0mevaluate\u001b[0m\u001b[0;34m(\u001b[0m\u001b[0mx_train\u001b[0m\u001b[0;34m,\u001b[0m \u001b[0my_train\u001b[0m\u001b[0;34m,\u001b[0m \u001b[0mverbose\u001b[0m\u001b[0;34m=\u001b[0m\u001b[0;32mFalse\u001b[0m\u001b[0;34m)\u001b[0m\u001b[0;34m\u001b[0m\u001b[0;34m\u001b[0m\u001b[0m\n\u001b[0m\u001b[1;32m      8\u001b[0m   \u001b[0mprint\u001b[0m\u001b[0;34m(\u001b[0m\u001b[0;34m\"Training Accuracy: {:.4f}\"\u001b[0m\u001b[0;34m.\u001b[0m\u001b[0mformat\u001b[0m\u001b[0;34m(\u001b[0m\u001b[0maccuracy\u001b[0m\u001b[0;34m)\u001b[0m\u001b[0;34m)\u001b[0m\u001b[0;34m\u001b[0m\u001b[0;34m\u001b[0m\u001b[0m\n\u001b[1;32m      9\u001b[0m   \u001b[0mloss\u001b[0m\u001b[0;34m,\u001b[0m \u001b[0maccuracy\u001b[0m \u001b[0;34m=\u001b[0m \u001b[0mbi_dir_history\u001b[0m\u001b[0;34m.\u001b[0m\u001b[0mevaluate\u001b[0m\u001b[0;34m(\u001b[0m\u001b[0mx_val\u001b[0m\u001b[0;34m,\u001b[0m \u001b[0my_val\u001b[0m\u001b[0;34m,\u001b[0m \u001b[0mverbose\u001b[0m\u001b[0;34m=\u001b[0m\u001b[0;32mFalse\u001b[0m\u001b[0;34m)\u001b[0m\u001b[0;34m\u001b[0m\u001b[0;34m\u001b[0m\u001b[0m\n",
            "\u001b[0;31mAttributeError\u001b[0m: 'History' object has no attribute 'evaluate'"
          ]
        }
      ]
    },
    {
      "cell_type": "code",
      "metadata": {
        "id": "z_HxE6vQwKVy",
        "colab_type": "code",
        "colab": {
          "base_uri": "https://localhost:8080/",
          "height": 339
        },
        "outputId": "48bd794c-b1f3-47ef-e518-576284fe0157"
      },
      "source": [
        "# number of epochs should be 19-20\n",
        "plot_history(bi_dir_history)"
      ],
      "execution_count": 52,
      "outputs": [
        {
          "output_type": "display_data",
          "data": {
            "image/png": "[encoded data removed]",
            "text/plain": [
              "<Figure size 864x360 with 2 Axes>"
            ]
          },
          "metadata": {
            "tags": []
          }
        }
      ]
    },
    {
      "cell_type": "markdown",
      "metadata": {
        "id": "ArMT2cQR35m4",
        "colab_type": "text"
      },
      "source": [
        "#### Train acc: 76.02% validation accu: 73.86%"
      ]
    },
    {
      "cell_type": "markdown",
      "metadata": {
        "id": "OuY-fODZfJK4",
        "colab_type": "text"
      },
      "source": [
        "## Model4: DNN Worde2vec embedding model"
      ]
    },
    {
      "cell_type": "code",
      "metadata": {
        "id": "QtBMu2MifJK4",
        "colab_type": "code",
        "colab": {
          "base_uri": "https://localhost:8080/",
          "height": 272
        },
        "outputId": "fb867651-8733-4f10-aafb-f61c04e51c17"
      },
      "source": [
        "model4 = Sequential()\n",
        "model4.add(Embedding(vocab_Size,\n",
        "                            100,\n",
        "                            weights=[embedding_Matrix],\n",
        "                            input_length=max_length,\n",
        "                            trainable=False))\n",
        "model4.add(layers.Flatten())\n",
        "model4.add(layers.Dense(50, activation='relu'))\n",
        "model4.add(layers.Dense(21, activation='softmax'))\n",
        "model4.compile(optimizer='adam',\n",
        "              loss='categorical_crossentropy',\n",
        "              metrics=['accuracy'])\n",
        "model4.summary()"
      ],
      "execution_count": 54,
      "outputs": [
        {
          "output_type": "stream",
          "text": [
            "_________________________________________________________________\n",
            "Layer (type)                 Output Shape              Param #   \n",
            "=================================================================\n",
            "embedding_5 (Embedding)      (None, 200, 100)          3819400   \n",
            "_________________________________________________________________\n",
            "flatten_2 (Flatten)          (None, 20000)             0         \n",
            "_________________________________________________________________\n",
            "dense_9 (Dense)              (None, 50)                1000050   \n",
            "_________________________________________________________________\n",
            "dense_10 (Dense)             (None, 21)                1071      \n",
            "=================================================================\n",
            "Total params: 4,820,521\n",
            "Trainable params: 1,001,121\n",
            "Non-trainable params: 3,819,400\n",
            "_________________________________________________________________\n"
          ],
          "name": "stdout"
        }
      ]
    },
    {
      "cell_type": "code",
      "metadata": {
        "id": "jlezI1F3fJK7",
        "colab_type": "code",
        "colab": {
          "base_uri": "https://localhost:8080/",
          "height": 408
        },
        "outputId": "2f9f6409-76f6-4f6b-94f8-e09ac7cd8e74"
      },
      "source": [
        "# with tf.device('/gpu:0'):  \n",
        "history4 = model4.fit(x_train, y_train,\n",
        "                    epochs=10,\n",
        "                    verbose=1,\n",
        "                    validation_data=(x_val, y_val),\n",
        "                    batch_size=128)\n",
        "loss, accuracy = model4.evaluate(x_train, y_train, verbose=False)\n",
        "print(\"Training Accuracy: {:.4f}\".format(accuracy))\n",
        "loss, accuracy = model4.evaluate(x_val, y_val, verbose=False)\n",
        "print(\"Testing Accuracy:  {:.4f}\".format(accuracy))\n",
        "# sess = tf.Session(config=config)\n",
        "# sess.run(history4)"
      ],
      "execution_count": 55,
      "outputs": [
        {
          "output_type": "stream",
          "text": [
            "Train on 38932 samples, validate on 9735 samples\n",
            "Epoch 1/10\n",
            "38932/38932 [==============================] - 2s 51us/step - loss: 1.5077 - acc: 0.5558 - val_loss: 1.2600 - val_acc: 0.6219\n",
            "Epoch 2/10\n",
            "38932/38932 [==============================] - 1s 31us/step - loss: 0.9359 - acc: 0.7058 - val_loss: 1.2174 - val_acc: 0.6326\n",
            "Epoch 3/10\n",
            "38932/38932 [==============================] - 1s 30us/step - loss: 0.6643 - acc: 0.7887 - val_loss: 1.2896 - val_acc: 0.6231\n",
            "Epoch 4/10\n",
            "38932/38932 [==============================] - 1s 30us/step - loss: 0.4705 - acc: 0.8552 - val_loss: 1.3996 - val_acc: 0.6198\n",
            "Epoch 5/10\n",
            "38932/38932 [==============================] - 1s 31us/step - loss: 0.3320 - acc: 0.9025 - val_loss: 1.4830 - val_acc: 0.6223\n",
            "Epoch 6/10\n",
            "38932/38932 [==============================] - 1s 30us/step - loss: 0.2339 - acc: 0.9361 - val_loss: 1.6302 - val_acc: 0.6164\n",
            "Epoch 7/10\n",
            "38932/38932 [==============================] - 1s 30us/step - loss: 0.1655 - acc: 0.9591 - val_loss: 1.7757 - val_acc: 0.6161\n",
            "Epoch 8/10\n",
            "38932/38932 [==============================] - 1s 30us/step - loss: 0.1173 - acc: 0.9750 - val_loss: 1.8673 - val_acc: 0.6154\n",
            "Epoch 9/10\n",
            "38932/38932 [==============================] - 1s 31us/step - loss: 0.0836 - acc: 0.9837 - val_loss: 1.9814 - val_acc: 0.6143\n",
            "Epoch 10/10\n",
            "38932/38932 [==============================] - 1s 31us/step - loss: 0.0625 - acc: 0.9900 - val_loss: 2.0695 - val_acc: 0.6145\n",
            "Training Accuracy: 0.9957\n",
            "Testing Accuracy:  0.6145\n"
          ],
          "name": "stdout"
        }
      ]
    },
    {
      "cell_type": "markdown",
      "metadata": {
        "id": "ESmvOQhCfJK-",
        "colab_type": "text"
      },
      "source": [
        "## Train acc: 99.57% Validation acc: 61.45% \n",
        "### Overfitting"
      ]
    },
    {
      "cell_type": "code",
      "metadata": {
        "id": "8OzEF3xUfJK-",
        "colab_type": "code",
        "colab": {
          "base_uri": "https://localhost:8080/",
          "height": 339
        },
        "outputId": "0ab55fab-57ac-4065-c9b3-8f31842525bf"
      },
      "source": [
        "# too much overfit\n",
        "# number of epochs should 1-2 or probably use batchnormalization()\n",
        "plot_history(history4)"
      ],
      "execution_count": 57,
      "outputs": [
        {
          "output_type": "display_data",
          "data": {
            "image/png": "[encoded data removed]",
            "text/plain": [
              "<Figure size 864x360 with 2 Axes>"
            ]
          },
          "metadata": {
            "tags": []
          }
        }
      ]
    },
    {
      "cell_type": "markdown",
      "metadata": {
        "id": "6CgF1-1RfJLB",
        "colab_type": "text"
      },
      "source": [
        "# Model5: word2vec and GlobalMaxPool1D"
      ]
    },
    {
      "cell_type": "code",
      "metadata": {
        "id": "2vACk4HUfJLB",
        "colab_type": "code",
        "colab": {
          "base_uri": "https://localhost:8080/",
          "height": 272
        },
        "outputId": "0ddc6498-6308-4dcd-fcd6-6f391de5d594"
      },
      "source": [
        "model5 = Sequential()\n",
        "model5.add(Embedding(vocab_Size,\n",
        "                            100,\n",
        "                            weights=[embedding_Matrix],\n",
        "                            input_length=max_length,\n",
        "                            trainable=False))\n",
        "model5.add(layers.GlobalMaxPool1D())\n",
        "model5.add(layers.Dense(50, activation='relu'))\n",
        "model5.add(layers.Dense(21, activation='softmax'))\n",
        "model5.compile(optimizer='adam',\n",
        "              loss='categorical_crossentropy',\n",
        "              metrics=['accuracy'])\n",
        "model5.summary()"
      ],
      "execution_count": 58,
      "outputs": [
        {
          "output_type": "stream",
          "text": [
            "_________________________________________________________________\n",
            "Layer (type)                 Output Shape              Param #   \n",
            "=================================================================\n",
            "embedding_6 (Embedding)      (None, 200, 100)          3819400   \n",
            "_________________________________________________________________\n",
            "global_max_pooling1d_2 (Glob (None, 100)               0         \n",
            "_________________________________________________________________\n",
            "dense_11 (Dense)             (None, 50)                5050      \n",
            "_________________________________________________________________\n",
            "dense_12 (Dense)             (None, 21)                1071      \n",
            "=================================================================\n",
            "Total params: 3,825,521\n",
            "Trainable params: 6,121\n",
            "Non-trainable params: 3,819,400\n",
            "_________________________________________________________________\n"
          ],
          "name": "stdout"
        }
      ]
    },
    {
      "cell_type": "code",
      "metadata": {
        "id": "u51hL4M-fJLH",
        "colab_type": "code",
        "colab": {
          "base_uri": "https://localhost:8080/",
          "height": 1000
        },
        "outputId": "6f949d78-dd5d-4630-996d-873a79019202"
      },
      "source": [
        "# with tf.device('/gpu:0'):  \n",
        "history5 = model5.fit(x_train, y_train,\n",
        "                    epochs=50,\n",
        "                    verbose=1,\n",
        "                    validation_data=(x_val, y_val),\n",
        "                    batch_size=128)\n",
        "loss, accuracy = model5.evaluate(x_train, y_train, verbose=False)\n",
        "print(\"Training Accuracy: {:.4f}\".format(accuracy))\n",
        "loss, accuracy = model5.evaluate(x_val, y_val, verbose=False)\n",
        "print(\"Testing Accuracy:  {:.4f}\".format(accuracy))"
      ],
      "execution_count": 60,
      "outputs": [
        {
          "output_type": "stream",
          "text": [
            "Train on 38932 samples, validate on 9735 samples\n",
            "Epoch 1/50\n",
            "38932/38932 [==============================] - 1s 29us/step - loss: 1.2139 - acc: 0.6075 - val_loss: 1.2422 - val_acc: 0.5969\n",
            "Epoch 2/50\n",
            "38932/38932 [==============================] - 1s 29us/step - loss: 1.2104 - acc: 0.6084 - val_loss: 1.2488 - val_acc: 0.5926\n",
            "Epoch 3/50\n",
            "38932/38932 [==============================] - 1s 26us/step - loss: 1.2085 - acc: 0.6090 - val_loss: 1.2608 - val_acc: 0.5901\n",
            "Epoch 4/50\n",
            "38932/38932 [==============================] - 1s 25us/step - loss: 1.2091 - acc: 0.6097 - val_loss: 1.2489 - val_acc: 0.5919\n",
            "Epoch 5/50\n",
            "38932/38932 [==============================] - 1s 25us/step - loss: 1.2090 - acc: 0.6077 - val_loss: 1.2576 - val_acc: 0.5922\n",
            "Epoch 6/50\n",
            "38932/38932 [==============================] - 1s 26us/step - loss: 1.2055 - acc: 0.6078 - val_loss: 1.2495 - val_acc: 0.5917\n",
            "Epoch 7/50\n",
            "38932/38932 [==============================] - 1s 25us/step - loss: 1.2033 - acc: 0.6115 - val_loss: 1.2525 - val_acc: 0.5940\n",
            "Epoch 8/50\n",
            "38932/38932 [==============================] - 1s 25us/step - loss: 1.2023 - acc: 0.6106 - val_loss: 1.2514 - val_acc: 0.5950\n",
            "Epoch 9/50\n",
            "38932/38932 [==============================] - 1s 25us/step - loss: 1.2001 - acc: 0.6109 - val_loss: 1.2517 - val_acc: 0.5931\n",
            "Epoch 10/50\n",
            "38932/38932 [==============================] - 1s 25us/step - loss: 1.2003 - acc: 0.6118 - val_loss: 1.2446 - val_acc: 0.5938\n",
            "Epoch 11/50\n",
            "38932/38932 [==============================] - 1s 25us/step - loss: 1.2002 - acc: 0.6123 - val_loss: 1.2522 - val_acc: 0.5922\n",
            "Epoch 12/50\n",
            "38932/38932 [==============================] - 1s 25us/step - loss: 1.1980 - acc: 0.6127 - val_loss: 1.2491 - val_acc: 0.5904\n",
            "Epoch 13/50\n",
            "38932/38932 [==============================] - 1s 25us/step - loss: 1.1981 - acc: 0.6128 - val_loss: 1.2512 - val_acc: 0.5942\n",
            "Epoch 14/50\n",
            "38932/38932 [==============================] - 1s 25us/step - loss: 1.1975 - acc: 0.6153 - val_loss: 1.2541 - val_acc: 0.5940\n",
            "Epoch 15/50\n",
            "38932/38932 [==============================] - 1s 25us/step - loss: 1.1944 - acc: 0.6127 - val_loss: 1.2432 - val_acc: 0.5951\n",
            "Epoch 16/50\n",
            "38932/38932 [==============================] - 1s 26us/step - loss: 1.1968 - acc: 0.6124 - val_loss: 1.2676 - val_acc: 0.5879\n",
            "Epoch 17/50\n",
            "38932/38932 [==============================] - 1s 25us/step - loss: 1.1917 - acc: 0.6140 - val_loss: 1.2399 - val_acc: 0.5983\n",
            "Epoch 18/50\n",
            "38932/38932 [==============================] - 1s 25us/step - loss: 1.1927 - acc: 0.6138 - val_loss: 1.2399 - val_acc: 0.5951\n",
            "Epoch 19/50\n",
            "38932/38932 [==============================] - 1s 25us/step - loss: 1.1906 - acc: 0.6138 - val_loss: 1.2420 - val_acc: 0.5998\n",
            "Epoch 20/50\n",
            "38932/38932 [==============================] - 1s 25us/step - loss: 1.1908 - acc: 0.6145 - val_loss: 1.2532 - val_acc: 0.5945\n",
            "Epoch 21/50\n",
            "38932/38932 [==============================] - 1s 25us/step - loss: 1.1922 - acc: 0.6133 - val_loss: 1.2513 - val_acc: 0.5905\n",
            "Epoch 22/50\n",
            "38932/38932 [==============================] - 1s 25us/step - loss: 1.1912 - acc: 0.6131 - val_loss: 1.2691 - val_acc: 0.5880\n",
            "Epoch 23/50\n",
            "38932/38932 [==============================] - 1s 25us/step - loss: 1.1899 - acc: 0.6129 - val_loss: 1.2628 - val_acc: 0.5909\n",
            "Epoch 24/50\n",
            "38932/38932 [==============================] - 1s 25us/step - loss: 1.1887 - acc: 0.6149 - val_loss: 1.2388 - val_acc: 0.5997\n",
            "Epoch 25/50\n",
            "38932/38932 [==============================] - 1s 25us/step - loss: 1.1880 - acc: 0.6148 - val_loss: 1.2507 - val_acc: 0.5925\n",
            "Epoch 26/50\n",
            "38932/38932 [==============================] - 1s 25us/step - loss: 1.1851 - acc: 0.6163 - val_loss: 1.2529 - val_acc: 0.5942\n",
            "Epoch 27/50\n",
            "38932/38932 [==============================] - 1s 26us/step - loss: 1.1876 - acc: 0.6158 - val_loss: 1.2500 - val_acc: 0.5955\n",
            "Epoch 28/50\n",
            "38932/38932 [==============================] - 1s 25us/step - loss: 1.1829 - acc: 0.6161 - val_loss: 1.2528 - val_acc: 0.5940\n",
            "Epoch 29/50\n",
            "38932/38932 [==============================] - 1s 25us/step - loss: 1.1838 - acc: 0.6165 - val_loss: 1.2450 - val_acc: 0.5958\n",
            "Epoch 30/50\n",
            "38932/38932 [==============================] - 1s 25us/step - loss: 1.1829 - acc: 0.6169 - val_loss: 1.2425 - val_acc: 0.5979\n",
            "Epoch 31/50\n",
            "38932/38932 [==============================] - 1s 25us/step - loss: 1.1819 - acc: 0.6165 - val_loss: 1.2428 - val_acc: 0.5932\n",
            "Epoch 32/50\n",
            "38932/38932 [==============================] - 1s 26us/step - loss: 1.1830 - acc: 0.6178 - val_loss: 1.2540 - val_acc: 0.5938\n",
            "Epoch 33/50\n",
            "38932/38932 [==============================] - 1s 26us/step - loss: 1.1787 - acc: 0.6172 - val_loss: 1.2435 - val_acc: 0.5954\n",
            "Epoch 34/50\n",
            "38932/38932 [==============================] - 1s 26us/step - loss: 1.1795 - acc: 0.6185 - val_loss: 1.2461 - val_acc: 0.5997\n",
            "Epoch 35/50\n",
            "38932/38932 [==============================] - 1s 26us/step - loss: 1.1781 - acc: 0.6202 - val_loss: 1.2402 - val_acc: 0.5959\n",
            "Epoch 36/50\n",
            "38932/38932 [==============================] - 1s 26us/step - loss: 1.1782 - acc: 0.6184 - val_loss: 1.2376 - val_acc: 0.5970\n",
            "Epoch 37/50\n",
            "38932/38932 [==============================] - 1s 27us/step - loss: 1.1803 - acc: 0.6184 - val_loss: 1.2423 - val_acc: 0.5954\n",
            "Epoch 38/50\n",
            "38932/38932 [==============================] - 1s 27us/step - loss: 1.1783 - acc: 0.6173 - val_loss: 1.2592 - val_acc: 0.5933\n",
            "Epoch 39/50\n",
            "38932/38932 [==============================] - 1s 26us/step - loss: 1.1764 - acc: 0.6165 - val_loss: 1.2396 - val_acc: 0.5968\n",
            "Epoch 40/50\n",
            "38932/38932 [==============================] - 1s 26us/step - loss: 1.1739 - acc: 0.6182 - val_loss: 1.2367 - val_acc: 0.5974\n",
            "Epoch 41/50\n",
            "38932/38932 [==============================] - 1s 27us/step - loss: 1.1760 - acc: 0.6182 - val_loss: 1.2524 - val_acc: 0.5989\n",
            "Epoch 42/50\n",
            "38932/38932 [==============================] - 1s 26us/step - loss: 1.1737 - acc: 0.6186 - val_loss: 1.2437 - val_acc: 0.5953\n",
            "Epoch 43/50\n",
            "38932/38932 [==============================] - 1s 25us/step - loss: 1.1759 - acc: 0.6181 - val_loss: 1.2442 - val_acc: 0.6006\n",
            "Epoch 44/50\n",
            "38932/38932 [==============================] - 1s 25us/step - loss: 1.1727 - acc: 0.6214 - val_loss: 1.2367 - val_acc: 0.6002\n",
            "Epoch 45/50\n",
            "38932/38932 [==============================] - 1s 25us/step - loss: 1.1720 - acc: 0.6185 - val_loss: 1.2703 - val_acc: 0.5938\n",
            "Epoch 46/50\n",
            "38932/38932 [==============================] - 1s 25us/step - loss: 1.1714 - acc: 0.6202 - val_loss: 1.2363 - val_acc: 0.5985\n",
            "Epoch 47/50\n",
            "38932/38932 [==============================] - 1s 25us/step - loss: 1.1747 - acc: 0.6197 - val_loss: 1.2376 - val_acc: 0.6014\n",
            "Epoch 48/50\n",
            "38932/38932 [==============================] - 1s 26us/step - loss: 1.1720 - acc: 0.6198 - val_loss: 1.2694 - val_acc: 0.5925\n",
            "Epoch 49/50\n",
            "38932/38932 [==============================] - 1s 26us/step - loss: 1.1690 - acc: 0.6206 - val_loss: 1.2455 - val_acc: 0.5994\n",
            "Epoch 50/50\n",
            "38932/38932 [==============================] - 1s 26us/step - loss: 1.1705 - acc: 0.6200 - val_loss: 1.2308 - val_acc: 0.5982\n",
            "Training Accuracy: 0.6233\n",
            "Testing Accuracy:  0.5982\n"
          ],
          "name": "stdout"
        }
      ]
    },
    {
      "cell_type": "markdown",
      "metadata": {
        "id": "JXHHxDDgfJLK",
        "colab_type": "text"
      },
      "source": [
        "## Train acc: 62.33% # Validation acc: 59.82%"
      ]
    },
    {
      "cell_type": "code",
      "metadata": {
        "id": "aijHEOrbfJLL",
        "colab_type": "code",
        "colab": {
          "base_uri": "https://localhost:8080/",
          "height": 339
        },
        "outputId": "8c5f08d4-db8e-4153-eec7-8b9cdb591dd1"
      },
      "source": [
        "plot_history(history5)"
      ],
      "execution_count": 61,
      "outputs": [
        {
          "output_type": "display_data",
          "data": {
            "image/png": "[encoded data removed]",
            "text/plain": [
              "<Figure size 864x360 with 2 Axes>"
            ]
          },
          "metadata": {
            "tags": []
          }
        }
      ]
    },
    {
      "cell_type": "markdown",
      "metadata": {
        "id": "RcOyh60-fJLP",
        "colab_type": "text"
      },
      "source": [
        "# Model6: 1D convolution and Maxpooling"
      ]
    },
    {
      "cell_type": "code",
      "metadata": {
        "id": "5Tl_FtmufJLQ",
        "colab_type": "code",
        "outputId": "98376b91-d07c-4fbd-b3c6-6f7c00794fd8",
        "colab": {
          "base_uri": "https://localhost:8080/",
          "height": 1000
        }
      },
      "source": [
        "from keras.layers import Dropout, BatchNormalization\n",
        "from keras.layers.advanced_activations import LeakyReLU, PReLU\n",
        "model6 = Sequential()\n",
        "model6.add(Embedding(vocab_Size,\n",
        "                            100,\n",
        "                            weights=[embedding_Matrix],\n",
        "                            input_length=max_length,\n",
        "                            trainable=False))\n",
        "model6.add(Conv1D(128, 3, activation='linear'))\n",
        "model6.add(LeakyReLU(alpha=.009))\n",
        "model6.add(MaxPooling1D(3))\n",
        "model6.add(Dropout(0.3))\n",
        "model6.add(BatchNormalization())\n",
        "model6.add(Conv1D(128, 3, activation='linear'))\n",
        "model6.add(LeakyReLU(alpha=.009))\n",
        "model6.add(MaxPooling1D(3))\n",
        "model6.add(Dropout(0.3))\n",
        "model6.add(BatchNormalization())\n",
        "model6.add(Conv1D(128, 3, activation='linear'))\n",
        "model6.add(LeakyReLU(alpha=.009))\n",
        "model6.add(MaxPooling1D(3))\n",
        "model6.add(Dropout(0.3))\n",
        "model6.add(BatchNormalization())\n",
        "model6.add(Dense(128, activation='linear'))\n",
        "model6.add(LeakyReLU(alpha=.009))\n",
        "#model6.add(Dropout(0.2))\n",
        "model6.add(BatchNormalization())\n",
        "model6.add(Dense(128, activation='linear'))\n",
        "model6.add(LeakyReLU(alpha=.009))\n",
        "#model6.add(Dropout(0.2))\n",
        "model6.add(BatchNormalization())\n",
        "model6.add(Flatten())\n",
        "model6.add(Dense(21, activation='softmax'))\n",
        "model6.summary()\n",
        "\n",
        "model6.compile(optimizer='adam',\n",
        "              loss='categorical_crossentropy',\n",
        "              metrics=['accuracy'])"
      ],
      "execution_count": 62,
      "outputs": [
        {
          "output_type": "stream",
          "text": [
            "W0808 15:53:54.179891 140702196950912 deprecation_wrapper.py:119] From /usr/local/lib/python3.6/dist-packages/keras/backend/tensorflow_backend.py:3976: The name tf.nn.max_pool is deprecated. Please use tf.nn.max_pool2d instead.\n",
            "\n"
          ],
          "name": "stderr"
        },
        {
          "output_type": "stream",
          "text": [
            "_________________________________________________________________\n",
            "Layer (type)                 Output Shape              Param #   \n",
            "=================================================================\n",
            "embedding_7 (Embedding)      (None, 200, 100)          3819400   \n",
            "_________________________________________________________________\n",
            "conv1d_1 (Conv1D)            (None, 198, 128)          38528     \n",
            "_________________________________________________________________\n",
            "leaky_re_lu_1 (LeakyReLU)    (None, 198, 128)          0         \n",
            "_________________________________________________________________\n",
            "max_pooling1d_1 (MaxPooling1 (None, 66, 128)           0         \n",
            "_________________________________________________________________\n",
            "dropout_1 (Dropout)          (None, 66, 128)           0         \n",
            "_________________________________________________________________\n",
            "batch_normalization_2 (Batch (None, 66, 128)           512       \n",
            "_________________________________________________________________\n",
            "conv1d_2 (Conv1D)            (None, 64, 128)           49280     \n",
            "_________________________________________________________________\n",
            "leaky_re_lu_2 (LeakyReLU)    (None, 64, 128)           0         \n",
            "_________________________________________________________________\n",
            "max_pooling1d_2 (MaxPooling1 (None, 21, 128)           0         \n",
            "_________________________________________________________________\n",
            "dropout_2 (Dropout)          (None, 21, 128)           0         \n",
            "_________________________________________________________________\n",
            "batch_normalization_3 (Batch (None, 21, 128)           512       \n",
            "_________________________________________________________________\n",
            "conv1d_3 (Conv1D)            (None, 19, 128)           49280     \n",
            "_________________________________________________________________\n",
            "leaky_re_lu_3 (LeakyReLU)    (None, 19, 128)           0         \n",
            "_________________________________________________________________\n",
            "max_pooling1d_3 (MaxPooling1 (None, 6, 128)            0         \n",
            "_________________________________________________________________\n",
            "dropout_3 (Dropout)          (None, 6, 128)            0         \n",
            "_________________________________________________________________\n",
            "batch_normalization_4 (Batch (None, 6, 128)            512       \n",
            "_________________________________________________________________\n",
            "dense_13 (Dense)             (None, 6, 128)            16512     \n",
            "_________________________________________________________________\n",
            "leaky_re_lu_4 (LeakyReLU)    (None, 6, 128)            0         \n",
            "_________________________________________________________________\n",
            "batch_normalization_5 (Batch (None, 6, 128)            512       \n",
            "_________________________________________________________________\n",
            "dense_14 (Dense)             (None, 6, 128)            16512     \n",
            "_________________________________________________________________\n",
            "leaky_re_lu_5 (LeakyReLU)    (None, 6, 128)            0         \n",
            "_________________________________________________________________\n",
            "batch_normalization_6 (Batch (None, 6, 128)            512       \n",
            "_________________________________________________________________\n",
            "flatten_3 (Flatten)          (None, 768)               0         \n",
            "_________________________________________________________________\n",
            "dense_15 (Dense)             (None, 21)                16149     \n",
            "=================================================================\n",
            "Total params: 4,008,221\n",
            "Trainable params: 187,541\n",
            "Non-trainable params: 3,820,680\n",
            "_________________________________________________________________\n"
          ],
          "name": "stdout"
        }
      ]
    },
    {
      "cell_type": "code",
      "metadata": {
        "id": "XL_jBAqWfJLU",
        "colab_type": "code",
        "outputId": "f47aa6ef-0e2c-48d1-ffc6-bbc974e87ce6",
        "colab": {
          "base_uri": "https://localhost:8080/",
          "height": 748
        }
      },
      "source": [
        "# with tf.device('/gpu:0'):  \n",
        "history6 = model6.fit(x_train, y_train,\n",
        "                    epochs=20,\n",
        "                    verbose=1,\n",
        "                    validation_data=(x_val, y_val),\n",
        "                    batch_size=128)\n",
        "loss, accuracy = model6.evaluate(x_train, y_train, verbose=False)\n",
        "print(\"Training Accuracy: {:.4f}\".format(accuracy))\n",
        "loss, accuracy = model6.evaluate(x_val, y_val, verbose=False)\n",
        "print(\"Validation Accuracy:{:.4f}\".format(accuracy))"
      ],
      "execution_count": 63,
      "outputs": [
        {
          "output_type": "stream",
          "text": [
            "Train on 38932 samples, validate on 9735 samples\n",
            "Epoch 1/20\n",
            "38932/38932 [==============================] - 10s 261us/step - loss: 1.8821 - acc: 0.4438 - val_loss: 1.9249 - val_acc: 0.4297\n",
            "Epoch 2/20\n",
            "38932/38932 [==============================] - 4s 113us/step - loss: 1.3064 - acc: 0.5993 - val_loss: 1.2242 - val_acc: 0.6185\n",
            "Epoch 3/20\n",
            "38932/38932 [==============================] - 4s 113us/step - loss: 1.1349 - acc: 0.6465 - val_loss: 1.1613 - val_acc: 0.6353\n",
            "Epoch 4/20\n",
            "38932/38932 [==============================] - 4s 112us/step - loss: 1.0347 - acc: 0.6749 - val_loss: 0.9812 - val_acc: 0.6899\n",
            "Epoch 5/20\n",
            "38932/38932 [==============================] - 4s 113us/step - loss: 0.9709 - acc: 0.6920 - val_loss: 0.9807 - val_acc: 0.6879\n",
            "Epoch 6/20\n",
            "38932/38932 [==============================] - 4s 114us/step - loss: 0.9321 - acc: 0.6993 - val_loss: 0.9565 - val_acc: 0.6933\n",
            "Epoch 7/20\n",
            "38932/38932 [==============================] - 4s 113us/step - loss: 0.8977 - acc: 0.7082 - val_loss: 0.9283 - val_acc: 0.7012\n",
            "Epoch 8/20\n",
            "38932/38932 [==============================] - 4s 113us/step - loss: 0.8651 - acc: 0.7182 - val_loss: 0.9174 - val_acc: 0.6991\n",
            "Epoch 9/20\n",
            "38932/38932 [==============================] - 4s 114us/step - loss: 0.8444 - acc: 0.7230 - val_loss: 0.8946 - val_acc: 0.7118\n",
            "Epoch 10/20\n",
            "38932/38932 [==============================] - 4s 114us/step - loss: 0.8281 - acc: 0.7299 - val_loss: 0.8992 - val_acc: 0.7134\n",
            "Epoch 11/20\n",
            "38932/38932 [==============================] - 4s 113us/step - loss: 0.8086 - acc: 0.7327 - val_loss: 0.9119 - val_acc: 0.6977\n",
            "Epoch 12/20\n",
            "38932/38932 [==============================] - 4s 114us/step - loss: 0.7913 - acc: 0.7392 - val_loss: 0.8919 - val_acc: 0.7155\n",
            "Epoch 13/20\n",
            "38932/38932 [==============================] - 4s 113us/step - loss: 0.7732 - acc: 0.7431 - val_loss: 0.8837 - val_acc: 0.7176\n",
            "Epoch 14/20\n",
            "38932/38932 [==============================] - 4s 113us/step - loss: 0.7675 - acc: 0.7454 - val_loss: 0.8780 - val_acc: 0.7147\n",
            "Epoch 15/20\n",
            "38932/38932 [==============================] - 4s 114us/step - loss: 0.7511 - acc: 0.7485 - val_loss: 0.8880 - val_acc: 0.7111\n",
            "Epoch 16/20\n",
            "38932/38932 [==============================] - 4s 113us/step - loss: 0.7409 - acc: 0.7511 - val_loss: 0.8910 - val_acc: 0.7136\n",
            "Epoch 17/20\n",
            "38932/38932 [==============================] - 4s 113us/step - loss: 0.7329 - acc: 0.7545 - val_loss: 0.8839 - val_acc: 0.7117\n",
            "Epoch 18/20\n",
            "38932/38932 [==============================] - 4s 113us/step - loss: 0.7207 - acc: 0.7574 - val_loss: 0.8829 - val_acc: 0.7195\n",
            "Epoch 19/20\n",
            "38932/38932 [==============================] - 4s 113us/step - loss: 0.7048 - acc: 0.7637 - val_loss: 0.8941 - val_acc: 0.7141\n",
            "Epoch 20/20\n",
            "38932/38932 [==============================] - 4s 114us/step - loss: 0.7016 - acc: 0.7639 - val_loss: 0.8751 - val_acc: 0.7211\n",
            "Training Accuracy: 0.8073\n",
            "Testing Accuracy:  0.7211\n"
          ],
          "name": "stdout"
        }
      ]
    },
    {
      "cell_type": "markdown",
      "metadata": {
        "id": "feye8OidfJLX",
        "colab_type": "text"
      },
      "source": [
        "## Train acc: 80.73% Validation acc: 72.11 % \n",
        "### Overfitting"
      ]
    },
    {
      "cell_type": "code",
      "metadata": {
        "id": "7SzZHCvpfJLY",
        "colab_type": "code",
        "colab": {
          "base_uri": "https://localhost:8080/",
          "height": 339
        },
        "outputId": "d3ce4e37-066c-4be2-89c0-58b113a0003f"
      },
      "source": [
        "# number of epochs should be between 12-15\n",
        "plot_history(history6)"
      ],
      "execution_count": 64,
      "outputs": [
        {
          "output_type": "display_data",
          "data": {
            "image/png": "[encoded data removed]",
            "text/plain": [
              "<Figure size 864x360 with 2 Axes>"
            ]
          },
          "metadata": {
            "tags": []
          }
        }
      ]
    },
    {
      "cell_type": "markdown",
      "metadata": {
        "id": "099wMbMEfJLa",
        "colab_type": "text"
      },
      "source": [
        "## Model7: Convolution and LSTM "
      ]
    },
    {
      "cell_type": "code",
      "metadata": {
        "id": "1BcWLMtWfJLb",
        "colab_type": "code",
        "colab": {
          "base_uri": "https://localhost:8080/",
          "height": 476
        },
        "outputId": "accdda62-c370-478d-e506-2e9d189130a7"
      },
      "source": [
        "from keras.layers import LSTM, Conv1D, MaxPooling1D, Dropout\n",
        "from keras.models import Model\n",
        "\n",
        "embedding_layer = Embedding(vocab_Size,\n",
        "                            100,\n",
        "                            weights=[embedding_Matrix],\n",
        "                            input_length=max_length,\n",
        "                            trainable=False)\n",
        "sequence_input = Input(shape=(max_length,), dtype='int32')\n",
        "embedded_sequences = embedding_layer(sequence_input)\n",
        "\n",
        "# 1D convolution with 64 output channels\n",
        "x = Conv1D(64, 5)(embedded_sequences)\n",
        "# MaxPool divides the length of the sequence by 5\n",
        "x = MaxPooling1D(5)(x)\n",
        "x = Dropout(0.5)(x)\n",
        "x = Conv1D(64, 5)(x)\n",
        "x = MaxPooling1D(5)(x)\n",
        "# LSTM layer with a hidden size of 64\n",
        "x = Dropout(0.5)(x)\n",
        "x = LSTM(64,dropout=0.5)(x)\n",
        "predictions = Dense(21, activation='softmax')(x)\n",
        "\n",
        "model7 = Model(sequence_input, predictions)\n",
        "model7.compile(loss='categorical_crossentropy',\n",
        "              optimizer='adam',\n",
        "              metrics=['acc'])\n",
        "\n",
        "model7.summary()"
      ],
      "execution_count": 65,
      "outputs": [
        {
          "output_type": "stream",
          "text": [
            "_________________________________________________________________\n",
            "Layer (type)                 Output Shape              Param #   \n",
            "=================================================================\n",
            "input_1 (InputLayer)         (None, 200)               0         \n",
            "_________________________________________________________________\n",
            "embedding_8 (Embedding)      (None, 200, 100)          3819400   \n",
            "_________________________________________________________________\n",
            "conv1d_4 (Conv1D)            (None, 196, 64)           32064     \n",
            "_________________________________________________________________\n",
            "max_pooling1d_4 (MaxPooling1 (None, 39, 64)            0         \n",
            "_________________________________________________________________\n",
            "dropout_4 (Dropout)          (None, 39, 64)            0         \n",
            "_________________________________________________________________\n",
            "conv1d_5 (Conv1D)            (None, 35, 64)            20544     \n",
            "_________________________________________________________________\n",
            "max_pooling1d_5 (MaxPooling1 (None, 7, 64)             0         \n",
            "_________________________________________________________________\n",
            "dropout_5 (Dropout)          (None, 7, 64)             0         \n",
            "_________________________________________________________________\n",
            "lstm_3 (LSTM)                (None, 64)                33024     \n",
            "_________________________________________________________________\n",
            "dense_16 (Dense)             (None, 21)                1365      \n",
            "=================================================================\n",
            "Total params: 3,906,397\n",
            "Trainable params: 86,997\n",
            "Non-trainable params: 3,819,400\n",
            "_________________________________________________________________\n"
          ],
          "name": "stdout"
        }
      ]
    },
    {
      "cell_type": "code",
      "metadata": {
        "id": "t8jo5klAfJLe",
        "colab_type": "code",
        "colab": {
          "base_uri": "https://localhost:8080/",
          "height": 578
        },
        "outputId": "18e324ac-8884-44ee-a973-2713a695f939"
      },
      "source": [
        "history7 = model7.fit(x_train, y_train,\n",
        "                    epochs=15,\n",
        "                    verbose=1,\n",
        "                    validation_data=(x_val, y_val),\n",
        "                    batch_size=128)\n",
        "loss, accuracy = model7.evaluate(x_train, y_train, verbose=False)\n",
        "print(\"Training Accuracy: {:.4f}\".format(accuracy))\n",
        "loss, accuracy = model7.evaluate(x_val, y_val, verbose=False)\n",
        "print(\"Validation Accuracy:  {:.4f}\".format(accuracy))"
      ],
      "execution_count": 66,
      "outputs": [
        {
          "output_type": "stream",
          "text": [
            "Train on 38932 samples, validate on 9735 samples\n",
            "Epoch 1/15\n",
            "38932/38932 [==============================] - 8s 215us/step - loss: 2.0543 - acc: 0.3836 - val_loss: 1.6909 - val_acc: 0.4827\n",
            "Epoch 2/15\n",
            "38932/38932 [==============================] - 6s 144us/step - loss: 1.6411 - acc: 0.4990 - val_loss: 1.4914 - val_acc: 0.5463\n",
            "Epoch 3/15\n",
            "38932/38932 [==============================] - 6s 145us/step - loss: 1.4949 - acc: 0.5333 - val_loss: 1.3142 - val_acc: 0.5869\n",
            "Epoch 4/15\n",
            "38932/38932 [==============================] - 6s 146us/step - loss: 1.3921 - acc: 0.5632 - val_loss: 1.3184 - val_acc: 0.5940\n",
            "Epoch 5/15\n",
            "38932/38932 [==============================] - 6s 146us/step - loss: 1.3221 - acc: 0.5835 - val_loss: 1.1829 - val_acc: 0.6319\n",
            "Epoch 6/15\n",
            "38932/38932 [==============================] - 6s 145us/step - loss: 1.2724 - acc: 0.5995 - val_loss: 1.1297 - val_acc: 0.6478\n",
            "Epoch 7/15\n",
            "38932/38932 [==============================] - 6s 144us/step - loss: 1.2378 - acc: 0.6087 - val_loss: 1.1079 - val_acc: 0.6540\n",
            "Epoch 8/15\n",
            "38932/38932 [==============================] - 6s 145us/step - loss: 1.2017 - acc: 0.6190 - val_loss: 1.0970 - val_acc: 0.6555\n",
            "Epoch 9/15\n",
            "38932/38932 [==============================] - 6s 144us/step - loss: 1.1714 - acc: 0.6293 - val_loss: 1.0888 - val_acc: 0.6596\n",
            "Epoch 10/15\n",
            "38932/38932 [==============================] - 6s 145us/step - loss: 1.1559 - acc: 0.6319 - val_loss: 1.0466 - val_acc: 0.6677\n",
            "Epoch 11/15\n",
            "38932/38932 [==============================] - 6s 144us/step - loss: 1.1273 - acc: 0.6422 - val_loss: 1.0495 - val_acc: 0.6715\n",
            "Epoch 12/15\n",
            "38932/38932 [==============================] - 6s 144us/step - loss: 1.1078 - acc: 0.6456 - val_loss: 1.0597 - val_acc: 0.6699\n",
            "Epoch 13/15\n",
            "38932/38932 [==============================] - 6s 145us/step - loss: 1.0992 - acc: 0.6483 - val_loss: 1.0082 - val_acc: 0.6861\n",
            "Epoch 14/15\n",
            "38932/38932 [==============================] - 6s 144us/step - loss: 1.0849 - acc: 0.6551 - val_loss: 0.9774 - val_acc: 0.6889\n",
            "Epoch 15/15\n",
            "38932/38932 [==============================] - 6s 144us/step - loss: 1.0607 - acc: 0.6615 - val_loss: 0.9614 - val_acc: 0.6930\n",
            "Training Accuracy: 0.7169\n",
            "Validation Accuracy:  0.6930\n"
          ],
          "name": "stdout"
        }
      ]
    },
    {
      "cell_type": "markdown",
      "metadata": {
        "id": "6SLvSSycfJLh",
        "colab_type": "text"
      },
      "source": [
        "# Train acc: 71.69% validation acc: 69.30%"
      ]
    },
    {
      "cell_type": "code",
      "metadata": {
        "id": "2NtcZS9VfJLh",
        "colab_type": "code",
        "colab": {
          "base_uri": "https://localhost:8080/",
          "height": 339
        },
        "outputId": "e34a46a8-bb13-4e12-b600-dfc376b4db5f"
      },
      "source": [
        "# probably the model is underfit\n",
        "plot_history(history7)"
      ],
      "execution_count": 67,
      "outputs": [
        {
          "output_type": "display_data",
          "data": {
            "image/png": "[encoded data removed]",
            "text/plain": [
              "<Figure size 864x360 with 2 Axes>"
            ]
          },
          "metadata": {
            "tags": []
          }
        }
      ]
    },
    {
      "cell_type": "markdown",
      "metadata": {
        "id": "HV2tXW7QfJLk",
        "colab_type": "text"
      },
      "source": [
        "# Model3a: word2vec(trainable = false) and LSTM"
      ]
    },
    {
      "cell_type": "code",
      "metadata": {
        "id": "4Ls7fOCtfJLl",
        "colab_type": "code",
        "colab": {
          "base_uri": "https://localhost:8080/",
          "height": 272
        },
        "outputId": "6c9703b8-2cd0-4f7a-db93-93c8b6e02047"
      },
      "source": [
        "from keras.layers import LSTM, Dense, Activation, Embedding\n",
        "model3a = Sequential()\n",
        "model3a.add(Embedding(vocab_Size,\n",
        "                            100,\n",
        "                            weights=[embedding_Matrix],\n",
        "                            input_length=max_length,\n",
        "                            trainable=True))\n",
        "model3a.add(LSTM(128,dropout=0.5, recurrent_dropout=0.2))\n",
        "model3a.add(Dense(128, activation='relu'))\n",
        "model3a.add(Dense(21, activation='softmax'))\n",
        "model3a.summary()\n",
        "\n",
        "model3a.compile(optimizer='adam',\n",
        "              loss='categorical_crossentropy',\n",
        "              metrics=['accuracy'])"
      ],
      "execution_count": 68,
      "outputs": [
        {
          "output_type": "stream",
          "text": [
            "_________________________________________________________________\n",
            "Layer (type)                 Output Shape              Param #   \n",
            "=================================================================\n",
            "embedding_9 (Embedding)      (None, 200, 100)          3819400   \n",
            "_________________________________________________________________\n",
            "lstm_4 (LSTM)                (None, 128)               117248    \n",
            "_________________________________________________________________\n",
            "dense_17 (Dense)             (None, 128)               16512     \n",
            "_________________________________________________________________\n",
            "dense_18 (Dense)             (None, 21)                2709      \n",
            "=================================================================\n",
            "Total params: 3,955,869\n",
            "Trainable params: 3,955,869\n",
            "Non-trainable params: 0\n",
            "_________________________________________________________________\n"
          ],
          "name": "stdout"
        }
      ]
    },
    {
      "cell_type": "code",
      "metadata": {
        "id": "O62VMBBCfJLq",
        "colab_type": "code",
        "colab": {
          "base_uri": "https://localhost:8080/",
          "height": 1000
        },
        "outputId": "5c7ea8ec-e95a-4612-9ad6-d5e15f2e4526"
      },
      "source": [
        "history3a = model3a.fit(x_train, y_train,\n",
        "                    epochs=30,\n",
        "                    verbose=1,\n",
        "                    validation_data=(x_val, y_val),\n",
        "                    batch_size=128)\n"
      ],
      "execution_count": 69,
      "outputs": [
        {
          "output_type": "stream",
          "text": [
            "Train on 38932 samples, validate on 9735 samples\n",
            "Epoch 1/30\n",
            "38932/38932 [==============================] - 110s 3ms/step - loss: 2.2757 - acc: 0.2841 - val_loss: 1.9972 - val_acc: 0.3823\n",
            "Epoch 2/30\n",
            "38932/38932 [==============================] - 108s 3ms/step - loss: 1.8956 - acc: 0.4159 - val_loss: 1.6998 - val_acc: 0.5008\n",
            "Epoch 3/30\n",
            "38932/38932 [==============================] - 108s 3ms/step - loss: 1.6293 - acc: 0.5007 - val_loss: 1.4666 - val_acc: 0.5490\n",
            "Epoch 4/30\n",
            "38932/38932 [==============================] - 107s 3ms/step - loss: 1.4008 - acc: 0.5711 - val_loss: 1.2547 - val_acc: 0.6215\n",
            "Epoch 5/30\n",
            "38932/38932 [==============================] - 107s 3ms/step - loss: 1.2471 - acc: 0.6183 - val_loss: 1.1550 - val_acc: 0.6367\n",
            "Epoch 6/30\n",
            "38932/38932 [==============================] - 108s 3ms/step - loss: 1.1295 - acc: 0.6469 - val_loss: 1.0484 - val_acc: 0.6731\n",
            "Epoch 7/30\n",
            "38932/38932 [==============================] - 107s 3ms/step - loss: 1.0218 - acc: 0.6765 - val_loss: 0.9474 - val_acc: 0.7025\n",
            "Epoch 8/30\n",
            "38932/38932 [==============================] - 107s 3ms/step - loss: 0.9464 - acc: 0.7003 - val_loss: 0.8933 - val_acc: 0.7139\n",
            "Epoch 9/30\n",
            "38932/38932 [==============================] - 107s 3ms/step - loss: 0.8763 - acc: 0.7214 - val_loss: 0.8643 - val_acc: 0.7261\n",
            "Epoch 10/30\n",
            "38932/38932 [==============================] - 107s 3ms/step - loss: 0.8335 - acc: 0.7303 - val_loss: 0.8538 - val_acc: 0.7267\n",
            "Epoch 11/30\n",
            "38932/38932 [==============================] - 107s 3ms/step - loss: 0.7925 - acc: 0.7450 - val_loss: 0.8330 - val_acc: 0.7338\n",
            "Epoch 12/30\n",
            "38932/38932 [==============================] - 107s 3ms/step - loss: 0.7565 - acc: 0.7538 - val_loss: 0.8218 - val_acc: 0.7389\n",
            "Epoch 13/30\n",
            "38932/38932 [==============================] - 106s 3ms/step - loss: 0.7305 - acc: 0.7618 - val_loss: 0.8054 - val_acc: 0.7419\n",
            "Epoch 14/30\n",
            "38932/38932 [==============================] - 106s 3ms/step - loss: 0.7020 - acc: 0.7709 - val_loss: 0.8059 - val_acc: 0.7413\n",
            "Epoch 15/30\n",
            "38932/38932 [==============================] - 106s 3ms/step - loss: 0.6754 - acc: 0.7785 - val_loss: 0.8224 - val_acc: 0.7381\n",
            "Epoch 16/30\n",
            "38932/38932 [==============================] - 106s 3ms/step - loss: 0.6511 - acc: 0.7883 - val_loss: 0.8125 - val_acc: 0.7419\n",
            "Epoch 17/30\n",
            "38932/38932 [==============================] - 106s 3ms/step - loss: 0.6260 - acc: 0.7952 - val_loss: 0.8146 - val_acc: 0.7389\n",
            "Epoch 18/30\n",
            "38932/38932 [==============================] - 106s 3ms/step - loss: 0.6016 - acc: 0.8020 - val_loss: 0.8137 - val_acc: 0.7371\n",
            "Epoch 19/30\n",
            "38932/38932 [==============================] - 106s 3ms/step - loss: 0.5813 - acc: 0.8092 - val_loss: 0.8440 - val_acc: 0.7338\n",
            "Epoch 20/30\n",
            "38932/38932 [==============================] - 108s 3ms/step - loss: 0.5615 - acc: 0.8145 - val_loss: 0.8282 - val_acc: 0.7387\n",
            "Epoch 21/30\n",
            "38932/38932 [==============================] - 108s 3ms/step - loss: 0.5374 - acc: 0.8225 - val_loss: 0.8491 - val_acc: 0.7325\n",
            "Epoch 22/30\n",
            "38932/38932 [==============================] - 108s 3ms/step - loss: 0.5174 - acc: 0.8289 - val_loss: 0.8487 - val_acc: 0.7355\n",
            "Epoch 23/30\n",
            "38932/38932 [==============================] - 109s 3ms/step - loss: 0.4987 - acc: 0.8327 - val_loss: 0.8813 - val_acc: 0.7333\n",
            "Epoch 24/30\n",
            "38932/38932 [==============================] - 108s 3ms/step - loss: 0.4823 - acc: 0.8410 - val_loss: 0.8749 - val_acc: 0.7326\n",
            "Epoch 25/30\n",
            "38932/38932 [==============================] - 108s 3ms/step - loss: 0.4678 - acc: 0.8461 - val_loss: 0.8928 - val_acc: 0.7306\n",
            "Epoch 26/30\n",
            "38932/38932 [==============================] - 109s 3ms/step - loss: 0.4498 - acc: 0.8522 - val_loss: 0.9137 - val_acc: 0.7311\n",
            "Epoch 27/30\n",
            "38932/38932 [==============================] - 109s 3ms/step - loss: 0.4315 - acc: 0.8567 - val_loss: 0.9450 - val_acc: 0.7285\n",
            "Epoch 28/30\n",
            "38932/38932 [==============================] - 109s 3ms/step - loss: 0.4168 - acc: 0.8618 - val_loss: 0.9434 - val_acc: 0.7268\n",
            "Epoch 29/30\n",
            "38932/38932 [==============================] - 110s 3ms/step - loss: 0.3997 - acc: 0.8668 - val_loss: 0.9838 - val_acc: 0.7249\n",
            "Epoch 30/30\n",
            "38932/38932 [==============================] - 109s 3ms/step - loss: 0.3923 - acc: 0.8702 - val_loss: 0.9950 - val_acc: 0.7217\n"
          ],
          "name": "stdout"
        }
      ]
    },
    {
      "cell_type": "code",
      "metadata": {
        "id": "QJpH6-YsfJLs",
        "colab_type": "code",
        "colab": {
          "base_uri": "https://localhost:8080/",
          "height": 51
        },
        "outputId": "a9f3040b-4253-4233-ae84-bddcfaed41ec"
      },
      "source": [
        "loss, accuracy = model3a.evaluate(x_train, y_train, verbose=False)\n",
        "print(\"Training Accuracy: {:.4f}\".format(accuracy))\n",
        "loss, accuracy = model3a.evaluate(x_val, y_val, verbose=False)\n",
        "print(\"Testing Accuracy:  {:.4f}\".format(accuracy))"
      ],
      "execution_count": 70,
      "outputs": [
        {
          "output_type": "stream",
          "text": [
            "Training Accuracy: 0.9077\n",
            "Testing Accuracy:  0.7217\n"
          ],
          "name": "stdout"
        }
      ]
    },
    {
      "cell_type": "markdown",
      "metadata": {
        "id": "CI5RvTRjfJLw",
        "colab_type": "text"
      },
      "source": [
        "# Train acc: 90.77% validation acc: 72.17%"
      ]
    },
    {
      "cell_type": "code",
      "metadata": {
        "id": "prYT5LbDfJLx",
        "colab_type": "code",
        "colab": {
          "base_uri": "https://localhost:8080/",
          "height": 339
        },
        "outputId": "8a439730-ac34-4e15-9eed-3ef618836dec"
      },
      "source": [
        "# number of epochs should be 9-10\n",
        "plot_history(history3a)"
      ],
      "execution_count": 71,
      "outputs": [
        {
          "output_type": "display_data",
          "data": {
            "image/png": "[encoded data removed]",
            "text/plain": [
              "<Figure size 864x360 with 2 Axes>"
            ]
          },
          "metadata": {
            "tags": []
          }
        }
      ]
    },
    {
      "cell_type": "code",
      "metadata": {
        "id": "A3o4jqA4fJLz",
        "colab_type": "code",
        "colab": {
          "base_uri": "https://localhost:8080/",
          "height": 272
        },
        "outputId": "5b965f32-fc68-433e-9723-3536f2e0a2c8"
      },
      "source": [
        "model4a = Sequential()\n",
        "model4a.add(Embedding(vocab_Size,\n",
        "                            100,\n",
        "                            weights=[embedding_Matrix],\n",
        "                            input_length=max_length,\n",
        "                            trainable=True))\n",
        "model4a.add(layers.Flatten())\n",
        "model4a.add(layers.Dense(50, activation='relu'))\n",
        "model4a.add(layers.Dense(21, activation='softmax'))\n",
        "model4a.compile(optimizer='adam',\n",
        "              loss='categorical_crossentropy',\n",
        "              metrics=['accuracy'])\n",
        "model4a.summary()"
      ],
      "execution_count": 72,
      "outputs": [
        {
          "output_type": "stream",
          "text": [
            "_________________________________________________________________\n",
            "Layer (type)                 Output Shape              Param #   \n",
            "=================================================================\n",
            "embedding_10 (Embedding)     (None, 200, 100)          3819400   \n",
            "_________________________________________________________________\n",
            "flatten_4 (Flatten)          (None, 20000)             0         \n",
            "_________________________________________________________________\n",
            "dense_19 (Dense)             (None, 50)                1000050   \n",
            "_________________________________________________________________\n",
            "dense_20 (Dense)             (None, 21)                1071      \n",
            "=================================================================\n",
            "Total params: 4,820,521\n",
            "Trainable params: 4,820,521\n",
            "Non-trainable params: 0\n",
            "_________________________________________________________________\n"
          ],
          "name": "stdout"
        }
      ]
    },
    {
      "cell_type": "code",
      "metadata": {
        "id": "Fcybmt26fJL4",
        "colab_type": "code",
        "colab": {
          "base_uri": "https://localhost:8080/",
          "height": 408
        },
        "outputId": "b936ffef-3f7b-4218-a991-1736e8d4a4b7"
      },
      "source": [
        "history4a = model4a.fit(x_train, y_train,\n",
        "                    epochs=10,\n",
        "                    verbose=1,\n",
        "                    validation_data=(x_val, y_val),\n",
        "                    batch_size=128)\n",
        "loss, accuracy = model4a.evaluate(x_train, y_train, verbose=False)\n",
        "print(\"Training Accuracy: {:.4f}\".format(accuracy))\n",
        "loss, accuracy = model4a.evaluate(x_val, y_val, verbose=False)\n",
        "print(\"Testing Accuracy:  {:.4f}\".format(accuracy))"
      ],
      "execution_count": 73,
      "outputs": [
        {
          "output_type": "stream",
          "text": [
            "Train on 38932 samples, validate on 9735 samples\n",
            "Epoch 1/10\n",
            "38932/38932 [==============================] - 4s 102us/step - loss: 1.3985 - acc: 0.5824 - val_loss: 1.1018 - val_acc: 0.6588\n",
            "Epoch 2/10\n",
            "38932/38932 [==============================] - 2s 56us/step - loss: 0.7462 - acc: 0.7629 - val_loss: 1.0443 - val_acc: 0.6815\n",
            "Epoch 3/10\n",
            "38932/38932 [==============================] - 2s 56us/step - loss: 0.4318 - acc: 0.8650 - val_loss: 1.1333 - val_acc: 0.6782\n",
            "Epoch 4/10\n",
            "38932/38932 [==============================] - 2s 56us/step - loss: 0.2312 - acc: 0.9351 - val_loss: 1.2394 - val_acc: 0.6784\n",
            "Epoch 5/10\n",
            "38932/38932 [==============================] - 2s 56us/step - loss: 0.1144 - acc: 0.9740 - val_loss: 1.3874 - val_acc: 0.6727\n",
            "Epoch 6/10\n",
            "38932/38932 [==============================] - 2s 56us/step - loss: 0.0607 - acc: 0.9888 - val_loss: 1.4773 - val_acc: 0.6748\n",
            "Epoch 7/10\n",
            "38932/38932 [==============================] - 2s 56us/step - loss: 0.0378 - acc: 0.9933 - val_loss: 1.5777 - val_acc: 0.6748\n",
            "Epoch 8/10\n",
            "38932/38932 [==============================] - 2s 56us/step - loss: 0.0294 - acc: 0.9947 - val_loss: 1.6690 - val_acc: 0.6709\n",
            "Epoch 9/10\n",
            "38932/38932 [==============================] - 2s 55us/step - loss: 0.0257 - acc: 0.9952 - val_loss: 1.7124 - val_acc: 0.6696\n",
            "Epoch 10/10\n",
            "38932/38932 [==============================] - 2s 56us/step - loss: 0.0212 - acc: 0.9957 - val_loss: 1.8098 - val_acc: 0.6730\n",
            "Training Accuracy: 0.9965\n",
            "Testing Accuracy:  0.6730\n"
          ],
          "name": "stdout"
        }
      ]
    },
    {
      "cell_type": "markdown",
      "metadata": {
        "id": "KteaaQkvZPyd",
        "colab_type": "text"
      },
      "source": [
        "### Training Accuracy: 99.65% Validation accuracy:67.30%"
      ]
    },
    {
      "cell_type": "code",
      "metadata": {
        "id": "sFEWGRuSfJL7",
        "colab_type": "code",
        "colab": {
          "base_uri": "https://localhost:8080/",
          "height": 339
        },
        "outputId": "f7c1edef-0482-4fb3-abd6-a52e94e12879"
      },
      "source": [
        "# number of epochs should be in the range of 1-2\n",
        "plot_history(history4a)"
      ],
      "execution_count": 74,
      "outputs": [
        {
          "output_type": "display_data",
          "data": {
            "image/png": "[encoded data removed]",
            "text/plain": [
              "<Figure size 864x360 with 2 Axes>"
            ]
          },
          "metadata": {
            "tags": []
          }
        }
      ]
    },
    {
      "cell_type": "code",
      "metadata": {
        "id": "zS_pSGeXfJL8",
        "colab_type": "code",
        "colab": {
          "base_uri": "https://localhost:8080/",
          "height": 272
        },
        "outputId": "1f7357ff-8b40-4faf-da81-bbe6c5f1014a"
      },
      "source": [
        "model5a = Sequential()\n",
        "model5a.add(Embedding(vocab_Size,\n",
        "                            100,\n",
        "                            weights=[embedding_Matrix],\n",
        "                            input_length=max_length,\n",
        "                            trainable=False))\n",
        "model5a.add(layers.GlobalMaxPool1D())\n",
        "model5a.add(layers.Dense(50, activation='relu'))\n",
        "model5a.add(layers.Dense(21, activation='softmax'))\n",
        "model5a.compile(optimizer='adam',\n",
        "              loss='categorical_crossentropy',\n",
        "              metrics=['accuracy'])\n",
        "model5a.summary()"
      ],
      "execution_count": 75,
      "outputs": [
        {
          "output_type": "stream",
          "text": [
            "_________________________________________________________________\n",
            "Layer (type)                 Output Shape              Param #   \n",
            "=================================================================\n",
            "embedding_11 (Embedding)     (None, 200, 100)          3819400   \n",
            "_________________________________________________________________\n",
            "global_max_pooling1d_3 (Glob (None, 100)               0         \n",
            "_________________________________________________________________\n",
            "dense_21 (Dense)             (None, 50)                5050      \n",
            "_________________________________________________________________\n",
            "dense_22 (Dense)             (None, 21)                1071      \n",
            "=================================================================\n",
            "Total params: 3,825,521\n",
            "Trainable params: 6,121\n",
            "Non-trainable params: 3,819,400\n",
            "_________________________________________________________________\n"
          ],
          "name": "stdout"
        }
      ]
    },
    {
      "cell_type": "code",
      "metadata": {
        "id": "oNizrtpKfJMI",
        "colab_type": "code",
        "colab": {
          "base_uri": "https://localhost:8080/",
          "height": 408
        },
        "outputId": "559cc242-f3d6-4b37-db36-fc81ca38ddd9"
      },
      "source": [
        "history5a = model5a.fit(x_train, y_train,\n",
        "                    epochs=10,\n",
        "                    verbose=1,\n",
        "                    validation_data=(x_val, y_val),\n",
        "                    batch_size=128)\n",
        "loss, accuracy = model5a.evaluate(x_train, y_train, verbose=False)\n",
        "print(\"Training Accuracy: {:.4f}\".format(accuracy))\n",
        "loss, accuracy = model5a.evaluate(x_val, y_val, verbose=False)\n",
        "print(\"Testing Accuracy:  {:.4f}\".format(accuracy))"
      ],
      "execution_count": 76,
      "outputs": [
        {
          "output_type": "stream",
          "text": [
            "Train on 38932 samples, validate on 9735 samples\n",
            "Epoch 1/10\n",
            "38932/38932 [==============================] - 3s 70us/step - loss: 2.1502 - acc: 0.3723 - val_loss: 1.8704 - val_acc: 0.4571\n",
            "Epoch 2/10\n",
            "38932/38932 [==============================] - 1s 27us/step - loss: 1.7517 - acc: 0.4750 - val_loss: 1.6626 - val_acc: 0.4912\n",
            "Epoch 3/10\n",
            "38932/38932 [==============================] - 1s 28us/step - loss: 1.6106 - acc: 0.5025 - val_loss: 1.5943 - val_acc: 0.5136\n",
            "Epoch 4/10\n",
            "38932/38932 [==============================] - 1s 27us/step - loss: 1.5265 - acc: 0.5247 - val_loss: 1.4913 - val_acc: 0.5319\n",
            "Epoch 5/10\n",
            "38932/38932 [==============================] - 1s 27us/step - loss: 1.4716 - acc: 0.5380 - val_loss: 1.4710 - val_acc: 0.5315\n",
            "Epoch 6/10\n",
            "38932/38932 [==============================] - 1s 27us/step - loss: 1.4290 - acc: 0.5502 - val_loss: 1.4307 - val_acc: 0.5460\n",
            "Epoch 7/10\n",
            "38932/38932 [==============================] - 1s 27us/step - loss: 1.4009 - acc: 0.5569 - val_loss: 1.3994 - val_acc: 0.5537\n",
            "Epoch 8/10\n",
            "38932/38932 [==============================] - 1s 27us/step - loss: 1.3765 - acc: 0.5632 - val_loss: 1.3749 - val_acc: 0.5622\n",
            "Epoch 9/10\n",
            "38932/38932 [==============================] - 1s 27us/step - loss: 1.3595 - acc: 0.5676 - val_loss: 1.3813 - val_acc: 0.5590\n",
            "Epoch 10/10\n",
            "38932/38932 [==============================] - 1s 27us/step - loss: 1.3461 - acc: 0.5716 - val_loss: 1.3513 - val_acc: 0.5729\n",
            "Training Accuracy: 0.5767\n",
            "Testing Accuracy:  0.5729\n"
          ],
          "name": "stdout"
        }
      ]
    },
    {
      "cell_type": "markdown",
      "metadata": {
        "id": "-WsN3Et3Z6cw",
        "colab_type": "text"
      },
      "source": [
        "### Training Accuracy: 57.67% Validation Accuracy: 57.29%"
      ]
    },
    {
      "cell_type": "code",
      "metadata": {
        "id": "FNEG_LG2fJML",
        "colab_type": "code",
        "colab": {
          "base_uri": "https://localhost:8080/",
          "height": 339
        },
        "outputId": "dc090c84-33d2-42bd-bd71-73829a841902"
      },
      "source": [
        "# probably the model is underfit\n",
        "plot_history(history5a)"
      ],
      "execution_count": 77,
      "outputs": [
        {
          "output_type": "display_data",
          "data": {
            "image/png": "[encoded data removed]",
            "text/plain": [
              "<Figure size 864x360 with 2 Axes>"
            ]
          },
          "metadata": {
            "tags": []
          }
        }
      ]
    },
    {
      "cell_type": "markdown",
      "metadata": {
        "id": "pesKTGRkfJMM",
        "colab_type": "text"
      },
      "source": [
        "# Model 6a: word2vec (train is true) and Convolution 1D "
      ]
    },
    {
      "cell_type": "code",
      "metadata": {
        "id": "njuJHp6KfJMP",
        "colab_type": "code",
        "colab": {
          "base_uri": "https://localhost:8080/",
          "height": 476
        },
        "outputId": "c6ce7caa-b5c9-41cc-bd9c-e463dca7f284"
      },
      "source": [
        "model6a = Sequential()\n",
        "model6a.add(Embedding(vocab_Size,\n",
        "                            100,\n",
        "                            weights=[embedding_Matrix],\n",
        "                            input_length=max_length,\n",
        "                            trainable=True))\n",
        "model6a.add(Conv1D(128, 3, activation='relu'))\n",
        "model6a.add(MaxPooling1D(3))\n",
        "model6a.add(Conv1D(128, 3, activation='relu'))\n",
        "model6a.add(MaxPooling1D(3))\n",
        "model6a.add(Conv1D(128, 3, activation='relu'))\n",
        "model6a.add(MaxPooling1D(3))\n",
        "model6a.add(Flatten())\n",
        "model6a.add(Dense(128, activation='relu'))\n",
        "model6a.add(Dense(21, activation='softmax'))\n",
        "model6a.summary()\n",
        "\n",
        "model6a.compile(optimizer='adam',\n",
        "              loss='categorical_crossentropy',\n",
        "              metrics=['accuracy'])"
      ],
      "execution_count": 78,
      "outputs": [
        {
          "output_type": "stream",
          "text": [
            "_________________________________________________________________\n",
            "Layer (type)                 Output Shape              Param #   \n",
            "=================================================================\n",
            "embedding_12 (Embedding)     (None, 200, 100)          3819400   \n",
            "_________________________________________________________________\n",
            "conv1d_6 (Conv1D)            (None, 198, 128)          38528     \n",
            "_________________________________________________________________\n",
            "max_pooling1d_6 (MaxPooling1 (None, 66, 128)           0         \n",
            "_________________________________________________________________\n",
            "conv1d_7 (Conv1D)            (None, 64, 128)           49280     \n",
            "_________________________________________________________________\n",
            "max_pooling1d_7 (MaxPooling1 (None, 21, 128)           0         \n",
            "_________________________________________________________________\n",
            "conv1d_8 (Conv1D)            (None, 19, 128)           49280     \n",
            "_________________________________________________________________\n",
            "max_pooling1d_8 (MaxPooling1 (None, 6, 128)            0         \n",
            "_________________________________________________________________\n",
            "flatten_5 (Flatten)          (None, 768)               0         \n",
            "_________________________________________________________________\n",
            "dense_23 (Dense)             (None, 128)               98432     \n",
            "_________________________________________________________________\n",
            "dense_24 (Dense)             (None, 21)                2709      \n",
            "=================================================================\n",
            "Total params: 4,057,629\n",
            "Trainable params: 4,057,629\n",
            "Non-trainable params: 0\n",
            "_________________________________________________________________\n"
          ],
          "name": "stdout"
        }
      ]
    },
    {
      "cell_type": "code",
      "metadata": {
        "id": "ZlemeC1HfJMR",
        "colab_type": "code",
        "colab": {
          "base_uri": "https://localhost:8080/",
          "height": 408
        },
        "outputId": "5019dcec-757c-404c-f2bf-4264fca69b3a"
      },
      "source": [
        "history6a = model6a.fit(x_train, y_train,\n",
        "                    epochs=10,\n",
        "                    verbose=1,\n",
        "                    validation_data=(x_val, y_val),\n",
        "                    batch_size=128)\n",
        "loss, accuracy = model6a.evaluate(x_train, y_train, verbose=False)\n",
        "print(\"Training Accuracy: {:.4f}\".format(accuracy))\n",
        "loss, accuracy = model6a.evaluate(x_val, y_val, verbose=False)\n",
        "print(\"Testing Accuracy:  {:.4f}\".format(accuracy))"
      ],
      "execution_count": 79,
      "outputs": [
        {
          "output_type": "stream",
          "text": [
            "Train on 38932 samples, validate on 9735 samples\n",
            "Epoch 1/10\n",
            "38932/38932 [==============================] - 6s 154us/step - loss: 1.4993 - acc: 0.5466 - val_loss: 1.0888 - val_acc: 0.6606\n",
            "Epoch 2/10\n",
            "38932/38932 [==============================] - 4s 96us/step - loss: 0.9485 - acc: 0.6986 - val_loss: 0.9512 - val_acc: 0.6976\n",
            "Epoch 3/10\n",
            "38932/38932 [==============================] - 4s 96us/step - loss: 0.7831 - acc: 0.7437 - val_loss: 0.8720 - val_acc: 0.7207\n",
            "Epoch 4/10\n",
            "38932/38932 [==============================] - 4s 95us/step - loss: 0.6623 - acc: 0.7817 - val_loss: 0.9079 - val_acc: 0.7203\n",
            "Epoch 5/10\n",
            "38932/38932 [==============================] - 4s 96us/step - loss: 0.5456 - acc: 0.8183 - val_loss: 0.9056 - val_acc: 0.7192\n",
            "Epoch 6/10\n",
            "38932/38932 [==============================] - 4s 97us/step - loss: 0.4231 - acc: 0.8615 - val_loss: 1.0340 - val_acc: 0.7088\n",
            "Epoch 7/10\n",
            "38932/38932 [==============================] - 4s 95us/step - loss: 0.2986 - acc: 0.9032 - val_loss: 1.1991 - val_acc: 0.6960\n",
            "Epoch 8/10\n",
            "38932/38932 [==============================] - 4s 95us/step - loss: 0.1998 - acc: 0.9351 - val_loss: 1.4214 - val_acc: 0.6949\n",
            "Epoch 9/10\n",
            "38932/38932 [==============================] - 4s 94us/step - loss: 0.1324 - acc: 0.9591 - val_loss: 1.5145 - val_acc: 0.6865\n",
            "Epoch 10/10\n",
            "38932/38932 [==============================] - 4s 94us/step - loss: 0.0876 - acc: 0.9730 - val_loss: 1.6752 - val_acc: 0.6978\n",
            "Training Accuracy: 0.9863\n",
            "Testing Accuracy:  0.6978\n"
          ],
          "name": "stdout"
        }
      ]
    },
    {
      "cell_type": "markdown",
      "metadata": {
        "id": "bvM1ODG0fJMS",
        "colab_type": "text"
      },
      "source": [
        "# Train acc: 98.63% Val acc: 69.78%\n",
        "### Overfitting"
      ]
    },
    {
      "cell_type": "code",
      "metadata": {
        "id": "LWsfwTRsfJMT",
        "colab_type": "code",
        "colab": {
          "base_uri": "https://localhost:8080/",
          "height": 339
        },
        "outputId": "aa3ddb1f-7dd6-44f3-be6a-3b5dd184cad5"
      },
      "source": [
        "# number of epoch should be 2-3\n",
        "plot_history(history6a)"
      ],
      "execution_count": 80,
      "outputs": [
        {
          "output_type": "display_data",
          "data": {
            "image/png": "[encoded data removed]",
            "text/plain": [
              "<Figure size 864x360 with 2 Axes>"
            ]
          },
          "metadata": {
            "tags": []
          }
        }
      ]
    },
    {
      "cell_type": "markdown",
      "metadata": {
        "id": "WL_fGIgKfJMV",
        "colab_type": "text"
      },
      "source": [
        "# Model 7a: word2vec  trainable is TRUE and convolution 1D and LSTM"
      ]
    },
    {
      "cell_type": "code",
      "metadata": {
        "id": "Il-yZK12fJMV",
        "colab_type": "code",
        "colab": {
          "base_uri": "https://localhost:8080/",
          "height": 476
        },
        "outputId": "d8c8ae54-fe13-4dad-c942-74f6471ca8fc"
      },
      "source": [
        "embedding_layer = Embedding(vocab_Size,\n",
        "                            100,\n",
        "                            weights=[embedding_Matrix],\n",
        "                            input_length=max_length,\n",
        "                            trainable=True)\n",
        "sequence_input = Input(shape=(max_length,), dtype='int32')\n",
        "embedded_sequences = embedding_layer(sequence_input)\n",
        "\n",
        "# 1D convolution with 64 output channels\n",
        "x = Conv1D(64, 5)(embedded_sequences)\n",
        "# MaxPool divides the length of the sequence by 5\n",
        "x = MaxPooling1D(5)(x)\n",
        "x = Dropout(0.5)(x)\n",
        "x = Conv1D(64, 5)(x)\n",
        "x = MaxPooling1D(5)(x)\n",
        "# LSTM layer with a hidden size of 64\n",
        "x = Dropout(0.5)(x)\n",
        "x = LSTM(64,dropout=0.5)(x)\n",
        "predictions = Dense(21, activation='softmax')(x)\n",
        "\n",
        "model7a = Model(sequence_input, predictions)\n",
        "model7a.compile(loss='categorical_crossentropy',\n",
        "              optimizer='adam',\n",
        "              metrics=['acc'])\n",
        "\n",
        "model7a.summary()"
      ],
      "execution_count": 81,
      "outputs": [
        {
          "output_type": "stream",
          "text": [
            "_________________________________________________________________\n",
            "Layer (type)                 Output Shape              Param #   \n",
            "=================================================================\n",
            "input_2 (InputLayer)         (None, 200)               0         \n",
            "_________________________________________________________________\n",
            "embedding_13 (Embedding)     (None, 200, 100)          3819400   \n",
            "_________________________________________________________________\n",
            "conv1d_9 (Conv1D)            (None, 196, 64)           32064     \n",
            "_________________________________________________________________\n",
            "max_pooling1d_9 (MaxPooling1 (None, 39, 64)            0         \n",
            "_________________________________________________________________\n",
            "dropout_6 (Dropout)          (None, 39, 64)            0         \n",
            "_________________________________________________________________\n",
            "conv1d_10 (Conv1D)           (None, 35, 64)            20544     \n",
            "_________________________________________________________________\n",
            "max_pooling1d_10 (MaxPooling (None, 7, 64)             0         \n",
            "_________________________________________________________________\n",
            "dropout_7 (Dropout)          (None, 7, 64)             0         \n",
            "_________________________________________________________________\n",
            "lstm_5 (LSTM)                (None, 64)                33024     \n",
            "_________________________________________________________________\n",
            "dense_25 (Dense)             (None, 21)                1365      \n",
            "=================================================================\n",
            "Total params: 3,906,397\n",
            "Trainable params: 3,906,397\n",
            "Non-trainable params: 0\n",
            "_________________________________________________________________\n"
          ],
          "name": "stdout"
        }
      ]
    },
    {
      "cell_type": "code",
      "metadata": {
        "id": "4MaV4PUOfJMW",
        "colab_type": "code",
        "colab": {
          "base_uri": "https://localhost:8080/",
          "height": 408
        },
        "outputId": "ca70c7bb-fdcf-4d32-ca3b-87aef6ba1e56"
      },
      "source": [
        "history7a = model7a.fit(x_train, y_train,\n",
        "                    epochs=10,\n",
        "                    verbose=1,\n",
        "                    validation_data=(x_val, y_val),\n",
        "                    batch_size=128)\n",
        "loss, accuracy = model7a.evaluate(x_train, y_train, verbose=False)\n",
        "print(\"Training Accuracy: {:.4f}\".format(accuracy))\n",
        "loss, accuracy = model7a.evaluate(x_val, y_val, verbose=False)\n",
        "print(\"Testing Accuracy:  {:.4f}\".format(accuracy))"
      ],
      "execution_count": 82,
      "outputs": [
        {
          "output_type": "stream",
          "text": [
            "Train on 38932 samples, validate on 9735 samples\n",
            "Epoch 1/10\n",
            "38932/38932 [==============================] - 10s 246us/step - loss: 2.0081 - acc: 0.3901 - val_loss: 1.6536 - val_acc: 0.4942\n",
            "Epoch 2/10\n",
            "38932/38932 [==============================] - 7s 169us/step - loss: 1.5697 - acc: 0.5144 - val_loss: 1.3524 - val_acc: 0.5850\n",
            "Epoch 3/10\n",
            "38932/38932 [==============================] - 7s 168us/step - loss: 1.3553 - acc: 0.5748 - val_loss: 1.2251 - val_acc: 0.6153\n",
            "Epoch 4/10\n",
            "38932/38932 [==============================] - 7s 169us/step - loss: 1.2397 - acc: 0.6096 - val_loss: 1.1478 - val_acc: 0.6442\n",
            "Epoch 5/10\n",
            "38932/38932 [==============================] - 7s 169us/step - loss: 1.1636 - acc: 0.6323 - val_loss: 1.1374 - val_acc: 0.6535\n",
            "Epoch 6/10\n",
            "38932/38932 [==============================] - 7s 170us/step - loss: 1.1020 - acc: 0.6509 - val_loss: 1.0831 - val_acc: 0.6614\n",
            "Epoch 7/10\n",
            "38932/38932 [==============================] - 7s 170us/step - loss: 1.0517 - acc: 0.6679 - val_loss: 1.0344 - val_acc: 0.6775\n",
            "Epoch 8/10\n",
            "38932/38932 [==============================] - 7s 169us/step - loss: 1.0127 - acc: 0.6782 - val_loss: 1.0341 - val_acc: 0.6769\n",
            "Epoch 9/10\n",
            "38932/38932 [==============================] - 7s 169us/step - loss: 0.9718 - acc: 0.6918 - val_loss: 1.0590 - val_acc: 0.6720\n",
            "Epoch 10/10\n",
            "38932/38932 [==============================] - 7s 170us/step - loss: 0.9437 - acc: 0.6981 - val_loss: 1.0216 - val_acc: 0.6832\n",
            "Training Accuracy: 0.7646\n",
            "Testing Accuracy:  0.6832\n"
          ],
          "name": "stdout"
        }
      ]
    },
    {
      "cell_type": "markdown",
      "metadata": {
        "id": "htJcO8BNcFul",
        "colab_type": "text"
      },
      "source": [
        "###  Training Accuracy: 76.46% Validation Accuracy: 68.32%"
      ]
    },
    {
      "cell_type": "code",
      "metadata": {
        "id": "V7eAmKA_fJMZ",
        "colab_type": "code",
        "colab": {
          "base_uri": "https://localhost:8080/",
          "height": 339
        },
        "outputId": "282e5d83-ea45-48e2-cb98-ab3746ca9341"
      },
      "source": [
        "# probably the model is underfit\n",
        "plot_history(history7a)"
      ],
      "execution_count": 83,
      "outputs": [
        {
          "output_type": "display_data",
          "data": {
            "image/png": "[encoded data removed]",
            "text/plain": [
              "<Figure size 864x360 with 2 Axes>"
            ]
          },
          "metadata": {
            "tags": []
          }
        }
      ]
    },
    {
      "cell_type": "markdown",
      "metadata": {
        "id": "BF3pX0LSfJMi",
        "colab_type": "text"
      },
      "source": [
        "# Prediction on test dataset"
      ]
    },
    {
      "cell_type": "markdown",
      "metadata": {
        "id": "MU0zgSZcfJMj",
        "colab_type": "text"
      },
      "source": [
        "## Data Exploration"
      ]
    },
    {
      "cell_type": "code",
      "metadata": {
        "id": "SdcPODD8fJMj",
        "colab_type": "code",
        "outputId": "520051c2-8be4-4780-ed2e-e550a8a44ec7",
        "colab": {
          "base_uri": "https://localhost:8080/",
          "height": 204
        }
      },
      "source": [
        "test_rawdata.head()"
      ],
      "execution_count": 84,
      "outputs": [
        {
          "output_type": "execute_result",
          "data": {
            "text/html": [
              "<div>\n",
              "<style scoped>\n",
              "    .dataframe tbody tr th:only-of-type {\n",
              "        vertical-align: middle;\n",
              "    }\n",
              "\n",
              "    .dataframe tbody tr th {\n",
              "        vertical-align: top;\n",
              "    }\n",
              "\n",
              "    .dataframe thead th {\n",
              "        text-align: right;\n",
              "    }\n",
              "</style>\n",
              "<table border=\"1\" class=\"dataframe\">\n",
              "  <thead>\n",
              "    <tr style=\"text-align: right;\">\n",
              "      <th></th>\n",
              "      <th>id</th>\n",
              "      <th>converse</th>\n",
              "    </tr>\n",
              "  </thead>\n",
              "  <tbody>\n",
              "    <tr>\n",
              "      <th>0</th>\n",
              "      <td>1</td>\n",
              "      <td>request speak give patient refuse give patient...</td>\n",
              "    </tr>\n",
              "    <tr>\n",
              "      <th>1</th>\n",
              "      <td>2</td>\n",
              "      <td>patient husband met name spouse patient husban...</td>\n",
              "    </tr>\n",
              "    <tr>\n",
              "      <th>2</th>\n",
              "      <td>3</td>\n",
              "      <td>foi mon appointment next timephrase mon want r...</td>\n",
              "    </tr>\n",
              "    <tr>\n",
              "      <th>3</th>\n",
              "      <td>4</td>\n",
              "      <td>refill drugname pharmacy name reason call deta...</td>\n",
              "    </tr>\n",
              "    <tr>\n",
              "      <th>4</th>\n",
              "      <td>5</td>\n",
              "      <td>need time test dad request letter state patien...</td>\n",
              "    </tr>\n",
              "  </tbody>\n",
              "</table>\n",
              "</div>"
            ],
            "text/plain": [
              "   id                                           converse\n",
              "0   1  request speak give patient refuse give patient...\n",
              "1   2  patient husband met name spouse patient husban...\n",
              "2   3  foi mon appointment next timephrase mon want r...\n",
              "3   4  refill drugname pharmacy name reason call deta...\n",
              "4   5  need time test dad request letter state patien..."
            ]
          },
          "metadata": {
            "tags": []
          },
          "execution_count": 84
        }
      ]
    },
    {
      "cell_type": "code",
      "metadata": {
        "id": "B3wrX5j8fJMk",
        "colab_type": "code",
        "colab": {}
      },
      "source": [
        "test_texts=test_rawdata[\"converse\"].astype('str')"
      ],
      "execution_count": 0,
      "outputs": []
    },
    {
      "cell_type": "code",
      "metadata": {
        "id": "pUgWIK5nfJMm",
        "colab_type": "code",
        "colab": {}
      },
      "source": [
        "test_sequences = tokn.texts_to_sequences(test_texts)"
      ],
      "execution_count": 0,
      "outputs": []
    },
    {
      "cell_type": "code",
      "metadata": {
        "id": "zVL-d9EofJMq",
        "colab_type": "code",
        "outputId": "74f79f02-5487-49ac-9aa3-ece5422fad09",
        "colab": {
          "base_uri": "https://localhost:8080/",
          "height": 88
        }
      },
      "source": [
        "print (len(test_sequences))\n",
        "print (len(test_sequences[0]))\n",
        "print (test_sequences[0])"
      ],
      "execution_count": 87,
      "outputs": [
        {
          "output_type": "stream",
          "text": [
            "8581\n",
            "78\n",
            "[65, 270, 88, 4, 2938, 88, 4, 24, 160, 77, 183, 675, 2284, 5960, 315, 1214, 81, 221, 585, 492, 81, 3573, 213, 790, 81, 182, 79, 42, 4, 85, 10, 305, 107, 262, 1551, 165, 1131, 305, 675, 2284, 5960, 695, 190, 3566, 2522, 279, 17219, 790, 81, 268, 140, 1393, 315, 1131, 231, 495, 697, 571, 2055, 87, 106, 221, 174, 3364, 616, 160, 970, 241, 2284, 5960, 104, 304, 22, 951, 150, 77, 3566, 2522]\n"
          ],
          "name": "stdout"
        }
      ]
    },
    {
      "cell_type": "code",
      "metadata": {
        "id": "eQZH990ufJMt",
        "colab_type": "code",
        "outputId": "6e24d96c-5b1b-40e6-db1c-9df0bcb4b562",
        "colab": {
          "base_uri": "https://localhost:8080/",
          "height": 54
        }
      },
      "source": [
        "print(test_texts[0], test_sequences[0])"
      ],
      "execution_count": 88,
      "outputs": [
        {
          "output_type": "stream",
          "text": [
            "request speak give patient refuse give patient appointment go see doctype recommend anti inflammatory help foot pain daughter concerned think pain inflammation thanks nerve pain want know doctor patient take drugname night day make sleepy sleep great night recommend anti inflammatory different meditation cannon woman use antiinflammatories nerve pain well ok trial help great try something else virginia jephro prior authorization daughter told finger response go ahead pick anti inflammatory get start follow north week see cannon woman [65, 270, 88, 4, 2938, 88, 4, 24, 160, 77, 183, 675, 2284, 5960, 315, 1214, 81, 221, 585, 492, 81, 3573, 213, 790, 81, 182, 79, 42, 4, 85, 10, 305, 107, 262, 1551, 165, 1131, 305, 675, 2284, 5960, 695, 190, 3566, 2522, 279, 17219, 790, 81, 268, 140, 1393, 315, 1131, 231, 495, 697, 571, 2055, 87, 106, 221, 174, 3364, 616, 160, 970, 241, 2284, 5960, 104, 304, 22, 951, 150, 77, 3566, 2522]\n"
          ],
          "name": "stdout"
        }
      ]
    },
    {
      "cell_type": "code",
      "metadata": {
        "id": "ALOV8YeyfJMv",
        "colab_type": "code",
        "outputId": "ddeea418-d2de-45b3-81af-079ed08ff1d9",
        "colab": {
          "base_uri": "https://localhost:8080/",
          "height": 34
        }
      },
      "source": [
        "avg2 = sum(map(len, test_sequences)) / len(test_sequences)\n",
        "\n",
        "# Get the standard deviation of the sequence length\n",
        "std2 = np.sqrt(sum(map(lambda x: (len(x) - avg2)**2, test_sequences)) / len(test_sequences))\n",
        "\n",
        "avg2,std2"
      ],
      "execution_count": 89,
      "outputs": [
        {
          "output_type": "execute_result",
          "data": {
            "text/plain": [
              "(50.95163733830556, 30.617867088480015)"
            ]
          },
          "metadata": {
            "tags": []
          },
          "execution_count": 89
        }
      ]
    },
    {
      "cell_type": "code",
      "metadata": {
        "id": "Pls3spavfJMy",
        "colab_type": "code",
        "colab": {}
      },
      "source": [
        "data2 = sequence.pad_sequences(test_sequences, maxlen=max_length)"
      ],
      "execution_count": 0,
      "outputs": []
    },
    {
      "cell_type": "code",
      "metadata": {
        "id": "jJXxhRLRfJMz",
        "colab_type": "code",
        "outputId": "07c1658f-04de-4c42-e0cd-4acfd067be81",
        "colab": {
          "base_uri": "https://localhost:8080/",
          "height": 136
        }
      },
      "source": [
        "data2"
      ],
      "execution_count": 91,
      "outputs": [
        {
          "output_type": "execute_result",
          "data": {
            "text/plain": [
              "array([[   0,    0,    0, ...,   77, 3566, 2522],\n",
              "       [   0,    0,    0, ...,   22,   62,    7],\n",
              "       [   0,    0,    0, ...,  186,  778,  229],\n",
              "       ...,\n",
              "       [   0,    0,    0, ...,   43,   47,  139],\n",
              "       [   0,    0,    0, ...,   69,  252, 1021],\n",
              "       [   0,    0,    0, ...,  228,    7,   23]], dtype=int32)"
            ]
          },
          "metadata": {
            "tags": []
          },
          "execution_count": 91
        }
      ]
    },
    {
      "cell_type": "markdown",
      "metadata": {
        "id": "8267iUzlfJM1",
        "colab_type": "text"
      },
      "source": [
        "# Model prediction on test"
      ]
    },
    {
      "cell_type": "code",
      "metadata": {
        "id": "L_O7qIj7fJM2",
        "colab_type": "code",
        "outputId": "4bb76d6d-643d-4e34-8728-913f45331e0d",
        "colab": {
          "base_uri": "https://localhost:8080/",
          "height": 102
        }
      },
      "source": [
        "Y_pred = model6.predict(x_test)\n",
        "print(Y_pred[5])"
      ],
      "execution_count": 92,
      "outputs": [
        {
          "output_type": "stream",
          "text": [
            "[2.3037073e-04 1.6745050e-03 2.1269694e-03 1.1438725e-02 1.0551493e-02\n",
            " 2.4475372e-05 4.5065382e-03 7.7992421e-01 1.1276508e-03 1.1376716e-01\n",
            " 3.9041585e-03 1.4026990e-03 4.6454199e-05 3.3064338e-04 8.6960982e-04\n",
            " 4.4965237e-02 2.0024559e-04 1.9187716e-04 1.9876402e-02 2.2106395e-04\n",
            " 2.6195052e-03]\n"
          ],
          "name": "stdout"
        }
      ]
    },
    {
      "cell_type": "code",
      "metadata": {
        "id": "Zs_muoI_fJM4",
        "colab_type": "code",
        "outputId": "c7f7e740-d418-4e0b-d120-541c4f3c6084",
        "colab": {
          "base_uri": "https://localhost:8080/",
          "height": 54
        }
      },
      "source": [
        "y_pred =[]\n",
        "for i in Y_pred:\n",
        "    y_pred.append(np.argmax(i))\n",
        "\n",
        "print(y_pred)"
      ],
      "execution_count": 93,
      "outputs": [
        {
          "output_type": "stream",
          "text": [
            "[7, 9, 7, 15, 18, 7, 9, 8, 8, 11, 8, 8, 6, 6, 9, 15, 15, 11, 6, 8, 9, 9, 7, 9, 19, 8, 15, 18, 16, 7, 9, 20, 18, 18, 9, 7, 10, 8, 15, 9, 20, 9, 18, 7, 15, 7, 8, 11, 9, 9, 10, 20, 9, 15, 15, 7, 9, 8, 9, 7, 8, 15, 9, 3, 7, 9, 8, 7, 9, 18, 7, 0, 15, 16, 18, 7, 8, 8, 6, 8, 7, 9, 7, 7, 9, 9, 7, 9, 15, 11, 14, 18, 17, 7, 15, 8, 7, 8, 8, 7, 18, 15, 8, 15, 13, 15, 11, 15, 9, 8, 9, 9, 9, 9, 3, 15, 9, 9, 8, 10, 8, 9, 7, 8, 8, 8, 6, 8, 7, 15, 9, 9, 9, 3, 15, 9, 8, 17, 3, 7, 8, 18, 7, 11, 18, 9, 8, 15, 17, 9, 9, 9, 15, 15, 7, 9, 15, 15, 7, 9, 9, 15, 9, 3, 9, 18, 15, 11, 8, 18, 8, 9, 18, 3, 11, 11, 9, 8, 9, 8, 8, 8, 15, 20, 9, 9, 8, 7, 7, 7, 9, 8, 9, 7, 7, 7, 20, 9, 9, 16, 7, 15, 8, 8, 7, 6, 18, 6, 7, 9, 15, 6, 9, 8, 18, 7, 8, 15, 8, 6, 13, 9, 15, 3, 6, 9, 11, 9, 7, 9, 11, 9, 8, 9, 7, 9, 7, 8, 15, 15, 7, 15, 9, 11, 6, 15, 9, 7, 10, 9, 15, 15, 9, 8, 14, 8, 9, 7, 7, 7, 8, 9, 15, 9, 11, 17, 8, 7, 15, 7, 9, 9, 7, 9, 9, 18, 9, 6, 15, 8, 8, 8, 7, 9, 11, 9, 15, 8, 7, 6, 7, 15, 11, 15, 7, 11, 9, 18, 9, 7, 7, 6, 7, 15, 9, 15, 6, 15, 15, 9, 7, 9, 8, 9, 8, 9, 8, 7, 8, 7, 9, 7, 8, 0, 8, 7, 15, 3, 8, 9, 8, 11, 7, 9, 7, 11, 15, 7, 9, 8, 7, 15, 7, 8, 19, 15, 7, 15, 7, 15, 7, 9, 7, 7, 11, 10, 15, 8, 11, 9, 11, 9, 9, 9, 18, 9, 9, 9, 18, 9, 8, 18, 11, 9, 8, 7, 9, 9, 3, 7, 15, 9, 8, 8, 9, 15, 9, 0, 9, 8, 15, 9, 8, 3, 9, 8, 9, 9, 8, 15, 9, 15, 8, 8, 9, 13, 7, 8, 11, 8, 11, 9, 9, 9, 11, 9, 9, 6, 9, 9, 11, 15, 8, 11, 8, 15, 9, 7, 8, 8, 7, 8, 6, 11, 8, 7, 8, 3, 19, 9, 15, 16, 15, 7, 9, 15, 9, 7, 11, 11, 3, 9, 8, 0, 4, 9, 18, 15, 3, 9, 9, 8, 18, 8, 8, 15, 7, 18, 9, 20, 7, 7, 9, 9, 9, 9, 9, 9, 8, 11, 8, 18, 18, 7, 15, 8, 8, 0, 9, 15, 7, 8, 9, 15, 8, 8, 8, 15, 7, 15, 7, 0, 18, 7, 15, 8, 9, 11, 7, 7, 9, 11, 7, 7, 15, 6, 6, 9, 13, 7, 9, 8, 16, 8, 7, 15, 3, 11, 8, 8, 9, 18, 3, 18, 15, 9, 6, 9, 9, 11, 9, 9, 20, 7, 9, 9, 3, 0, 7, 11, 9, 20, 8, 11, 6, 11, 9, 9, 11, 11, 11, 18, 11, 11, 3, 9, 11, 18, 9, 11, 18, 7, 7, 9, 8, 11, 9, 6, 6, 9, 18, 8, 7, 10, 8, 15, 6, 6, 6, 9, 19, 8, 15, 8, 8, 9, 3, 8, 7, 8, 6, 11, 15, 15, 9, 9, 15, 15, 7, 15, 11, 19, 8, 15, 11, 15, 9, 7, 8, 15, 15, 9, 8, 9, 15, 13, 7, 15, 15, 9, 9, 9, 18, 15, 9, 7, 8, 9, 3, 9, 0, 9, 15, 9, 6, 9, 11, 0, 11, 6, 11, 11, 7, 8, 8, 20, 15, 11, 8, 8, 17, 8, 8, 17, 3, 11, 15, 9, 8, 7, 15, 15, 13, 15, 8, 8, 7, 9, 8, 17, 9, 7, 15, 8, 8, 8, 15, 7, 8, 8, 9, 9, 7, 9, 9, 11, 20, 8, 18, 18, 7, 9, 11, 13, 7, 9, 7, 13, 7, 9, 8, 11, 7, 9, 9, 8, 11, 8, 8, 7, 8, 8, 16, 8, 7, 18, 9, 6, 8, 15, 7, 8, 7, 6, 9, 8, 11, 15, 7, 7, 7, 9, 9, 7, 11, 15, 15, 8, 15, 15, 7, 8, 9, 10, 9, 7, 8, 8, 8, 7, 7, 15, 9, 9, 9, 7, 8, 7, 7, 7, 8, 8, 8, 9, 8, 15, 7, 9, 7, 6, 9, 8, 9, 8, 8, 9, 9, 9, 9, 7, 9, 15, 7, 9, 15, 15, 8, 9, 9, 7, 9, 8, 9, 3, 7, 9, 9, 6, 7, 8, 8, 9, 6, 9, 8, 3, 8, 7, 8, 7, 7, 8, 11, 15, 8, 9, 7, 9, 15, 7, 9, 8, 7, 7, 9, 8, 11, 7, 19, 11, 8, 18, 8, 0, 8, 0, 9, 7, 8, 17, 9, 7, 0, 8, 10, 9, 15, 9, 8, 18, 7, 15, 6, 15, 7, 7, 7, 7, 9, 17, 15, 8, 11, 0, 8, 15, 7, 11, 7, 17, 9, 13, 8, 9, 18, 9, 18, 15, 8, 9, 9, 18, 7, 11, 9, 15, 15, 8, 8, 11, 9, 7, 6, 7, 9, 8, 7, 11, 9, 0, 8, 8, 8, 3, 9, 15, 9, 18, 7, 8, 8, 11, 0, 7, 7, 9, 20, 7, 9, 11, 11, 15, 9, 18, 9, 8, 7, 8, 13, 9, 9, 9, 7, 9, 7, 7, 10, 15, 9, 15, 7, 11, 7, 6, 15, 18, 17, 9, 8, 9, 10, 8, 15, 7, 9, 8, 7, 9, 7, 7, 8, 9, 9, 18, 18, 8, 8, 3, 7, 7, 18, 11, 9, 7, 9, 9, 18, 9, 19, 9, 7, 8, 9, 7, 7, 7, 9, 18, 9, 11, 8, 8, 18, 15, 11, 15, 7, 15, 9, 8, 15, 15, 15, 8, 15, 7, 15, 11, 7, 7, 9, 18, 11, 8, 9, 9, 6, 9, 9, 8, 8, 6, 8, 20, 7, 7, 8, 10, 15, 9, 7, 8, 8, 15, 15, 8, 9, 8, 15, 6, 8, 9, 15, 3, 9, 9, 9, 18, 11, 0, 8, 9, 9, 7, 11, 9, 7, 15, 8, 8, 15, 9, 9, 3, 6, 15, 19, 8, 9, 7, 18, 17, 9, 9, 8, 6, 7, 18, 15, 8, 15, 15, 18, 9, 9, 15, 6, 9, 7, 6, 19, 15, 8, 8, 9, 7, 7, 8, 15, 13, 18, 13, 9, 8, 6, 8, 0, 18, 15, 15, 11, 9, 6, 8, 18, 6, 7, 7, 8, 7, 9, 18, 9, 8, 8, 8, 8, 18, 8, 9, 15, 15, 11, 9, 8, 8, 7, 15, 7, 7, 7, 9, 9, 9, 11, 9, 8, 8, 8, 11, 11, 7, 7, 9, 15, 7, 7, 8, 8, 7, 7, 7, 8, 9, 15, 9, 9, 0, 9, 8, 7, 8, 9, 9, 15, 9, 15, 7, 7, 9, 9, 13, 9, 13, 9, 20, 8, 3, 15, 15, 8, 15, 7, 9, 15, 8, 8, 8, 9, 20, 8, 9, 9, 8, 8, 15, 9, 8, 18, 8, 8, 15, 19, 6, 8, 18, 8, 9, 8, 15, 9, 9, 9, 18, 18, 15, 9, 7, 15, 7, 18, 8, 15, 7, 7, 6, 9, 8, 15, 7, 6, 11, 7, 8, 11, 9, 7, 9, 9, 15, 9, 15, 6, 8, 9, 9, 7, 8, 9, 17, 9, 8, 8, 10, 8, 8, 8, 7, 11, 8, 15, 8, 9, 9, 15, 8, 18, 7, 8, 15, 7, 9, 8, 8, 15, 3, 7, 13, 6, 15, 8, 8, 8, 0, 9, 7, 18, 8, 7, 8, 9, 7, 7, 18, 8, 15, 15, 9, 8, 18, 15, 6, 6, 13, 18, 7, 15, 9, 6, 11, 8, 15, 8, 8, 15, 9, 7, 9, 9, 8, 3, 7, 8, 9, 8, 8, 3, 8, 9, 9, 4, 7, 9, 18, 9, 7, 15, 7, 9, 7, 9, 9, 8, 6, 3, 8, 18, 9, 8, 18, 7, 9, 6, 9, 7, 11, 9, 15, 8, 7, 11, 7, 8, 8, 8, 11, 15, 15, 8, 8, 8, 9, 15, 3, 9, 9, 11, 11, 18, 7, 7, 9, 8, 7, 15, 8, 9, 15, 18, 9, 9, 8, 9, 7, 8, 9, 8, 7, 9, 18, 17, 7, 8, 9, 8, 11, 8, 9, 8, 6, 9, 11, 15, 18, 15, 9, 6, 15, 7, 15, 9, 0, 20, 11, 9, 18, 9, 9, 8, 8, 9, 10, 9, 11, 9, 11, 9, 7, 8, 8, 15, 0, 8, 7, 18, 8, 6, 9, 8, 8, 15, 14, 8, 3, 7, 9, 9, 18, 6, 8, 9, 9, 8, 9, 7, 0, 8, 11, 7, 4, 15, 8, 9, 7, 9, 7, 15, 9, 8, 19, 10, 8, 7, 9, 15, 11, 8, 7, 8, 8, 7, 15, 0, 8, 15, 9, 8, 15, 11, 8, 9, 11, 7, 8, 20, 7, 18, 15, 9, 11, 9, 7, 8, 9, 10, 11, 7, 9, 15, 9, 3, 7, 15, 9, 15, 3, 7, 8, 15, 9, 18, 7, 6, 17, 15, 8, 8, 9, 9, 7, 7, 9, 7, 9, 7, 11, 6, 8, 7, 9, 6, 15, 16, 7, 7, 11, 8, 15, 6, 9, 7, 9, 9, 18, 7, 8, 9, 15, 9, 3, 7, 9, 9, 15, 8, 7, 9, 3, 18, 18, 11, 7, 15, 15, 15, 9, 18, 8, 9, 9, 15, 9, 20, 7, 11, 3, 8, 8, 9, 8, 6, 7, 7, 7, 15, 7, 15, 7, 9, 9, 13, 18, 9, 15, 7, 11, 9, 15, 7, 9, 8, 6, 9, 8, 9, 7, 11, 7, 15, 7, 8, 9, 15, 9, 0, 8, 19, 13, 7, 9, 7, 9, 8, 7, 15, 7, 8, 6, 7, 8, 9, 8, 15, 11, 9, 8, 10, 20, 8, 11, 8, 6, 20, 8, 13, 8, 9, 15, 9, 11, 8, 6, 9, 9, 7, 7, 0, 8, 9, 7, 18, 20, 15, 8, 18, 9, 9, 9, 8, 7, 9, 9, 8, 15, 18, 17, 7, 15, 8, 6, 20, 11, 7, 9, 19, 9, 7, 8, 14, 15, 3, 8, 15, 9, 9, 9, 20, 8, 8, 8, 18, 7, 8, 15, 7, 7, 9, 10, 7, 8, 7, 7, 7, 7, 18, 9, 7, 7, 9, 7, 9, 15, 7, 8, 15, 9, 7, 7, 17, 9, 8, 11, 9, 7, 9, 8, 8, 7, 15, 8, 15, 6, 16, 8, 7, 8, 8, 8, 9, 8, 7, 0, 9, 7, 11, 8, 11, 13, 8, 8, 8, 9, 7, 7, 8, 6, 9, 13, 11, 18, 3, 9, 15, 7, 6, 9, 9, 7, 7, 18, 9, 18, 7, 9, 7, 7, 20, 8, 8, 7, 9, 18, 18, 7, 9, 15, 15, 7, 11, 15, 3, 3, 15, 15, 18, 9, 8, 11, 9, 7, 9, 3, 15, 15, 15, 9, 7, 9, 9, 15, 8, 9, 15, 8, 15, 9, 15, 9, 8, 8, 9, 15, 11, 9, 6, 15, 15, 7, 9, 8, 10, 9, 20, 10, 8, 9, 20, 9, 9, 8, 8, 20, 7, 7, 6, 10, 3, 9, 9, 11, 6, 8, 9, 14, 15, 18, 7, 9, 11, 9, 9, 18, 11, 13, 9, 15, 8, 9, 8, 13, 8, 18, 17, 9, 9, 13, 8, 11, 9, 7, 8, 15, 7, 9, 16, 7, 15, 18, 8, 13, 8, 8, 9, 18, 7, 9, 0, 8, 9, 9, 9, 7, 16, 15, 8, 7, 9, 8, 8, 7, 9, 9, 9, 7, 0, 8, 15, 7, 8, 8, 8, 10, 0, 3, 11, 9, 15, 9, 10, 6, 15, 9, 11, 7, 8, 9, 15, 9, 9, 18, 7, 11, 15, 8, 7, 8, 9, 11, 11, 0, 15, 11, 8, 9, 7, 17, 9, 7, 13, 7, 6, 6, 9, 9, 9, 20, 15, 9, 9, 8, 9, 7, 15, 11, 7, 9, 20, 18, 11, 11, 7, 9, 15, 7, 7, 7, 7, 8, 8, 17, 9, 9, 8, 11, 9, 15, 11, 8, 13, 15, 8, 8, 11, 7, 7, 9, 3, 9, 7, 6, 10, 9, 8, 15, 8, 9, 9, 8, 8, 8, 15, 9, 15, 9, 7, 9, 8, 15, 9, 7, 7, 7, 8, 8, 13, 8, 15, 3, 15, 8, 8, 9, 9, 18, 9, 8, 18, 8, 9, 18, 17, 15, 8, 9, 6, 15, 7, 15, 9, 8, 9, 11, 8, 7, 9, 11, 8, 9, 15, 9, 9, 15, 15, 7, 7, 15, 8, 7, 15, 7, 0, 13, 18, 15, 6, 3, 8, 8, 17, 6, 15, 9, 15, 9, 18, 8, 15, 7, 9, 7, 8, 7, 7, 7, 15, 16, 15, 8, 8, 18, 7, 8, 8, 9, 8, 15, 11, 15, 9, 9, 8, 8, 11, 10, 8, 8, 11, 7, 11, 9, 10, 8, 9, 7, 9, 19, 7, 9, 7, 9, 8, 7, 8, 8, 7, 8, 7, 15, 7, 15, 9, 9, 15, 9, 6, 18, 10, 8, 7, 8, 17, 15, 9, 7, 7, 9, 7, 9, 15, 15, 8, 20, 8, 15, 15, 7, 7, 8, 7, 7, 7, 8, 9, 15, 8, 9, 0, 9, 9, 8, 6, 9, 15, 9, 11, 3, 8, 16, 7, 8, 7, 9, 8, 17, 9, 15, 7, 8, 9, 15, 7, 0, 15, 8, 7, 15, 11, 18, 8, 7, 9, 6, 8, 7, 11, 9, 7, 8, 8, 8, 8, 9, 15, 15, 19, 9, 15, 18, 8, 10, 3, 11, 15, 0, 7, 7, 3, 9, 15, 7, 7, 7, 15, 15, 6, 9, 9, 11, 11, 9, 6, 8, 15, 8, 11, 15, 7, 7, 9, 9, 9, 0, 9, 6, 8, 15, 7, 11, 9, 8, 15, 10, 9, 9, 7, 8, 7, 15, 9, 15, 9, 8, 15, 8, 10, 9, 18, 8, 15, 9, 9, 8, 18, 8, 8, 3, 6, 7, 15, 15, 9, 7, 18, 7, 15, 8, 7, 7, 0, 7, 9, 15, 15, 8, 7, 11, 6, 9, 13, 7, 8, 9, 18, 8, 9, 11, 9, 8, 8, 8, 8, 8, 8, 9, 8, 16, 7, 10, 9, 7, 7, 9, 18, 18, 8, 11, 7, 9, 8, 8, 19, 6, 7, 8, 9, 9, 8, 7, 15, 15, 7, 9, 15, 6, 7, 15, 8, 8, 9, 8, 15, 7, 6, 15, 9, 8, 8, 7, 8, 9, 6, 8, 7, 7, 15, 6, 8, 7, 6, 7, 8, 18, 7, 9, 3, 6, 8, 8, 8, 15, 8, 8, 18, 9, 15, 16, 13, 15, 18, 9, 9, 18, 9, 15, 15, 8, 11, 15, 9, 9, 15, 15, 18, 15, 9, 8, 11, 7, 15, 20, 9, 8, 15, 6, 7, 15, 18, 8, 9, 8, 9, 8, 8, 15, 9, 7, 7, 8, 8, 11, 9, 9, 7, 9, 9, 7, 9, 7, 7, 18, 7, 7, 8, 3, 7, 9, 7, 8, 8, 7, 8, 15, 8, 15, 9, 9, 0, 20, 9, 9, 9, 9, 7, 18, 9, 8, 6, 15, 8, 18, 11, 18, 7, 11, 18, 15, 9, 20, 15, 9, 13, 7, 7, 17, 15, 9, 9, 8, 0, 7, 8, 10, 6, 9, 11, 7, 0, 13, 6, 8, 9, 8, 8, 9, 8, 9, 7, 13, 9, 9, 11, 9, 15, 9, 9, 18, 8, 9, 7, 11, 8, 15, 11, 17, 7, 7, 9, 8, 15, 7, 15, 9, 9, 15, 18, 18, 11, 7, 6, 8, 7, 13, 9, 8, 9, 7, 8, 20, 7, 7, 7, 13, 7, 14, 9, 20, 15, 7, 15, 8, 16, 9, 15, 3, 7, 7, 9, 9, 7, 11, 7, 18, 15, 11, 7, 7, 4, 11, 18, 9, 6, 11, 15, 7, 15, 7, 15, 15, 6, 9, 8, 11, 7, 7, 7, 9, 9, 15, 7, 9, 15, 3, 8, 7, 8, 9, 19, 8, 18, 8, 8, 6, 15, 15, 18, 8, 3, 15, 8, 9, 15, 9, 15, 11, 15, 3, 7, 7, 8, 7, 8, 8, 18, 11, 15, 8, 9, 9, 19, 11, 8, 9, 9, 9, 8, 3, 8, 8, 6, 8, 9, 8, 9, 15, 15, 15, 14, 9, 15, 13, 9, 8, 6, 15, 8, 11, 8, 7, 7, 9, 8, 9, 8, 8, 20, 14, 15, 15, 9, 6, 8, 7, 7, 15, 8, 8, 15, 9, 18, 7, 8, 7, 8, 15, 18, 7, 15, 11, 15, 15, 6, 7, 9, 15, 8, 8, 15, 6, 15, 11, 15, 7, 9, 8, 3, 8, 9, 15, 8, 7, 8, 7, 18, 0, 8, 11, 15, 8, 6, 8, 7, 8, 8, 7, 7, 15, 7, 15, 15, 8, 9, 11, 9, 9, 3, 6, 8, 9, 9, 20, 3, 7, 15, 7, 9, 9, 9, 15, 11, 7, 7, 15, 8, 7, 8, 8, 7, 15, 18, 15, 18, 8, 8, 15, 8, 8, 9, 8, 6, 7, 9, 9, 9, 8, 7, 8, 8, 9, 7, 9, 8, 9, 7, 9, 18, 7, 9, 8, 15, 7, 15, 8, 6, 9, 8, 8, 18, 9, 8, 15, 7, 9, 8, 8, 9, 10, 9, 9, 7, 7, 7, 8, 9, 15, 16, 0, 9, 8, 8, 7, 7, 11, 10, 3, 15, 10, 8, 9, 15, 16, 8, 9, 13, 7, 15, 9, 7, 8, 15, 11, 8, 15, 15, 9, 8, 18, 9, 11, 7, 9, 9, 6, 7, 8, 13, 8, 15, 7, 9, 18, 8, 6, 15, 9, 8, 9, 9, 9, 8, 9, 8, 7, 15, 9, 7, 7, 7, 11, 15, 18, 9, 9, 3, 8, 9, 7, 9, 8, 8, 6, 15, 15, 8, 8, 3, 7, 8, 7, 8, 15, 8, 9, 8, 13, 6, 17, 15, 8, 15, 15, 8, 7, 19, 11, 9, 7, 7, 9, 15, 17, 9, 9, 6, 15, 9, 8, 7, 6, 6, 8, 8, 11, 6, 7, 18, 6, 8, 8, 8, 15, 8, 17, 17, 8, 9, 10, 8, 15, 7, 8, 15, 6, 11, 8, 7, 7, 8, 8, 9, 8, 18, 9, 9, 9, 18, 9, 9, 9, 9, 15, 15, 8, 9, 9, 6, 16, 17, 9, 8, 13, 9, 8, 9, 9, 8, 0, 9, 15, 9, 15, 7, 8, 15, 7, 8, 8, 9, 13, 9, 15, 8, 3, 15, 8, 7, 18, 7, 6, 17, 9, 8, 15, 7, 7, 10, 18, 7, 7, 11, 8, 7, 8, 15, 8, 9, 15, 7, 18, 15, 7, 8, 8, 9, 18, 11, 7, 9, 9, 15, 9, 8, 20, 18, 15, 9, 15, 15, 8, 9, 8, 9, 9, 8, 8, 8, 7, 17, 15, 11, 15, 9, 7, 8, 7, 8, 10, 7, 15, 8, 11, 15, 15, 15, 9, 9, 9, 15, 7, 9, 9, 15, 6, 8, 15, 9, 9, 9, 9, 7, 9, 15, 7, 11, 8, 11, 7, 3, 8, 6, 3, 9, 15, 8, 18, 9, 9, 11, 9, 11, 9, 7, 7, 19, 8, 7, 9, 7, 3, 8, 8, 8, 13, 9, 15, 16, 9, 9, 11, 7, 15, 7, 9, 17, 13, 7, 9, 7, 9, 15, 7, 15, 3, 7, 8, 15, 9, 8, 7, 18, 8, 8, 7, 15, 6, 8, 9, 11, 7, 15, 13, 9, 7, 9, 7, 8, 8, 8, 11, 7, 9, 9, 7, 9, 8, 15, 7, 8, 9, 15, 0, 9, 7, 7, 15, 8, 9, 9, 9, 11, 15, 9, 11, 8, 15, 11, 0, 11, 6, 8, 9, 9, 15, 8, 15, 7, 11, 15, 6, 8, 7, 6, 9, 11, 6, 8, 15, 7, 15, 8, 13, 9, 7, 9, 9, 7, 8, 8, 7, 7, 9, 8, 18, 15, 16, 18, 7, 9, 15, 9, 15, 8, 9, 15, 8, 8, 7, 8, 8, 3, 19, 8, 18, 18, 15, 9, 18, 9, 15, 13, 7, 7, 8, 15, 6, 7, 11, 9, 0, 17, 11, 9, 9, 7, 6, 7, 6, 9, 7, 11, 15, 8, 7, 8, 7, 9, 9, 7, 7, 9, 9, 11, 9, 8, 8, 6, 11, 11, 9, 7, 13, 8, 18, 11, 6, 7, 15, 11, 7, 9, 15, 7, 8, 20, 0, 9, 15, 11, 9, 8, 15, 9, 8, 6, 18, 11, 15, 10, 10, 7, 8, 18, 11, 8, 9, 10, 8, 6, 18, 14, 11, 15, 9, 8, 7, 18, 18, 9, 15, 15, 9, 18, 8, 15, 7, 9, 15, 15, 15, 15, 8, 8, 8, 8, 9, 9, 9, 7, 6, 8, 7, 18, 7, 7, 8, 8, 17, 8, 7, 7, 15, 7, 9, 6, 18, 8, 15, 9, 8, 15, 11, 7, 8, 11, 8, 9, 15, 9, 9, 7, 8, 9, 8, 11, 11, 8, 7, 6, 7, 9, 8, 10, 15, 7, 15, 7, 6, 7, 7, 9, 9, 8, 11, 9, 20, 7, 7, 9, 8, 9, 15, 15, 7, 15, 8, 8, 8, 18, 15, 9, 9, 8, 7, 9, 15, 15, 15, 9, 9, 7, 11, 15, 3, 9, 7, 11, 15, 8, 15, 9, 15, 9, 7, 9, 15, 6, 13, 0, 7, 15, 15, 11, 9, 9, 11, 9, 15, 11, 11, 11, 9, 6, 8, 18, 10, 8, 11, 7, 9, 15, 9, 11, 15, 11, 11, 9, 8, 7, 6, 9, 0, 7, 9, 15, 7, 9, 15, 8, 8, 7, 15, 7, 9, 3, 16, 8, 15, 7, 8, 6, 8, 0, 7, 11, 15, 6, 11, 15, 15, 9, 9, 8, 15, 9, 7, 7, 9, 0, 17, 7, 8, 15, 15, 9, 11, 18, 9, 9, 9, 17, 9, 7, 15, 15, 7, 8, 15, 15, 9, 9, 7, 15, 18, 7, 9, 15, 7, 6, 3, 13, 7, 7, 9, 15, 18, 7, 9, 8, 15, 15, 9, 15, 9, 8, 8, 9, 9, 9, 7, 8, 9, 9, 8, 7, 18, 10, 15, 11, 7, 20, 9, 15, 7, 9, 9, 20, 11, 8, 9, 9, 9, 15, 11, 7, 11, 15, 8, 9, 8, 9, 7, 8, 6, 13, 8, 9, 9, 15, 15, 8, 8, 11, 15, 9, 9, 9, 9, 13, 9, 15, 17, 9, 9, 18, 13, 9, 7, 18, 0, 7, 15, 6, 7, 7, 8, 11, 7, 8, 9, 8, 0, 7, 20, 9, 9, 9, 15, 9, 9, 9, 9, 9, 9, 7, 11, 11, 15, 11, 15, 6, 9, 7, 7, 7, 8, 8, 10, 7, 13, 9, 10, 7, 15, 9, 18, 11, 8, 13, 9, 15, 15, 15, 18, 15, 8, 7, 15, 9, 7, 9, 18, 8, 9, 9, 7, 15, 0, 8, 18, 7, 9, 15, 7, 10, 7, 7, 9, 9, 9, 9, 7, 9, 8, 15, 17, 9, 11, 15, 9, 18, 15, 7, 0, 9, 6, 15, 18, 15, 8, 18, 6, 8, 0, 9, 8, 7, 15, 8, 0, 9, 9, 7, 7, 8, 6, 7, 15, 7, 9, 7, 11, 8, 18, 15, 18, 7, 11, 7, 15, 8, 8, 9, 8, 9, 7, 11, 18, 9, 6, 15, 11, 11, 8, 6, 8, 8, 8, 7, 9, 8, 11, 8, 11, 9, 10, 18, 9, 18, 8, 18, 8, 7, 10, 11, 9, 11, 15, 7, 8, 8, 7, 11, 9, 0, 15, 15, 9, 9, 18, 11, 9, 8, 9, 8, 8, 9, 7, 16, 15, 9, 9, 15, 8, 18, 9, 9, 15, 15, 8, 7, 17, 7, 9, 6, 8, 17, 15, 8, 9, 18, 7, 6, 3, 9, 9, 7, 7, 7, 15, 9, 7, 8, 6, 13, 9, 9, 15, 15, 7, 7, 8, 8, 7, 13, 15, 7, 7, 15, 20, 9, 8, 7, 20, 8, 9, 9, 15, 0, 9, 8, 15, 6, 11, 7, 8, 15, 7, 20, 15, 8, 9, 9, 9, 7, 15, 7, 8, 8, 15, 9, 6, 8, 9, 11, 8, 9, 9, 3, 8, 7, 8, 8, 10, 7, 7, 11, 6, 11, 8, 9, 11, 15, 18, 7, 8, 15, 7, 8, 7, 8, 8, 15, 15, 6, 9, 19, 11, 8, 9, 8, 8, 7, 16, 7, 9, 7, 8, 11, 3, 7, 11, 15, 9, 9, 7, 9, 18, 7, 7, 3, 9, 9, 9, 15, 18, 18, 7, 9, 8, 8, 7, 8, 7, 8, 6, 18, 15, 7, 11, 8, 11, 8, 18, 9, 7, 18, 9, 9, 9, 20, 7, 18, 3, 9, 9, 7, 3, 11, 18, 8, 15, 9, 8, 7, 8, 8, 15, 11, 8, 9, 15, 15, 8, 9, 18, 7, 11, 18, 11, 7, 7, 7, 8, 15, 11, 9, 7, 15, 9, 8, 10, 9, 7, 15, 8, 17, 15, 8, 7, 7, 9, 7, 9, 8, 8, 8, 7, 9, 20, 7, 15, 8, 15, 8, 15, 15, 9, 3, 8, 9, 9, 8, 15, 9, 9, 9, 15, 11, 18, 8, 15, 6, 18, 17, 18, 8, 7, 16, 15, 8, 9, 7, 7, 9, 0, 8, 11, 9, 8, 9, 7, 11, 9, 0, 7, 15, 3, 9, 18, 15, 9, 9, 18, 18, 3, 6, 9, 13, 16, 8, 11, 15, 11, 9, 7, 9, 7, 9, 6, 20, 18, 7, 15, 18, 8, 9, 18, 7, 18, 9, 8, 8, 8, 15, 9, 7, 18, 11, 8, 17, 9, 18, 10, 0, 9, 18, 9, 8, 9, 18, 15, 15, 16, 3, 7, 8, 7, 8, 6, 3, 9, 15, 8, 13, 7, 9, 7, 18, 9, 7, 9, 11, 8, 8, 8, 9, 15, 7, 7, 7, 9, 7, 11, 15, 9, 9, 18, 13, 8, 15, 15, 15, 8, 15, 9, 8, 9, 14, 9, 7, 8, 11, 9, 10, 15, 15, 8, 9, 9, 8, 7, 9, 8, 19, 8, 8, 7, 7, 8, 9, 7, 8, 8, 15, 9, 17, 18, 15, 6, 9, 7, 9, 13, 18, 15, 15, 8, 9, 8, 18, 11, 15, 8, 3, 7, 18, 9, 8, 9, 8, 15, 7, 8, 15, 7, 7, 8, 9, 8, 9, 6, 8, 8, 7, 7, 9, 7, 8, 9, 9, 15, 7, 8, 8, 9, 17, 7, 11, 7, 9, 7, 11, 9, 15, 7, 8, 11, 14, 8, 18, 8, 15, 15, 9, 18, 15, 9, 15, 9, 9, 6, 16, 8, 20, 8, 15, 7, 9, 10, 7, 7, 6, 13, 11, 13, 9, 15, 8, 7, 11, 9, 7, 9, 11, 9, 8, 9, 15, 9, 8, 15, 7, 20, 9, 9, 8, 8, 8, 7, 15, 7, 8, 9, 13, 7, 9, 11, 7, 9, 15, 8, 11, 8, 11, 9, 8, 8, 7, 8, 8, 9, 15, 8, 9, 15, 20, 15, 11, 18, 8, 8, 15, 7, 7, 9, 7, 7, 8, 8, 18, 18, 9, 17, 7, 7, 8, 7, 7, 8, 15, 9, 8, 6, 15, 15, 8, 11, 11, 9, 8, 15, 15, 8, 9, 8, 8, 9, 9, 7, 17, 3, 7, 15, 9, 7, 7, 7, 7, 8, 8, 9, 8, 9, 18, 7, 8, 7, 15, 0, 10, 7, 9, 11, 11, 20, 7, 7, 6, 17, 9, 15, 7, 6, 9, 15, 9, 7, 8, 3, 15, 8, 9, 18, 8, 9, 9, 15, 8, 8, 8, 9, 8, 17, 9, 9, 8, 20, 18, 9, 7, 7, 15, 8, 19, 7, 15, 9, 6, 8, 15, 7, 6, 15, 0, 9, 9, 7, 15, 18, 6, 9, 7, 9, 7, 15, 17, 7, 11, 3, 9, 7, 15, 9, 9, 9, 17, 15, 3, 9, 15, 15, 13, 7, 9, 7, 7, 7, 15, 8, 15, 9, 9, 17, 9, 11, 8, 15, 7, 0, 9, 8, 9, 3, 4, 11, 8, 8, 17, 8, 11, 9, 11, 15, 7, 15, 7, 9, 7, 13, 11, 9, 7, 9, 11, 8, 15, 7, 6, 18, 8, 7, 8, 18, 9, 9, 7, 8, 7, 8, 8, 7, 7, 11, 7, 8, 15, 0, 7, 11, 15, 9, 13, 6, 7, 0, 8, 20, 11, 7, 18, 7, 8, 7, 15, 9, 0, 8, 17, 11, 15, 11, 9, 7, 9, 9, 8, 7, 15, 9, 8, 8, 7, 11, 18, 9, 15, 15, 20, 4, 8, 3, 3, 15, 19, 9, 6, 8, 7, 15, 7, 9, 18, 19, 8, 9, 10, 9, 9, 9, 7, 9, 7, 15, 15, 8, 18, 15, 15, 3, 9, 8, 7, 6, 7, 13, 7, 10, 9, 8, 7, 11, 8, 15, 9, 15, 15, 9, 7, 7, 15, 9, 8, 15, 7, 8, 20, 8, 6, 9, 8, 8, 7, 8, 17, 9, 8, 9, 9, 9, 15, 8, 11, 6, 9, 6, 7, 8, 9, 15, 9, 8, 9, 13, 8, 9, 9, 18, 8, 9, 20, 7, 9, 6, 9, 15, 15, 7, 13, 9, 15, 9, 15, 0, 15, 15, 9, 8, 11, 9, 7, 15, 7, 10, 9, 0, 8, 3, 7, 9, 9, 7, 15, 7, 8, 0, 9, 7, 11, 9, 7, 6, 15, 15, 7, 9, 8, 9, 15, 8, 8, 10, 8, 8, 9, 18, 8, 9, 7, 8, 8, 15, 3, 9, 9, 7, 7, 9, 9, 18, 9, 15, 8, 8, 8, 8, 8, 9, 15, 15, 8, 6, 9, 9, 7, 9, 8, 15, 15, 9, 11, 9, 7, 9, 8, 8, 9, 7, 8, 7, 9, 20, 13, 3, 8, 8, 9, 8, 7, 19, 8, 0, 7, 14, 9, 9, 7, 9, 15, 9, 7, 8, 9, 18, 7, 9, 15, 7, 8, 10, 9, 9, 7, 7, 9, 7, 7, 9, 8, 9, 3, 7, 7, 9, 15, 7, 8, 11, 11, 11, 0, 7, 9, 9, 10, 9, 6, 8, 9, 8, 9, 7, 13, 15, 15, 15, 11, 11, 9, 9, 15, 9, 7, 15, 7, 11, 9, 7, 8, 8, 0, 7, 13, 15, 8, 8, 9, 15, 8, 7, 15, 9, 9, 7, 8, 10, 18, 7, 18, 0, 11, 11, 17, 18, 8, 9, 15, 15, 15, 9, 8, 9, 11, 15, 0, 9, 11, 8, 9, 8, 15, 8, 9, 9, 9, 9, 7, 9, 8, 7, 7, 9, 9, 11, 9, 13, 8, 15, 7, 9, 10, 7, 7, 15, 9, 15, 7, 3, 15, 7, 3, 18, 7, 7, 15, 18, 8, 7, 9, 8, 7, 18, 8, 0, 10, 8, 8, 7, 7, 15, 8, 3, 10, 9, 8, 11, 8, 11, 15, 7, 6, 8, 15, 3, 8, 9, 7, 15, 7, 9, 9, 15, 15, 9, 7, 6, 8, 7, 11, 9, 7, 8, 7, 11, 15, 7, 8, 8, 15, 6, 9, 16, 8, 3, 8, 9, 9, 7, 9, 11, 9, 18, 15, 8, 7, 19, 8, 7, 8, 8, 8, 8, 9, 9, 11, 6, 7, 15, 7, 7, 7, 7, 7, 0, 15, 9, 9, 6, 9, 15, 9, 7, 8, 9, 20, 9, 15, 13, 11, 18, 11, 7, 9, 17, 15, 15, 9, 15, 8, 7, 8, 7, 9, 8, 8, 7, 15, 6, 9, 9, 15, 0, 9, 9, 7, 8, 6, 9, 8, 15, 15, 9, 8, 15, 9, 10, 7, 9, 15, 10, 15, 18, 15, 15, 7, 8, 11, 7, 9, 8, 9, 7, 3, 9, 9, 9, 8, 8, 9, 18, 16, 8, 7, 15, 15, 8, 6, 17, 7, 0, 8, 9, 8, 9, 8, 7, 13, 7, 9, 9, 7, 8, 18, 13, 15, 18, 14, 19, 15, 15, 8, 9, 7, 8, 19, 7, 15, 8, 10, 15, 8, 8, 9, 7, 15, 9, 8, 7, 17, 9, 8, 7, 9, 3, 3, 7, 18, 15, 7, 7, 10, 7, 9, 8, 9, 7, 15, 9, 18, 7, 7, 8, 9, 7, 9, 15, 9, 15, 19, 15, 9, 8, 15, 8, 8, 15, 0, 7, 15, 6, 15, 15, 11, 15, 8, 8, 9, 8, 9, 7, 7, 7, 9, 8, 9, 9, 7, 9, 15, 8, 9, 3, 9, 8, 7, 9, 7, 0, 9, 8, 15, 7, 8, 6, 15, 15, 7, 9, 8, 15, 15, 15, 6, 7, 15, 7, 8, 16, 7, 9, 9, 3, 7, 15, 18, 17, 9, 7, 9, 6, 7, 9, 0, 9, 15, 18, 11, 9, 20, 8, 7, 11, 9, 11, 18, 0, 15, 6, 9, 9, 8, 8, 8, 11, 8, 11, 9, 7, 7, 7, 8, 9, 9, 8, 18, 15, 7, 8, 9, 9, 8, 6, 18, 3, 15, 8, 9, 11, 9, 3, 8, 7, 8, 15, 9, 10, 8, 7, 9, 7, 15, 9, 7, 9, 15, 18, 20, 15, 19, 7, 8, 9, 15, 8, 15, 0, 18, 6, 9, 8, 8, 3, 9, 7, 20, 8, 9, 6, 15, 7, 7, 9, 9, 13, 9, 6, 7, 8, 7, 8, 13, 9, 8, 9, 9, 8, 11, 9, 7, 3, 8, 9, 9, 8, 15, 9, 20, 18, 8, 9, 15, 7, 15, 17, 8, 18, 8, 15, 10, 15, 7, 7, 8, 9, 18, 7, 9, 7, 18, 7, 8, 13, 7, 8, 9, 8, 8, 6, 8, 7, 8, 9, 8, 7, 7, 7, 8, 7, 18, 15, 3, 9, 8, 15, 15, 9, 15, 3, 20, 8, 18, 9, 9, 9, 9, 7, 11, 8, 15, 7, 9, 9, 9, 7, 7, 8, 9, 9, 9, 3, 18, 15, 15, 15, 15, 18, 18, 11, 18, 8, 9, 15, 3, 7, 9, 18, 8, 6, 9, 15, 8, 9, 7, 8, 8, 8, 9, 8, 9, 3, 7, 7, 9, 7, 8, 9, 9, 8, 9, 20, 9, 0, 7, 8, 9, 9, 0, 8, 8, 8, 8, 15, 15, 9, 15, 8, 7, 11, 6, 18, 9, 6, 7, 9, 9, 9, 15, 13, 15, 18, 18, 9, 9, 0, 6, 15, 7, 9, 7, 7, 16, 15, 6, 15, 9, 7, 3, 9, 9, 8, 8, 7, 7, 15, 9, 7, 9, 8, 15, 7, 7, 9, 11, 3, 9, 3, 8, 7, 15, 15, 11, 7, 15, 15, 6, 7, 19, 18, 7, 11, 7, 9, 7, 9, 18, 9, 9, 15, 6, 8, 8, 11, 8, 11, 18, 7, 9, 9, 9, 15, 6, 18, 6, 9, 17, 9, 17, 15, 0, 9, 11, 11, 18, 20, 18, 15, 8, 6, 7, 7, 11, 15, 8, 9, 17, 11, 7, 8, 9, 7, 18, 0, 9, 3, 7, 9, 15, 9, 8, 9, 9, 8, 7, 8, 9, 7, 7, 9, 9, 11, 7, 11, 9, 15, 15, 8, 9, 11, 8, 15, 7, 8, 7, 14, 8, 18, 15, 7, 7, 9, 6, 8, 9, 7, 9, 15, 8, 9, 9, 15, 9, 9, 15, 18, 7, 9, 9, 9, 7, 7, 15, 7, 8, 11, 6, 18, 9, 18, 9, 8, 9, 7, 3, 9, 11, 15, 0, 9, 7, 7, 11, 10, 11, 8, 8, 15, 18, 8, 18, 7, 9, 9, 9, 7, 15, 8, 6, 9, 8, 9, 11, 9, 8, 20, 8, 0, 15, 9, 8, 7, 8, 15, 8, 15, 8, 9, 7, 15, 17, 9, 18, 15, 7, 15, 15, 8, 7, 9, 8, 8, 7, 15, 15, 15, 11, 9, 9, 15, 7, 11, 3, 15, 7, 8, 17, 9, 17, 11, 15, 15, 8, 17, 8, 3, 15, 11, 9, 9, 15, 15, 7, 18, 18, 8, 7, 7, 9, 11, 9, 7, 6, 7, 7, 15, 7, 15, 15, 9, 8, 7, 7, 6, 7, 8, 9, 15, 9, 15, 7, 9, 8, 8, 11, 19, 13, 9, 11, 7, 7, 7, 8, 7, 3, 11, 8, 9, 11, 9, 13, 7, 7, 9, 11, 0, 8, 9, 8, 9, 9, 9, 8, 20, 7, 15, 8, 11, 8, 15, 15, 8, 9, 3, 9, 10, 15, 11, 8, 8, 7, 10, 6, 18, 9, 8, 9, 7, 15, 15, 8, 3, 7, 7, 15, 17, 15, 11, 9, 7, 7, 15, 7, 8, 8, 11, 9, 9, 9, 15, 7, 9, 9, 7, 9, 8, 8, 15, 8, 6, 8, 17, 17, 9, 8, 8, 15, 15, 8, 9, 9, 9, 15, 7, 8, 3, 15, 15, 8, 15, 8, 8, 8, 9, 15, 9, 7, 18, 8, 7, 9, 7, 8, 7, 15, 11, 9, 9, 15, 7, 8, 7, 7, 8, 8, 9, 7, 8, 9, 15, 11, 15, 7, 11, 11, 7, 9, 11, 18, 9, 15, 7, 7, 16, 16, 7, 8, 3, 8, 17, 11, 15, 8, 7, 15, 9, 9, 8, 19, 18, 8, 18, 11, 15, 15, 7, 8, 9, 9, 9, 9, 7, 8, 10, 8, 3, 8, 15, 3, 8, 7, 15, 8, 15, 9, 8, 18, 7, 8, 9, 15, 13, 9, 15, 7, 8, 7, 18, 3, 9, 8, 9, 9, 15, 7, 7, 15, 8, 7, 18, 10, 7, 15, 18, 9, 8, 9, 15, 17, 6, 9, 15, 18, 15, 13, 9, 7, 8, 8, 13, 11, 9, 15, 3, 8, 20, 9, 8, 18, 8, 9, 9, 11, 8, 16, 15, 15, 15, 7, 9, 6, 7, 8, 15, 10, 6, 11, 8, 8, 8, 6, 8, 10, 11, 7, 15, 20, 18, 11, 9, 8, 8, 7, 18, 9, 0, 9, 7, 11, 15, 18, 15, 8, 8, 15, 18, 8, 18, 15, 19, 11, 15, 8, 16, 13, 8, 15, 8, 16, 15, 8, 9, 8, 11, 3, 3, 3, 9, 9, 11, 7, 15, 8, 8, 0, 8, 9, 7, 15, 7, 8, 8, 7, 11, 9, 9, 8, 15, 9, 11, 6, 8, 9, 6, 8, 15, 7, 17, 7, 9, 7, 9, 7, 8, 15, 15, 9, 9, 7, 9, 15, 8, 15, 9, 8, 0, 8, 8, 17, 11, 11, 7, 7, 15, 7, 7, 7, 8, 8, 8, 15, 15, 11, 9, 9, 15, 9, 15, 15, 15, 14, 7, 7, 15, 15, 18, 9, 9, 15, 9, 8, 15, 8, 9, 15, 9, 9, 20, 9, 6, 7, 8, 15, 18, 15, 11, 15, 18, 9, 17, 15, 15, 8, 19, 9, 9, 15, 9, 20, 9, 7, 9, 9, 8, 8, 17, 7, 18, 15, 15, 8, 8, 15, 6, 8, 9, 9, 6, 18, 8, 0, 7, 3, 8, 11, 9, 7, 11, 9, 20, 9, 7, 15, 9, 8, 19, 18, 9, 7, 8, 8, 7, 15, 9, 9, 15, 15, 9, 8, 11, 11, 13, 7, 8, 9, 7, 9, 7, 15, 9, 15, 8, 9, 9, 9, 11, 8, 8, 10, 9, 8, 8, 9, 8, 9, 15, 8, 7, 8, 8, 11, 11, 7, 9, 9, 8, 11, 8, 9, 15, 15, 6, 8, 7, 15, 7, 15, 18, 15, 8, 7, 20, 7, 9, 15, 13, 0, 9, 8, 11, 8, 8, 9, 15, 20, 8, 10, 15, 7, 15, 8, 9, 15, 9, 7, 9, 8, 8, 10, 11, 15, 11, 9, 11, 8, 18, 15, 9, 6, 18, 9, 11, 8, 7, 11, 9, 8, 7, 8, 6, 8, 9, 0, 3, 11, 9, 3, 9, 9, 18, 9, 15, 11, 8, 7, 11, 7, 7, 15, 8, 7, 8, 18, 15, 9, 8, 16, 9, 19, 15, 9, 7, 8, 9, 11, 15, 9, 9, 8, 9, 8, 9, 17, 3, 11, 7, 15, 7, 3, 9, 9, 7, 8, 7, 8, 7, 13, 18, 7, 8, 7, 7, 15, 7, 9, 18, 9, 8, 3, 15, 9, 9, 15, 11, 11, 16, 7, 7, 15, 9, 20, 11, 9, 15, 11, 6, 9, 7, 8, 8, 9, 8, 17, 8, 7, 9, 8, 6, 13, 0, 8, 15, 9, 9, 8, 9, 9, 8, 7, 15, 7, 9, 7, 7, 8, 14, 7, 8, 11, 9, 11, 8, 3, 7, 9, 13, 7, 15, 9, 15, 18, 15, 9, 9, 15, 7, 9, 15, 18, 16, 13, 8, 7, 9, 9, 7, 8, 9, 10, 8, 15, 9, 9, 7, 15, 8, 7, 8, 17, 8, 10, 9, 7, 9, 15, 15, 13, 8, 18, 0, 9, 0, 15, 9, 12, 3, 8, 9, 8, 9, 7, 8, 7, 15, 6, 9, 9, 11, 8, 15, 8, 7, 8, 9, 9, 8, 7, 8, 0, 19, 6, 8, 9, 7, 9, 7, 9, 8, 8, 7, 15, 8, 7, 15, 7, 13, 11, 9, 20, 18, 8, 6, 7, 8, 7, 15, 7, 15, 9, 9, 9, 9, 15, 8, 3, 15, 9, 9, 9, 7, 7, 8, 8, 9, 8, 15, 9, 8, 6, 3, 11, 8, 18, 8, 0, 10, 9, 15, 9, 8, 9, 18, 8, 3, 7, 9, 18, 19, 7, 7, 8, 18, 7, 13, 8, 8, 8, 15, 8, 7, 15, 9, 9, 3, 9, 9, 15, 8, 9, 9, 9, 18, 11, 8, 15, 9, 13, 9, 7, 9, 9, 15, 9, 8, 9, 7, 18, 11, 9, 9, 16, 7, 9, 9, 3, 15, 8, 18, 11, 6, 15, 15, 9, 9, 7, 10, 8, 10, 9, 9, 7, 8, 15, 7, 7, 9, 8, 13, 9, 8, 9, 8, 8, 7, 7, 8, 7, 15, 9, 9, 7, 3, 8, 18, 15, 11, 15, 7, 11, 0, 7, 9, 9, 9, 11, 9, 8, 7, 15, 15, 8, 7, 9, 6, 11, 15, 15, 17, 15, 7, 8, 9, 20, 7, 9, 8, 15, 7, 7, 15, 9, 9, 18, 8, 7, 3, 15, 8, 16, 15, 7, 15, 15, 8, 11, 7, 9, 7, 7, 9, 0, 9, 18, 9, 9, 15, 7, 15, 9, 8, 15, 7, 15, 8, 9, 9, 8, 9, 15, 7, 10, 8, 8, 7, 8, 18, 15, 0, 18, 9, 11, 7, 15, 9, 18, 15, 7, 7, 9, 7, 9, 18, 6, 9, 7, 8, 8, 9, 7, 20, 8, 7, 9, 15, 7, 15, 15, 3, 15, 15, 9, 18, 15, 15, 9, 8, 7, 9, 7, 7, 8, 7, 3, 9, 11, 0, 11, 9, 7, 9, 7, 9, 11, 7, 8, 15, 9, 8, 6, 8, 7, 9, 7, 15, 9, 11, 9, 9, 18, 15, 20, 9, 7, 11, 20, 15, 8, 11, 7, 9, 15, 15, 9, 7, 8, 8, 8, 7, 10, 15, 7, 8, 8, 0, 15, 7, 9, 7, 15, 8, 15, 9, 6, 9, 8, 7, 18, 9, 9, 9, 8, 10, 9, 8, 9, 9, 8, 8, 7, 8, 8, 8, 7, 11, 9, 15, 10, 9, 9, 18, 9, 8, 7, 11, 7, 15, 8, 9, 8, 20, 7, 7, 15, 18, 7, 15, 8, 7, 15, 8, 7, 7, 9, 8, 8, 9, 9, 8, 7, 9, 6, 14, 9, 9, 8, 8, 11, 7, 9, 7, 7, 9, 7, 9, 9, 8, 13, 18, 7, 15, 8, 7, 8, 9, 15, 6, 10, 3, 8, 15, 9, 8, 7, 8, 15, 15, 7, 3, 6, 16, 18, 9, 7, 15, 8, 8, 9, 9, 17, 9, 6, 3, 7, 9, 10, 9, 15, 18, 8, 15, 7, 9, 0, 7, 3, 7, 15, 8, 7, 13, 6, 15, 15, 18, 15, 15, 0, 18, 9, 9, 8, 15, 7, 8, 9, 9, 11, 15, 8, 8, 16, 20, 15, 15, 15, 19, 3, 9, 9, 7, 9, 17, 15, 7, 15, 15, 8, 7, 9, 7, 11, 8, 9, 9, 7, 8, 9, 20, 7, 15, 15, 15, 8, 15, 8, 9, 7, 15, 18, 8, 9, 9, 7, 6, 15, 8, 18, 18, 7, 9, 7, 8, 8, 15, 15, 7, 7, 0, 15, 11, 7, 7, 7, 7, 7, 8, 11, 7, 17, 17, 15, 11, 9, 7, 8, 13, 8, 3, 18, 8, 8, 15, 9, 8, 9, 0, 8, 9, 7, 8, 7, 7, 15, 15, 9, 7, 8, 19, 15, 11, 20, 8, 7, 9, 8, 0, 9, 15, 9, 7, 16, 7, 18, 9, 11, 8, 13, 7, 9, 9, 9, 6, 7, 8, 18, 11, 9, 8, 7, 9, 18, 9, 9, 8, 20, 10, 7, 8, 8, 13, 8, 8, 15, 7, 8, 7, 9, 8, 9, 8, 7, 8, 8, 7, 7, 9, 14, 6, 6, 11, 8, 15, 9, 8, 8, 13, 7, 11, 8, 17, 7, 8, 9, 11, 18, 3, 18, 15, 9, 11, 15, 9, 15, 7, 15, 0, 8, 9, 15, 15, 8, 11, 7, 9, 8, 11, 15, 10, 11, 9, 9, 7, 15, 8, 15, 19, 7, 6, 15, 15, 9, 9, 7, 15, 11, 9, 13, 15, 6, 8, 7, 8, 18, 11, 8, 8, 9, 18, 13, 3, 6, 7, 8, 15, 7, 15, 15, 7, 15, 18, 8, 15, 8, 7, 3, 9, 17, 9, 15, 15, 8, 7, 9, 11, 11, 8, 7, 7, 15, 15, 9, 8, 9, 15, 15, 11, 8, 8, 8, 8, 8, 8, 13, 7, 7, 8, 7, 15, 7, 8, 7, 8, 15, 20, 0, 15, 15, 7, 7, 3, 18, 8, 9, 8, 20, 7, 13, 7, 15, 8, 20, 3, 7, 10, 9, 11, 9, 18, 11, 7, 9, 9, 7, 9, 15, 9, 8, 7, 7, 6, 18, 17, 20, 8, 7, 7, 8, 9, 9, 8, 7, 9, 20, 9, 8, 11, 10, 16, 7, 18, 9, 9, 13, 9, 6, 9, 9, 9, 7, 9, 7, 15, 9, 9, 13, 3, 9, 15, 6, 15, 15, 6, 13, 0, 15, 15, 18, 7, 9, 8, 9, 15, 8, 15, 0, 9, 7, 7, 15, 15, 17, 14, 3, 9, 7, 0, 9, 7, 7, 8, 16, 6, 7, 7, 8, 8, 7, 7, 9, 7, 7, 13, 11, 15, 15, 8, 9, 20, 8, 11, 8, 9, 15, 15, 15, 7, 15, 8, 15, 11, 15, 9, 7, 8, 8, 9, 7, 9, 8, 15, 8, 9, 9, 7, 7, 9, 15, 7, 7, 8, 18, 8, 8, 15, 9, 8, 15, 8, 8, 17, 7, 15, 15, 15, 8, 7, 8, 9, 18, 15, 13, 11, 7, 11, 15, 20, 8, 9, 6, 8, 17, 15, 9, 20, 9, 11, 10, 9, 18, 15, 17, 17, 15, 15, 9, 9, 8, 18, 11, 9, 15, 8, 9, 9, 8, 3, 8, 10, 9, 15, 8, 0, 15, 9, 7, 9, 7, 7, 9, 0, 8, 15, 15, 11, 13, 8, 6, 7, 8, 15, 9, 3, 8, 9, 15, 7, 9, 9, 6, 9, 15, 9, 7, 15, 9, 6, 8, 7, 9, 9, 8, 9, 7, 7, 7, 7, 7, 13, 17, 13, 9, 11, 7, 8, 7, 15, 9, 11, 9, 9, 9, 15, 15, 7, 9, 11, 7, 8, 15, 7, 9, 11, 7, 9, 9, 15, 8, 18, 17, 9, 10, 15, 8, 8, 6, 0, 9, 15, 18, 13, 8, 19, 11, 7, 7, 8, 11, 13, 9, 6, 18, 7, 6, 7, 8, 8, 11, 7, 9, 8, 9, 15, 9, 10, 8, 9, 9, 7, 15, 6, 11, 9, 0, 3, 11, 8, 9, 15, 15, 7, 8, 9, 8, 9, 18, 15, 7, 6, 7, 9, 8, 9, 7, 15, 18, 9, 8, 9, 6, 7, 15, 8, 9, 8, 8, 11, 8, 7, 9, 8, 8, 8, 15, 8, 20, 8, 8, 8, 8, 8, 8, 15, 13, 9, 9, 7, 8, 8, 15, 20, 15, 11, 7, 3, 15, 9, 7, 8, 15, 8, 7, 18, 9, 18, 7, 9, 15, 7, 7, 18, 8, 15, 11, 7, 7, 8, 7, 9, 7, 18, 8, 7, 8, 15, 7, 11, 9, 7, 9, 9, 11, 18, 17, 9, 8, 6, 8, 15, 8, 18, 10, 9, 7, 15, 3, 9, 9, 8, 9, 9, 18, 9, 9, 14, 9, 7, 8, 8, 9, 18, 11, 9, 13, 9, 15, 9, 7, 9, 15, 15, 18, 20, 7, 7, 9, 9, 11, 7, 15, 7, 9, 15, 7, 7, 7, 6, 8, 11, 9, 18, 11, 8, 11, 15, 8, 9, 15, 8, 8, 7, 8, 11, 3, 9, 9, 8, 9, 15, 7, 8, 9, 15, 15, 15, 8, 9, 18, 18, 7, 15, 0, 15, 11, 7, 8, 9, 9, 0, 8, 9, 9, 15, 7, 15, 11, 7, 18, 18, 8, 11, 8, 7, 7, 9, 8, 8, 9, 9, 18, 7, 9, 7, 7, 9, 7, 7, 15, 15, 7, 8, 9, 19, 6, 8, 15, 8, 7, 15, 8, 18, 9, 7, 13, 9, 15, 8, 11, 9, 18, 8, 3, 13, 7, 20, 9, 6, 8, 3, 7, 11, 7, 8, 8, 7, 9, 0, 7, 9, 7, 9, 15, 20, 9, 15, 9, 7, 7, 8, 9, 9, 0, 9, 11, 9, 15, 9, 9, 7, 7, 9, 6, 15, 8, 0, 9, 9, 9, 8, 8, 9, 17, 9, 8, 15, 8, 8, 7, 17, 15, 17, 9, 16, 9, 7, 7, 7, 19, 7, 7, 9, 15, 8, 12, 7, 3, 9, 9, 18, 15, 9, 11, 7, 11, 8, 7, 7, 8, 9, 18, 3, 7, 9, 0, 6, 9, 7, 7, 9, 18, 6, 9, 7, 0, 15, 7, 18, 7, 8, 8, 10, 6, 15, 15, 14, 6, 7, 18, 8, 18, 7, 18, 9, 11, 18, 15, 8, 15, 16, 9, 15, 6, 15, 7, 7, 8, 7, 7, 7, 9, 18, 9, 6, 8, 9, 7, 9, 9, 6, 8, 7, 9, 9, 7, 9, 8, 11, 15, 7, 11, 18, 8, 18, 18, 7, 15, 8, 20, 9, 9, 8, 7, 8, 0, 15, 3, 10, 8, 9, 9, 9, 19, 9, 15, 11, 8, 18, 18, 9, 9, 15, 9, 15, 9, 8, 8, 3, 18, 10, 9, 8, 6, 9, 7, 15, 9, 9, 7, 8, 6, 7, 20, 15, 10, 8, 9, 9, 9, 11, 9, 3, 9, 15, 18, 7, 20, 9, 9, 9, 7, 7, 19, 20, 8, 11, 7, 7, 8, 7, 11, 8, 7, 8, 8, 9, 9, 15, 19, 7, 0, 8, 18, 9, 15, 9, 9, 14, 7, 9, 3, 7, 8, 8, 8, 7, 9, 8, 15, 8, 9, 9, 9, 8, 8, 9, 18, 9, 8, 10, 8, 8, 7, 11, 8, 13, 6, 7, 9, 9, 9, 15, 9, 8, 8, 8, 8, 8, 8, 11, 15, 9, 7, 15, 7, 3, 7, 7, 9, 11, 20, 8, 9, 8, 7, 9, 7, 8, 9, 7, 7, 7, 9, 8, 15, 9, 11, 6, 3, 7, 7, 7, 7, 9, 9, 8, 9, 6, 9, 15, 8, 9, 15, 0, 6, 7, 7, 8, 7, 9, 9, 7, 7, 9, 15, 7, 0, 15, 8, 9, 8, 18, 7, 6, 11, 7, 8, 8, 11, 9, 11, 17, 9, 9, 8, 9, 8, 7, 18, 13, 8, 3, 11, 9, 18, 15, 9, 13, 8, 8, 11, 11, 8, 7, 9, 20, 9, 19, 20, 8, 7, 9, 8, 9, 15, 9, 9, 8, 6, 15, 8, 7, 9, 18, 7, 9, 8, 7, 8, 7, 8, 10, 15, 11, 19, 8, 15, 7, 9, 9, 15, 7, 9, 9, 8, 8, 9, 8, 8, 8, 20, 8, 7, 15, 8, 7, 15, 0, 8, 18, 15, 6, 9, 15, 9, 18, 15, 6, 6, 9, 19, 15, 7, 9, 9, 9, 8, 15, 11, 3, 9, 9, 8, 11, 18, 15, 8, 19, 8, 6, 8, 9, 9, 9, 11, 8, 8, 15, 8, 6, 8, 8, 0, 8, 8, 18, 7, 9, 19, 15, 3, 9, 8, 11, 7, 11, 8]\n"
          ],
          "name": "stdout"
        }
      ]
    },
    {
      "cell_type": "code",
      "metadata": {
        "id": "DS73OlFGfJM7",
        "colab_type": "code",
        "colab": {}
      },
      "source": [
        "#y_pred1=pd.DataFrame(y_pred)"
      ],
      "execution_count": 0,
      "outputs": []
    },
    {
      "cell_type": "code",
      "metadata": {
        "id": "UoervkWjfJM9",
        "colab_type": "code",
        "colab": {}
      },
      "source": [
        "test_out=encoder1.inverse_transform(y_pred)"
      ],
      "execution_count": 0,
      "outputs": []
    },
    {
      "cell_type": "code",
      "metadata": {
        "id": "rFtX-klwfJM_",
        "colab_type": "code",
        "colab": {}
      },
      "source": [
        "test_output=pd.DataFrame(test_out)"
      ],
      "execution_count": 0,
      "outputs": []
    },
    {
      "cell_type": "markdown",
      "metadata": {
        "id": "081eBWCKfJNA",
        "colab_type": "text"
      },
      "source": [
        "# Export of output"
      ]
    },
    {
      "cell_type": "code",
      "metadata": {
        "id": "FDf3tTCafJNA",
        "colab_type": "code",
        "colab": {}
      },
      "source": [
        "test_output.to_csv('CNNoutput.csv', index = 'categories')"
      ],
      "execution_count": 0,
      "outputs": []
    },
    {
      "cell_type": "code",
      "metadata": {
        "id": "Nr9gPM91fJNB",
        "colab_type": "code",
        "colab": {}
      },
      "source": [
        ""
      ],
      "execution_count": 0,
      "outputs": []
    }
  ]
}